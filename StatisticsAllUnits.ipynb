{
  "nbformat": 4,
  "nbformat_minor": 0,
  "metadata": {
    "colab": {
      "provenance": [],
      "collapsed_sections": [
        "gE-PCydKPHW7",
        "cG6jIBekatXS",
        "hMlOSn4UbKwf",
        "31QXM6a1evv3",
        "R2NHqKuMfqEH",
        "lVFa_80Qf5Zi",
        "l1WZ2mZJ5KF0",
        "0H3KqDxW38ds",
        "LS3R5DItDWFn",
        "Nfrwx5Pq71Hg",
        "ihdoVuHB-i8r",
        "kkurpQBhirEa",
        "aT50wHgEDDSP",
        "ztYXdFsUQQua",
        "meWUw43OOlb3",
        "ZNPlvRcJjzGL",
        "2PcFWiLYhdL5",
        "BTKtfwjnpXBk",
        "zX99BaY6u-XI",
        "Rjcj-ORoUk-m",
        "TQOphIVgU0TO",
        "qDja3JdTU4Nt",
        "ocnlWsfRnwUr",
        "PIscv2PaZU8j",
        "Z9aEWNynaF72",
        "1zOiw6Z_aciR",
        "iChvkFKAa5Dd"
      ]
    },
    "kernelspec": {
      "name": "python3",
      "display_name": "Python 3"
    },
    "language_info": {
      "name": "python"
    }
  },
  "cells": [
    {
      "cell_type": "markdown",
      "source": [
        "## **Team:**\n",
        "●\t Chinmayee Patankar(21bcs079)\n",
        "●\tShashank Rajora(21bcs106)\n",
        "●\tSamarth Shinde(21bcs110)\n"
      ],
      "metadata": {
        "id": "JDSNv9WlNFm0"
      }
    },
    {
      "cell_type": "code",
      "source": [
        "from google.colab import data_table\n",
        "data_table.enable_dataframe_formatter()"
      ],
      "metadata": {
        "id": "oXIltO-F-mgk"
      },
      "execution_count": null,
      "outputs": []
    },
    {
      "cell_type": "markdown",
      "source": [
        "---\n",
        "\n",
        "# Statistical analysis of Unit 2 - Parametric Hypothesis Tests"
      ],
      "metadata": {
        "id": "gE-PCydKPHW7"
      }
    },
    {
      "cell_type": "markdown",
      "source": [
        "## Data Prepocessing"
      ],
      "metadata": {
        "id": "cG6jIBekatXS"
      }
    },
    {
      "cell_type": "code",
      "source": [
        "import pandas as pd\n",
        "import numpy as np\n",
        "import matplotlib.pyplot as plt\n",
        "import scipy.stats as stats\n",
        "\n",
        "df = pd.read_csv('covid.csv')\n",
        "\n",
        "df = df.dropna(subset=['COVID-19 Deaths'])\n",
        "\n",
        "df = df.drop_duplicates()\n",
        "\n",
        "max_covid_deaths = 100000\n",
        "df['COVID-19 Deaths'] = df['COVID-19 Deaths'].apply(lambda x: min(x, max_covid_deaths))\n",
        "\n",
        "age_group_mapping = {\n",
        "    '0-24': 12,\n",
        "    '25-34': 29.5,\n",
        "    '35-44': 39.5,\n",
        "    '45-54': 49.5,\n",
        "    '55-64': 59.5,\n",
        "    '65-74': 69.5,\n",
        "    '75-84': 79.5,\n",
        "    '85+': 89.5\n",
        "}\n",
        "\n",
        "df['Age Group'] = df['Age Group'].map(age_group_mapping)\n",
        "\n",
        "df['COVID-19 Deaths'] = (df['COVID-19 Deaths'] - df['COVID-19 Deaths'].min()) / (df['COVID-19 Deaths'].max() -\n",
        "                                                                                 df['COVID-19 Deaths'].min())\n",
        "\n",
        "df.to_csv('cleaned_normalized_data.csv', index=False)\n",
        "\n",
        "df_normal = pd.read_csv('cleaned_normalized_data.csv')\n",
        "\n",
        "selected_columns = [\"Age Group\", \"COVID-19 Deaths\"]\n",
        "print(df_normal[selected_columns])\n"
      ],
      "metadata": {
        "colab": {
          "base_uri": "https://localhost:8080/"
        },
        "id": "wdlZTSYmWSl7",
        "outputId": "9fac9ed9-4727-4136-ef5e-9b0bbe50f5bb"
      },
      "execution_count": null,
      "outputs": [
        {
          "output_type": "stream",
          "name": "stdout",
          "text": [
            "        Age Group  COVID-19 Deaths\n",
            "0            12.0          0.01561\n",
            "1            29.5          0.05782\n",
            "2            39.5          0.15040\n",
            "3            49.5          0.37357\n",
            "4            59.5          0.82454\n",
            "...           ...              ...\n",
            "420620        NaN          0.00050\n",
            "420621        NaN          0.00044\n",
            "420622        NaN          0.00066\n",
            "420623        NaN          0.00117\n",
            "420624        NaN          0.00056\n",
            "\n",
            "[420625 rows x 2 columns]\n"
          ]
        }
      ]
    },
    {
      "cell_type": "markdown",
      "source": [
        "## Sampling\n"
      ],
      "metadata": {
        "id": "hMlOSn4UbKwf"
      }
    },
    {
      "cell_type": "code",
      "source": [
        "young_age_threshold = 50\n",
        "old_age_threshold = 50\n",
        "\n",
        "young_age_group = df[df['Age Group'] < young_age_threshold]\n",
        "old_age_group = df[df['Age Group'] > old_age_threshold]\n",
        "\n",
        "sample_size = 30\n",
        "\n",
        "if len(young_age_group) >= sample_size:\n",
        "    sampled_young_age_group = young_age_group.sample(n=sample_size, replace=False, random_state=42)\n",
        "else:\n",
        "    sampled_young_age_group = young_age_group\n",
        "\n",
        "if len(old_age_group) >= sample_size:\n",
        "    sampled_old_age_group = old_age_group.sample(n=sample_size, replace=False, random_state=42)\n",
        "else:\n",
        "    sampled_old_age_group = old_age_group\n",
        "\n",
        "selected_columns = [\"Age Group\",\"COVID-19 Deaths\"]\n",
        "print(sampled_old_age_group[selected_columns])"
      ],
      "metadata": {
        "id": "-xY5URyVVVy3",
        "colab": {
          "base_uri": "https://localhost:8080/"
        },
        "outputId": "5f94a96b-bd25-4c17-f272-fb0efbff1e58"
      },
      "execution_count": null,
      "outputs": [
        {
          "output_type": "stream",
          "name": "stdout",
          "text": [
            "        Age Group  COVID-19 Deaths\n",
            "220105       59.5          0.00340\n",
            "265667       59.5          0.00000\n",
            "150555       89.5          0.00038\n",
            "159613       89.5          0.00000\n",
            "556071       89.5          0.00082\n",
            "37167        79.5          0.00010\n",
            "102359       79.5          0.00033\n",
            "2576         79.5          0.00211\n",
            "579613       69.5          0.00000\n",
            "107936       69.5          0.00000\n",
            "87286        69.5          0.00000\n",
            "459261       79.5          0.00257\n",
            "470836       69.5          0.00000\n",
            "344784       59.5          0.00000\n",
            "51611        89.5          0.00022\n",
            "397734       69.5          0.00038\n",
            "2684         59.5          0.00831\n",
            "264412       59.5          0.00000\n",
            "463462       59.5          0.00000\n",
            "208213       89.5          0.00000\n",
            "416163       59.5          0.00000\n",
            "17203        69.5          0.00025\n",
            "135391       59.5          0.00000\n",
            "54317        59.5          0.00721\n",
            "362441       59.5          0.00000\n",
            "267395       59.5          0.00000\n",
            "229591       69.5          0.00018\n",
            "121732       79.5          0.00022\n",
            "203828       79.5          0.00000\n",
            "310831       59.5          0.00191\n"
          ]
        }
      ]
    },
    {
      "cell_type": "markdown",
      "source": [
        "## **One-sample Z-test**\n",
        "\n",
        "### **Hypothesis**\n",
        "\n",
        "**Null Hypothesis** (H0): The mean COVID-19 death rate in the \"old age\" group is equal to 0.001.\n",
        "\n",
        "**Alternative Hypothesis** (Ha): The mean COVID-19 death rate in the \"old age\" group is not equal to 0.001."
      ],
      "metadata": {
        "id": "31QXM6a1evv3"
      }
    },
    {
      "cell_type": "code",
      "source": [
        "specific_value = 0.001\n",
        "\n",
        "mean_old_age = np.mean(sampled_old_age_group['COVID-19 Deaths'])\n",
        "mean_young_age = np.mean(sampled_young_age_group['COVID-19 Deaths'])\n",
        "std_dev_old_age = np.std(sampled_old_age_group['COVID-19 Deaths'], ddof=1)\n",
        "std_dev_young_age = np.std(sampled_young_age_group['COVID-19 Deaths'], ddof=1)\n",
        "\n",
        "n_old_age = len(sampled_old_age_group)\n",
        "n_young_age = len(sampled_young_age_group)\n",
        "\n",
        "old_age_group_deaths = sampled_old_age_group['COVID-19 Deaths']\n",
        "\n",
        "mean_old_age_group = np.mean(old_age_group_deaths)\n",
        "std_dev_old_age_group = np.std(old_age_group_deaths, ddof=1)\n",
        "\n",
        "se = std_dev_old_age_group / np.sqrt(len(old_age_group_deaths))\n",
        "\n",
        "z_score = (mean_old_age_group - specific_value) / se\n",
        "\n",
        "alpha = 0.05\n",
        "\n",
        "critical_value = stats.norm.ppf(1 - alpha/2)\n",
        "\n",
        "p_value = 2 * (1 - stats.norm.cdf(abs(z_score)))\n",
        "\n",
        "margin_of_error = critical_value * se\n",
        "confidence_interval = (mean_old_age - mean_young_age - margin_of_error, mean_old_age - mean_young_age + margin_of_error)\n",
        "\n",
        "if abs(z_score) > critical_value:\n",
        "    print(\"Reject the null hypothesis: the mean is not equal\")\n",
        "else:\n",
        "    print(\"Fail to reject the null hypothesis: the mean is equal\")\n",
        "\n",
        "print(\"Z-score:\", z_score)\n",
        "print(\"Critical value:\", critical_value)\n",
        "print(\"Confidence Interval:\", confidence_interval)"
      ],
      "metadata": {
        "id": "sfvOElFJVYVM",
        "colab": {
          "base_uri": "https://localhost:8080/"
        },
        "outputId": "40810199-2c2a-405d-f835-d6a4c2d117ee"
      },
      "execution_count": null,
      "outputs": [
        {
          "output_type": "stream",
          "name": "stdout",
          "text": [
            "Fail to reject the null hypothesis: the mean is equal\n",
            "Z-score: -0.14348281001834676\n",
            "Critical value: 1.959963984540054\n",
            "Confidence Interval: (0.00017125085590252958, 0.001637415810764137)\n"
          ]
        }
      ]
    },
    {
      "cell_type": "code",
      "source": [
        "x = np.linspace(-5, 5, 1000)\n",
        "\n",
        "pdf = stats.norm.pdf(x, loc=0, scale=1)\n",
        "\n",
        "z_calculated = z_score\n",
        "\n",
        "z_critical = critical_value\n",
        "\n",
        "plt.figure(figsize=(8, 5))\n",
        "\n",
        "plt.plot(x, pdf, label='Standard Normal Distribution (Z)', color='blue')\n",
        "\n",
        "plt.fill_between(x, pdf, where=(x <= -z_critical) | (x >= z_critical), color='red', alpha=0.5, label='Critical Region')\n",
        "\n",
        "plt.axvline(z_calculated, color='green', linestyle='--', label=f'Calculated Z-statistic: {z_calculated:.2f}')\n",
        "\n",
        "plt.title('One-Sample Z-Test')\n",
        "plt.xlabel('Z-Statistic')\n",
        "plt.ylabel('Probability Density')\n",
        "plt.legend()\n",
        "plt.grid(True)\n",
        "\n",
        "plt.show()"
      ],
      "metadata": {
        "id": "ZBt6NADaVc0U",
        "colab": {
          "base_uri": "https://localhost:8080/",
          "height": 487
        },
        "outputId": "22d4823f-e0e4-4663-d418-fb330da3580b"
      },
      "execution_count": null,
      "outputs": [
        {
          "output_type": "display_data",
          "data": {
            "text/plain": [
              "<Figure size 800x500 with 1 Axes>"
            ],
            "image/png": "[encoded data removed]"
          },
          "metadata": {}
        }
      ]
    },
    {
      "cell_type": "markdown",
      "source": [
        "## **Two-sample Z-test**\n",
        "\n",
        "### **Hypothesis**\n",
        "\n",
        "**Null Hypothesis** (H0): There is no significant difference between the mean COVID-19 death rate of the two populations (old age and young age).\n",
        "\n",
        "**Alternative Hypothesis** (Ha): There is a significant difference between the mean COVID-19 death rate of the two populations."
      ],
      "metadata": {
        "id": "R2NHqKuMfqEH"
      }
    },
    {
      "cell_type": "code",
      "source": [
        "se = np.sqrt((std_dev_old_age**2 / n_old_age) + (std_dev_young_age**2 / n_young_age))\n",
        "\n",
        "z_score = (mean_old_age - mean_young_age) / se\n",
        "\n",
        "alpha = 0.05\n",
        "\n",
        "critical_value = stats.norm.ppf(1 - alpha/2)\n",
        "\n",
        "p_value = 2 * (1 - stats.norm.cdf(abs(z_score)))\n",
        "\n",
        "margin_of_error = critical_value * se\n",
        "confidence_interval = (mean_old_age - mean_young_age - margin_of_error, mean_old_age - mean_young_age + margin_of_error)\n",
        "\n",
        "if abs(z_score) > critical_value:\n",
        "    print(\"Reject the null hypothesis: There is difference in death rate for two populations\")\n",
        "else:\n",
        "    print(\"Fail to reject the null hypothesis: : There is no difference in death rate for two populations\")\n",
        "\n",
        "print(\"Z-score:\", z_score)\n",
        "print(\"critical value:\", critical_value)\n",
        "print(\"Confidence Interval:\", confidence_interval)\n"
      ],
      "metadata": {
        "id": "HIlqV7TrVf2E",
        "colab": {
          "base_uri": "https://localhost:8080/"
        },
        "outputId": "37c8f816-67f2-4ec7-b69b-2eba08946bf4"
      },
      "execution_count": null,
      "outputs": [
        {
          "output_type": "stream",
          "name": "stdout",
          "text": [
            "Reject the null hypothesis: There is difference in death rate for two populations\n",
            "Z-score: 2.4097065294979236\n",
            "critical value: 1.959963984540054\n",
            "Confidence Interval: (0.00016878286623073083, 0.0016398838004359358)\n"
          ]
        }
      ]
    },
    {
      "cell_type": "code",
      "source": [
        "x = np.linspace(-5, 5, 1000)\n",
        "\n",
        "pdf = stats.norm.pdf(x, loc=0, scale=1)\n",
        "\n",
        "z_tabulated = critical_value\n",
        "\n",
        "z_calculated = z_score\n",
        "\n",
        "plt.figure(figsize=(8, 5))\n",
        "\n",
        "plt.plot(x, pdf, label='Standard Normal Distribution (Z)', color='blue')\n",
        "\n",
        "plt.fill_between(x, pdf, where=(x <= -z_tabulated) | (x >= z_tabulated), color='red', alpha=0.5, label='Critical Region')\n",
        "\n",
        "plt.axvline(x=z_calculated, color='green', linestyle='--', label=f'Calculated Z-statistic: {z_calculated:.2f}')\n",
        "\n",
        "plt.title('Two-Sample Z-Test')\n",
        "plt.xlabel('Z-Statistic')\n",
        "plt.ylabel('Probability Density')\n",
        "plt.legend()\n",
        "plt.grid(True)\n",
        "\n",
        "plt.show()\n"
      ],
      "metadata": {
        "id": "DnfUc6oeVpuH",
        "colab": {
          "base_uri": "https://localhost:8080/",
          "height": 487
        },
        "outputId": "a8923df3-a78b-4990-fb60-eb7397309f9d"
      },
      "execution_count": null,
      "outputs": [
        {
          "output_type": "display_data",
          "data": {
            "text/plain": [
              "<Figure size 800x500 with 1 Axes>"
            ],
            "image/png": "[encoded data removed]"
          },
          "metadata": {}
        }
      ]
    },
    {
      "cell_type": "markdown",
      "source": [
        "## **z-Test for a Population Proportion**\n",
        "\n",
        "### **Hypothesis**\n",
        "\n",
        "**Null Hypothesis** (H0): The sample proportion is equal to the specified population proportion (null_hypothesis_prop). In other words, there is no significant difference between the sample and population proportions.\n",
        "\n",
        "**Alternative Hypothesis** (Ha): The sample proportion is not equal to the specified population proportion, indicating a significant difference between the two proportions."
      ],
      "metadata": {
        "id": "lVFa_80Qf5Zi"
      }
    },
    {
      "cell_type": "code",
      "source": [
        "sample_successes = 150\n",
        "sample_size = 500\n",
        "\n",
        "null_hypothesis_prop = 0.28\n",
        "\n",
        "sample_proportion = sample_successes / sample_size\n",
        "\n",
        "standard_error = np.sqrt((null_hypothesis_prop * (1 - null_hypothesis_prop)) / sample_size)\n",
        "\n",
        "z_score = (sample_proportion - null_hypothesis_prop) / standard_error\n",
        "\n",
        "alpha = 0.05\n",
        "\n",
        "critical_value = stats.norm.ppf(1 - alpha)\n",
        "\n",
        "confidence_interval = (\n",
        "    sample_proportion - margin_of_error,\n",
        "    sample_proportion + margin_of_error\n",
        ")\n",
        "\n",
        "if z_score > critical_value:\n",
        "    print(\"Reject the null hypothesis: there is difference between the sample and population proportions.\")\n",
        "else:\n",
        "    print(\"Fail to reject the null hypothesis: there is no significant difference between the sample and population proportions.\")\n",
        "\n",
        "print(\"Z-score:\", z_score)\n",
        "print(\"Critical Value (Z):\", critical_value)\n",
        "print(\"Confidence Interval:\", confidence_interval)"
      ],
      "metadata": {
        "id": "0SFlXmLAVst9",
        "colab": {
          "base_uri": "https://localhost:8080/"
        },
        "outputId": "45de7fca-45b7-4988-e83e-a3181963bd3c"
      },
      "execution_count": null,
      "outputs": [
        {
          "output_type": "stream",
          "name": "stdout",
          "text": [
            "Fail to reject the null hypothesis: there is no significant difference between the sample and population proportions.\n",
            "Z-score: 0.9960238411119929\n",
            "Critical Value (Z): 1.6448536269514722\n",
            "Confidence Interval: (0.2992644495328974, 0.3007355504671026)\n"
          ]
        }
      ]
    },
    {
      "cell_type": "markdown",
      "source": [
        "The code is to be generate a plot for a one-sample Z-test for proportions. This type of statistical test is commonly used to determine whether a sample proportion is significantly different from a hypothesized population proportion.\n",
        "\n",
        "The plot will visualize the critical region and the position of your calculated Z-statistic, helping you make a decision about your hypothesis test."
      ],
      "metadata": {
        "id": "KO7mmQzek43_"
      }
    },
    {
      "cell_type": "code",
      "source": [
        "x = np.linspace(-5, 5, 1000)\n",
        "\n",
        "pdf = stats.norm.pdf(x, loc=0, scale=1)\n",
        "\n",
        "critical_value = critical_value\n",
        "\n",
        "z_calculated = z_score\n",
        "\n",
        "plt.figure(figsize=(8, 5))\n",
        "\n",
        "plt.plot(x, pdf, label='Standard Normal Distribution (Z)', color='blue')\n",
        "\n",
        "plt.fill_between(x, pdf, where=(x <= -critical_value) | (x >= critical_value), color='red', alpha=0.5, label='Critical Region')\n",
        "\n",
        "plt.axvline(x=z_calculated, color='green', linestyle='--', label=f'Calculated Z-statistic: {z_calculated:.2f}')\n",
        "\n",
        "plt.title('One-Sample Z-Test for Proportion')\n",
        "plt.xlabel('Z-Statistic')\n",
        "plt.ylabel('Probability Density')\n",
        "plt.legend()\n",
        "plt.grid(True)\n",
        "\n",
        "plt.show()\n"
      ],
      "metadata": {
        "id": "G3nLIlrlVvA3",
        "colab": {
          "base_uri": "https://localhost:8080/",
          "height": 487
        },
        "outputId": "fd52d1ec-49ca-49aa-99f5-22aedd418ca7"
      },
      "execution_count": null,
      "outputs": [
        {
          "output_type": "display_data",
          "data": {
            "text/plain": [
              "<Figure size 800x500 with 1 Axes>"
            ],
            "image/png": "[encoded data removed]"
          },
          "metadata": {}
        }
      ]
    },
    {
      "cell_type": "markdown",
      "source": [
        "## Data Preprocessing"
      ],
      "metadata": {
        "id": "l1WZ2mZJ5KF0"
      }
    },
    {
      "cell_type": "code",
      "source": [
        "import pandas as pd\n",
        "import statistics as stat\n",
        "import numpy as np\n",
        "from sklearn.preprocessing import StandardScaler\n",
        "from scipy.stats import t\n",
        "df=pd.read_csv(\"covid.csv\")\n",
        "columns_to_normalize = ['COVID-19 Deaths']  # Replace with your columns\n",
        "scaler = StandardScaler()\n",
        "df[columns_to_normalize] = scaler.fit_transform(df[columns_to_normalize])\n",
        "filtered_df = df[df['Condition'] == 'Influenza and pneumonia'].dropna(subset=['COVID-19 Deaths'])\n",
        "dataforinfluenza = filtered_df['COVID-19 Deaths'].values\n",
        "#print(len(dataforinfluenza))\n",
        "population_mean=np.mean(dataforinfluenza)"
      ],
      "metadata": {
        "id": "QNoX6U1H4iME"
      },
      "execution_count": null,
      "outputs": []
    },
    {
      "cell_type": "code",
      "source": [
        "sample_size=25\n",
        "sampled_data = np.random.choice(dataforinfluenza, size=sample_size, replace=False)\n",
        "print(sampled_data)"
      ],
      "metadata": {
        "id": "u8JprdgI5l8b",
        "colab": {
          "base_uri": "https://localhost:8080/"
        },
        "outputId": "f73a1526-9160-4ca8-d59f-c1a26a8844e8"
      },
      "execution_count": null,
      "outputs": [
        {
          "output_type": "stream",
          "name": "stdout",
          "text": [
            "[-0.03706513 -0.02614791 -0.03739596 -0.03739596 -0.04103503 -0.03772678\n",
            " -0.04103503 -0.00629842 -0.03044863 -0.04103503  0.04067872 -0.01258409\n",
            " -0.03574183 -0.04103503 -0.00067439 -0.03706513 -0.03276441 -0.04103503\n",
            " -0.01357656 -0.04103503 -0.01721564 -0.04103503 -0.04103503 -0.03640348\n",
            " -0.04103503]\n"
          ]
        }
      ]
    },
    {
      "cell_type": "markdown",
      "source": [
        "Introduction:\n",
        "\"The purpose of this study was to investigate whether the mean number of COVID-19 deaths for the '0-24' age group with the 'Influenza and pneumonia' condition is statistically equal to 350.\"\n"
      ],
      "metadata": {
        "id": "bj4t07_p4kCZ"
      }
    },
    {
      "cell_type": "markdown",
      "source": [
        "## **T test for one Sample**\n",
        "\n",
        "### **Hypothesis**\n",
        "\n",
        "**Null Hypothesis** (H0):The mean number of COVID-19 deaths for the \"0-24\" age group with the \"Influenza and pneumonia\" condition is equal to a 350\n",
        "\n",
        "**Alternative Hypothesis** (H1):The mean number of COVID-19 deaths for the \"0-24\" age group with the \"Influenza and pneumonia\" condition is not equal to 350\n",
        "\n",
        "\n"
      ],
      "metadata": {
        "id": "0H3KqDxW38ds"
      }
    },
    {
      "cell_type": "code",
      "source": [
        "n=len(dataforinfluenza)\n",
        "sample_mean = sum(sampled_data) / len(sampled_data)\n",
        "sample_standarddeviation = (sum((x - sample_mean) ** 2 for x in sampled_data) / (len(sampled_data) - 1)) ** 0.5\n",
        "standard_error = sample_standarddeviation / (len(sampled_data) ** 0.5)\n",
        "t_calculated = abs(sample_mean - population_mean) / standard_error\n",
        "t_tabulated=2.0639\n",
        "print(\"size of sample is\",n)\n",
        "print(\"degree of freedom is\",n-1)\n",
        "\n",
        "print(\"here t_calculated is \",t_calculated )\n",
        "print(\"t_tabulated is\",t_tabulated)\n",
        "level_of_significance=0.05\n",
        "degreeoffreedom=n-1\n",
        "\n",
        "\n",
        "if(t_calculated<=t_tabulated):\n",
        "  print(\"Null hypothesis is accepted\")\n",
        "else:\n",
        "  print(\"Null hypothesis is rejected\")"
      ],
      "metadata": {
        "colab": {
          "base_uri": "https://localhost:8080/"
        },
        "id": "-ldWmueQ5zbn",
        "outputId": "a053445c-02fe-4800-ece0-428fd116b3c9"
      },
      "execution_count": null,
      "outputs": [
        {
          "output_type": "stream",
          "name": "stdout",
          "text": [
            "size of sample is 18818\n",
            "degree of freedom is 18817\n",
            "here t_calculated is  26.298602467101237\n",
            "t_tabulated is 2.0639\n",
            "Null hypothesis is rejected\n"
          ]
        }
      ]
    },
    {
      "cell_type": "code",
      "source": [
        "# Calculate the margin of error\n",
        "margin_of_error = t_tabulated * standard_error\n",
        "\n",
        "# Calculate the confidence interval\n",
        "confidence_interval_lower = sample_mean - margin_of_error\n",
        "confidence_interval_upper = sample_mean + margin_of_error\n",
        "\n",
        "# Print the confidence interval\n",
        "print(f'Confidence Interval ({100-level_of_significance * 100}%): [{confidence_interval_lower:.4f}, {confidence_interval_upper:.4f}]')"
      ],
      "metadata": {
        "id": "IVBajojS667E",
        "colab": {
          "base_uri": "https://localhost:8080/"
        },
        "outputId": "fadc586c-f466-46fa-d027-9fb658f5f0a8"
      },
      "execution_count": null,
      "outputs": [
        {
          "output_type": "stream",
          "name": "stdout",
          "text": [
            "Confidence Interval (95.0%): [-0.0369, -0.0213]\n"
          ]
        }
      ]
    },
    {
      "cell_type": "code",
      "source": [
        "import matplotlib.pyplot as plt\n",
        "x = np.linspace(-5, 5, 1000)\n",
        "pdf = t.pdf(x, degreeoffreedom)\n",
        "plt.figure(figsize=(8, 5))\n",
        "plt.plot(x, pdf, label=f't-Distribution (df={degreeoffreedom})', color='blue')\n",
        "\n",
        "\n",
        "plt.fill_between(x, pdf, where=(x <= -t_tabulated) | (x >= t_tabulated), color='red', alpha=0.5, label='Critical Region')\n",
        "\n",
        "\n",
        "plt.axvline(x=t_calculated, color='green', linestyle='--', label=f'Calculated t-statistic: {t_calculated:.2f}')\n",
        "\n",
        "\n",
        "plt.title('One-Sample t-Test')\n",
        "plt.xlabel('t-Statistic')\n",
        "plt.ylabel('Probability Density')\n",
        "plt.legend()\n",
        "\n",
        "\n",
        "plt.grid(True)\n",
        "plt.show()"
      ],
      "metadata": {
        "id": "oo4l50Wx7N50",
        "colab": {
          "base_uri": "https://localhost:8080/",
          "height": 487
        },
        "outputId": "02742650-da7d-4de1-8026-4f125e4c8685"
      },
      "execution_count": null,
      "outputs": [
        {
          "output_type": "display_data",
          "data": {
            "text/plain": [
              "<Figure size 800x500 with 1 Axes>"
            ],
            "image/png": "[encoded data removed]"
          },
          "metadata": {}
        }
      ]
    },
    {
      "cell_type": "markdown",
      "source": [
        "## **Paired t Test**\n",
        "\n",
        "**Null Hypothesis** (H0): There is no average difference in 'COVID-19 Deaths' between the two conditions (Respiratory diseases and Circulatory diseases) at the population level at α = 0.05\n",
        "\n",
        "**Alternative Hypothesis** (H1):there is a significant difference in the population mean of the differences in 'COVID-19 Deaths' between the two conditions at α = 0.05."
      ],
      "metadata": {
        "id": "LS3R5DItDWFn"
      }
    },
    {
      "cell_type": "code",
      "source": [
        "import pandas as pd\n",
        "\n",
        "# Extract the relevant columns and exclude null values\n",
        "condition1_data = df.loc[(df['Condition Group'] == 'Respiratory diseases') & (df['COVID-19 Deaths'].notnull()) & (df['COVID-19 Deaths'] != 0), 'COVID-19 Deaths']\n",
        "condition2_data = df.loc[(df['Condition Group'] == 'Circulatory diseases') & (df['COVID-19 Deaths'].notnull()) & (df['COVID-19 Deaths'] != 0), 'COVID-19 Deaths']\n",
        "\n",
        "# Check if each condition has at least 13 non-null data points\n",
        "if len(condition1_data) < 13 or len(condition2_data) < 13:\n",
        "    print(\"Not enough non-null data points in one or both conditions.\")\n",
        "else:\n",
        "      # Randomly sample 13 non-null data points from each condition\n",
        "    sample_size = 13\n",
        "    condition1_sample = condition1_data.sample(n=sample_size, random_state=42).reset_index(drop=True)\n",
        "    condition2_sample = condition2_data.sample(n=sample_size, random_state=42).reset_index(drop=True)\n",
        "\n",
        "\n",
        "# Calculate the differences\n",
        "differences = condition1_sample - condition2_sample\n",
        "\n",
        "# Calculate the mean of the differences\n",
        "mean_diff = differences.mean()\n",
        "\n",
        "# Calculate the standard deviation of the differences\n",
        "std_diff = differences.std()\n",
        "\n",
        "# Calculate the number of pairs\n",
        "n = len(differences)\n",
        "\n",
        "# Calculate the t-statistic\n",
        "t_statistic = mean_diff / (std_diff / (n ** 0.5))\n",
        "\n",
        "# Degrees of freedom for a paired t-test\n",
        "degrees_of_freedom = n - 1\n",
        "\n",
        "# Assuming a two-tailed test\n",
        "alpha = 0.05\n",
        "t_critical = 2.048  # t critical value for df = 19 at alpha = 0.05 (you can find this value in a t-table)\n",
        "\n",
        "# Calculate the p-value\n",
        "p_value = 2 * (1 - stats.t.cdf(abs(t_statistic), df=degrees_of_freedom))\n",
        "\n",
        "# Display the results\n",
        "print(f\"T-statistic: {t_statistic}\")\n",
        "print(f\"t_critical: {t_critical}\")\n",
        "\n",
        "# Check if the result is statistically significant\n",
        "if p_value < alpha:\n",
        "    print(\"Reject the null hypothesis: There is a significant difference between the conditions.\")\n",
        "else:\n",
        "    print(\"Fail to reject the null hypothesis: There is no significant difference between the conditions.\")\n"
      ],
      "metadata": {
        "colab": {
          "base_uri": "https://localhost:8080/"
        },
        "id": "FUSl8RZAGRLm",
        "outputId": "7b06e2f6-13df-43eb-86fd-0ed1caf6d812"
      },
      "execution_count": null,
      "outputs": [
        {
          "output_type": "stream",
          "name": "stdout",
          "text": [
            "T-statistic: 1.0443395712957637\n",
            "t_critical: 2.048\n",
            "Fail to reject the null hypothesis: There is no significant difference between the conditions.\n"
          ]
        }
      ]
    },
    {
      "cell_type": "markdown",
      "source": [
        "The visualization helps interpret the results of the paired t-test. If the calculated t-statistic falls within the critical region (shaded area), it suggests that the result is statistically significant at the specified significance level. The green dashed line indicates where the calculated t-statistic lies on the t-distribution."
      ],
      "metadata": {
        "id": "-hDGOeHwTct2"
      }
    },
    {
      "cell_type": "code",
      "source": [
        "import numpy as np\n",
        "import matplotlib.pyplot as plt\n",
        "from scipy.stats import t\n",
        "\n",
        "# Degrees of freedom for a paired t-test\n",
        "degrees_of_freedom = n - 1\n",
        "\n",
        "# Assuming a two-tailed test\n",
        "alpha = 0.05\n",
        "t_critical = t.ppf(1 - alpha / 2, df=degrees_of_freedom)\n",
        "\n",
        "# Values for the t-distribution plot\n",
        "x = np.linspace(-5, 5, 1000)\n",
        "pdf = t.pdf(x, df=degrees_of_freedom)\n",
        "\n",
        "# Visualization\n",
        "plt.figure(figsize=(10, 6))\n",
        "\n",
        "# Plot the t-distribution\n",
        "plt.plot(x, pdf, label=f't-Distribution (df={degrees_of_freedom})', color='blue')\n",
        "\n",
        "# Shade the critical region\n",
        "plt.fill_between(x, pdf, where=(x <= -t_critical) | (x >= t_critical), color='red', alpha=0.5, label='Critical Region')\n",
        "\n",
        "# Plot the calculated t-statistic\n",
        "plt.axvline(x=t_statistic, color='green', linestyle='--', label=f'Calculated t-statistic: {t_statistic:.2f}')\n",
        "\n",
        "# Add labels and legends\n",
        "plt.title('Paired t-Test Visualization')\n",
        "plt.xlabel('t-Statistic')\n",
        "plt.ylabel('Probability Density')\n",
        "plt.legend()\n",
        "\n",
        "# Show the plot\n",
        "plt.grid(True)\n",
        "plt.show()\n"
      ],
      "metadata": {
        "colab": {
          "base_uri": "https://localhost:8080/",
          "height": 564
        },
        "id": "JByMeysoJKUW",
        "outputId": "2c649141-4df5-4049-d833-cba70ef6fa5d"
      },
      "execution_count": null,
      "outputs": [
        {
          "output_type": "display_data",
          "data": {
            "text/plain": [
              "<Figure size 1000x600 with 1 Axes>"
            ],
            "image/png": "[encoded data removed]"
          },
          "metadata": {}
        }
      ]
    },
    {
      "cell_type": "markdown",
      "source": [
        "## **T test for two Sample**\n",
        "\n",
        "### **Hypothesis**\n",
        "\n",
        "**Null Hypothesis** (H0): There is no significant difference in the mean number of COVID-19 deaths between individuals who died of circulatory diseases and individuals who died of respiratory diseases in the population.\n",
        "\n",
        "**Alternative Hypothesis** (H1): There is a significant difference in the mean number of COVID-19 deaths between individuals who died of circulatory diseases and individuals who died of respiratory diseases in the population.\n"
      ],
      "metadata": {
        "id": "Nfrwx5Pq71Hg"
      }
    },
    {
      "cell_type": "markdown",
      "source": [
        "**Data Preprocessing**"
      ],
      "metadata": {
        "id": "D3RVbkbk8_Dk"
      }
    },
    {
      "cell_type": "code",
      "source": [
        "import pandas as pd\n",
        "import statistics as stat\n",
        "import numpy as np\n",
        "from sklearn.preprocessing import StandardScaler\n",
        "from scipy.stats import t\n",
        "import matplotlib.pyplot as plt\n",
        "df=pd.read_csv(\"covid.csv\")\n",
        "columns_to_normalize = ['COVID-19 Deaths']\n",
        "scaler = StandardScaler()\n",
        "df[columns_to_normalize] = scaler.fit_transform(df[columns_to_normalize])\n",
        "\n",
        "filtered_df1 = df[df['Condition Group'] == 'Circulatory diseases'].dropna(subset=['COVID-19 Deaths'])\n",
        "filtered_df2 = df[df['Condition Group'] == 'Respiratory diseases'].dropna(subset=['COVID-19 Deaths'])\n",
        "dataforRespiratory = filtered_df2['COVID-19 Deaths'].values\n",
        "dataforCirculatory = filtered_df1['COVID-19 Deaths'].values\n",
        "df['COVID-19 Deaths'].dropna(inplace=True)\n",
        "print(dataforRespiratory,dataforCirculatory)\n",
        "population1mean=np.mean(dataforCirculatory)\n",
        "population2mean=np.mean(dataforRespiratory)\n",
        "print(population1mean,population2mean)"
      ],
      "metadata": {
        "id": "GBtxgnGD8C5w",
        "colab": {
          "base_uri": "https://localhost:8080/"
        },
        "outputId": "10c023da-09e1-4ac4-ac6c-3f5b0ad2623b"
      },
      "execution_count": null,
      "outputs": [
        {
          "output_type": "stream",
          "name": "stdout",
          "text": [
            "[ 0.4753826   1.87179441  4.93457112 ... -0.03706513 -0.03441853\n",
            " -0.03441853] [-0.00662924  0.25571489  1.16052092 ... -0.03508018 -0.03706513\n",
            " -0.03574183]\n",
            "-0.015950913489182837 0.00442760073490388\n"
          ]
        }
      ]
    },
    {
      "cell_type": "code",
      "source": [
        "np.random.seed(42)\n",
        "samplesize1=15\n",
        "samplesize2=12\n",
        "sampled_dataforrespiratory = np.random.choice(dataforRespiratory, size=samplesize2, replace=False)\n",
        "sampled_dataforcirculatory = np.random.choice(dataforCirculatory, size=samplesize1, replace=False)"
      ],
      "metadata": {
        "id": "uFHTbF6Y9KxL"
      },
      "execution_count": null,
      "outputs": []
    },
    {
      "cell_type": "code",
      "source": [
        "samplemean1=np.mean(sampled_dataforcirculatory)\n",
        "samplemean2=np.mean(sampled_dataforrespiratory)\n",
        "std1=np.std(sampled_dataforcirculatory)\n",
        "std2=np.std(sampled_dataforrespiratory)"
      ],
      "metadata": {
        "id": "DiYT2G_a9YPT"
      },
      "execution_count": null,
      "outputs": []
    },
    {
      "cell_type": "code",
      "source": [
        "pooled_std_error = np.sqrt(((samplesize1 - 1) * std1**2 + (samplesize2 - 1) * std2**2) / (samplesize1 + samplesize2 - 2))\n",
        "print(\"pooled standard error is\",pooled_std_error)\n",
        "tcalculated = abs(samplemean1 - samplemean2) / (pooled_std_error * np.sqrt((1 / samplesize1) + (1 / samplesize2)))\n",
        "print(\"degree of freedom is \",samplesize1+samplesize2-2)\n",
        "print(\"tcalculated is\" ,tcalculated)\n",
        "ttabulated=2.0595\n",
        "print(\"t_tabulated is\",ttabulated)\n",
        "degfreddom=samplesize1+samplesize2-2\n",
        "levelofsignificance=0.05\n",
        "\n",
        "if(tcalculated<=ttabulated):\n",
        "  print(\"null hypothesis is accepted\")\n",
        "else:\n",
        "  print(\"null hypothesis is rejected\")\n"
      ],
      "metadata": {
        "id": "qKTL9k9H9nyZ",
        "colab": {
          "base_uri": "https://localhost:8080/"
        },
        "outputId": "4fd15ef9-2aef-4b48-e188-4668d890cdb1"
      },
      "execution_count": null,
      "outputs": [
        {
          "output_type": "stream",
          "name": "stdout",
          "text": [
            "pooled standard error is 0.22245042228983883\n",
            "degree of freedom is  25\n",
            "tcalculated is 1.1152333683173805\n",
            "t_tabulated is 2.0595\n",
            "null hypothesis is accepted\n"
          ]
        }
      ]
    },
    {
      "cell_type": "code",
      "source": [
        "confidence_interval_lower=abs(samplemean1 - samplemean2)-ttabulated*pooled_std_error\n",
        "confidence_interval_upper=abs(samplemean1 - samplemean2)+ttabulated*pooled_std_error\n",
        "print(f'Confidence Interval ({100-levelofsignificance * 100}%): [{confidence_interval_lower:.4f}, {confidence_interval_upper:.4f}]')"
      ],
      "metadata": {
        "id": "NsoiTc9U98yO",
        "colab": {
          "base_uri": "https://localhost:8080/"
        },
        "outputId": "c7f63e78-42ae-49dd-f0cf-6098f6bf235f"
      },
      "execution_count": null,
      "outputs": [
        {
          "output_type": "stream",
          "name": "stdout",
          "text": [
            "Confidence Interval (95.0%): [-0.3621, 0.5542]\n"
          ]
        }
      ]
    },
    {
      "cell_type": "code",
      "source": [
        "x = np.linspace(-5, 5, 1000)\n",
        "pdf = t.pdf(x, degfreddom)\n",
        "plt.figure(figsize=(8, 5))\n",
        "plt.plot(x, pdf, label=f't-Distribution (df={degfreddom})', color='blue')\n",
        "\n",
        "# Shade the critical regions\n",
        "plt.fill_between(x, pdf, where=(x <= -ttabulated) | (x >=ttabulated), color='red', alpha=0.5, label='Critical Region')\n",
        "\n",
        "# Plot the calculated t-statistic\n",
        "plt.axvline(x=tcalculated, color='green', linestyle='--', label=f'Calculated t-statistic: {tcalculated:.2f}')\n",
        "\n",
        "# Add labels and legends\n",
        "plt.title('Two-Sample t-Test')\n",
        "plt.xlabel('t-Statistic')\n",
        "plt.ylabel('Probability Density')\n",
        "plt.legend()\n",
        "\n",
        "# Show the plot\n",
        "plt.grid(True)\n",
        "plt.show()"
      ],
      "metadata": {
        "id": "JxUtX5UI-Jmw",
        "colab": {
          "base_uri": "https://localhost:8080/",
          "height": 487
        },
        "outputId": "16ba493d-6405-43b0-d84e-1c1eb69c44b0"
      },
      "execution_count": null,
      "outputs": [
        {
          "output_type": "display_data",
          "data": {
            "text/plain": [
              "<Figure size 800x500 with 1 Axes>"
            ],
            "image/png": "[encoded data removed]"
          },
          "metadata": {}
        }
      ]
    },
    {
      "cell_type": "markdown",
      "source": [
        "**Conclusion**\n",
        "In this statistical analysis, we conducted a two-sample independent t-test to investigate the mean difference in COVID-19 deaths between individuals who succumbed to circulatory diseases and those who succumbed to respiratory diseases. Our analysis yielded a calculated t-statistic of approximately 1.22, which, when compared to the critical t-value at a 5% level of significance, falls within the acceptance region. As a result, we accept the null hypothesis, indicating that there is no significant difference in the mean number of COVID-19 deaths between these two disease groups. This suggests that COVID-19 mortality is not significantly associated with the type of underlying disease condition."
      ],
      "metadata": {
        "id": "9Tkn6DD--P4h"
      }
    },
    {
      "cell_type": "code",
      "source": [],
      "metadata": {
        "id": "LbXgt_2xDkKq"
      },
      "execution_count": null,
      "outputs": []
    },
    {
      "cell_type": "markdown",
      "source": [
        "## **Two sample Z-test for proportion**\n",
        "\n",
        "### **Hypothesis**\n",
        "\n",
        "**Null Hypothesis** (H0): The proportion of COVID-19 deaths for the \"0-24\" age group due to \"Influenza and pneumonia\" is equal to the proportion of COVID-19 deaths for the \"25-34\" age group due to \"Influenza and pneumonia.\"\n",
        "\n",
        "**Alternative Hypothesi**s (H1): The proportion of COVID-19 deaths for the \"0-24\" age group due to \"Influenza and pneumonia\" is not equal to the proportion of COVID-19 deaths for the \"25-34\" age group due to \"Influenza and pneumonia.\"\n"
      ],
      "metadata": {
        "id": "ihdoVuHB-i8r"
      }
    },
    {
      "cell_type": "markdown",
      "source": [
        "**Data preprocessing**"
      ],
      "metadata": {
        "id": "BCnZ3iBW-x5g"
      }
    },
    {
      "cell_type": "code",
      "source": [
        "import pandas as pd\n",
        "import statistics as stat\n",
        "import numpy as np\n",
        "from sklearn.preprocessing import MinMaxScaler\n",
        "from scipy.stats import t\n",
        "import matplotlib.pyplot as plt\n",
        "import pandas as pd\n",
        "from scipy import stats\n",
        "\n",
        "\n",
        "df=pd.read_csv(\"covid.csv\")\n",
        "\n",
        "column_to_transform = 'COVID-19 Deaths'\n",
        "df['COVID-19 Deaths'].dropna(inplace=True)\n",
        "df = df[df['COVID-19 Deaths'] != 0]\n",
        "\n",
        "condition_data = df[ df['Condition']=='Influenza and pneumonia' ]\n",
        "condition_data1=condition_data[condition_data['Age Group']=='0-24']\n",
        "condition_data2=condition_data[condition_data['Age Group']=='25-34']\n",
        "\n",
        "condition_data2_mention = condition_data2['Number of Mentions']\n",
        "condition_data2_mention=condition_data2_mention.dropna()\n",
        "mention2=sum(condition_data2_mention.values)\n",
        "\n",
        "\n",
        "print(mention2,len(condition_data2))"
      ],
      "metadata": {
        "id": "LXDt29F4-XmT",
        "colab": {
          "base_uri": "https://localhost:8080/"
        },
        "outputId": "0fdb6e58-43c2-48c4-deb6-568ecef31e71"
      },
      "execution_count": null,
      "outputs": [
        {
          "output_type": "stream",
          "name": "stdout",
          "text": [
            "33530.0 1291\n"
          ]
        }
      ]
    },
    {
      "cell_type": "code",
      "source": [
        "np.random.seed(42)\n",
        "samplesize1=15\n",
        "samplesize2=12\n",
        "sampled_data1 = condition_data1.sample(n=samplesize1, replace=False)\n",
        "\n",
        "data1_mention =sampled_data1['Number of Mentions']\n",
        "data1_deaths  =sampled_data1['COVID-19 Deaths']\n",
        "data1_mention=data1_mention.dropna()\n",
        "data1_deaths=data1_deaths.dropna()\n",
        "death1=np.sum(data1_deaths.values)\n",
        "mention1=np.sum(data1_mention.values)\n",
        "sampled_data2 = condition_data2.sample(n=samplesize2, replace=False)\n",
        "\n",
        "data2_mention =sampled_data2['Number of Mentions']\n",
        "data2_deaths  =sampled_data2['COVID-19 Deaths']\n",
        "data2_mention=data2_mention.dropna()\n",
        "data2_deaths=data2_deaths.dropna()\n",
        "death2=np.sum(data2_deaths.values)\n",
        "mention2=np.sum(data2_mention.values)\n",
        "p_hat=death1/mention1\n",
        "q_hat=death2/mention2\n",
        "p_bar=(death1+death2)/(mention1+mention2)\n",
        "q_bar=1-p_bar\n",
        "standard_error=np.sqrt(p_bar*q_bar*(1/mention1+1/mention2))\n",
        "#sampled_data2 = np.random.choice(condition_data2, size=samplesize2, replace=False)\n",
        "print(standard_error)"
      ],
      "metadata": {
        "id": "7VgoqwFs_Mj1",
        "colab": {
          "base_uri": "https://localhost:8080/"
        },
        "outputId": "edb461c2-be2c-423c-f267-750bb987d3fd"
      },
      "execution_count": null,
      "outputs": [
        {
          "output_type": "stream",
          "name": "stdout",
          "text": [
            "0.023418184484409077\n"
          ]
        }
      ]
    },
    {
      "cell_type": "code",
      "source": [
        "p_hat=death1/mention1\n",
        "q_hat=death2/mention2\n",
        "p_bar=(death1+death2)/(mention1+mention2)\n",
        "q_bar=1-p_bar\n",
        "standard_error=np.sqrt(p_bar*q_bar*(1/mention1+1/mention2))\n",
        "significance=0.05\n",
        "print(\"proportion of population1 is \",p_hat)\n",
        "print(\"proportion of population2 is\",q_hat)\n",
        "#sampled_data2 = np.random.choice(condition_data2, size=samplesize2, replace=False)\n",
        "print(\"Standard error:\", standard_error)\n",
        "zcalculated=abs(p_hat-q_hat)/standard_error\n",
        "print(\"zcalculated is \",zcalculated)\n",
        "ztabulated = stats.norm.ppf(1 - significance/ 2)\n",
        "print(\"ztabulated is\",ztabulated)\n",
        "\n",
        "if(ztabulated>=zcalculated):\n",
        "  print(\"Null hypothesis is Accepted\")\n",
        "else:\n",
        "  print(\"Null hypothesis is Rejected\")\n"
      ],
      "metadata": {
        "id": "YZXHVe36_a-I",
        "colab": {
          "base_uri": "https://localhost:8080/"
        },
        "outputId": "424eed91-5e51-474b-df3d-66247a997530"
      },
      "execution_count": null,
      "outputs": [
        {
          "output_type": "stream",
          "name": "stdout",
          "text": [
            "proportion of population1 is  0.9176470588235294\n",
            "proportion of population2 is 0.9346938775510204\n",
            "Standard error: 0.023418184484409077\n",
            "zcalculated is  0.7279308410453486\n",
            "ztabulated is 1.959963984540054\n",
            "Null hypothesis is Accepted\n"
          ]
        }
      ]
    },
    {
      "cell_type": "code",
      "source": [
        "confidence_interval_lower=abs(p_hat - q_hat)-ztabulated*standard_error\n",
        "confidence_interval_upper=abs(p_hat - q_hat)+ztabulated*standard_error\n",
        "print(f'Confidence Interval ({100-significance * 100}%): [{confidence_interval_lower:.4f}, {confidence_interval_upper:.4f}]')"
      ],
      "metadata": {
        "id": "V_zgEiok_81w",
        "colab": {
          "base_uri": "https://localhost:8080/"
        },
        "outputId": "99f79a8f-de70-428f-f082-25c9a894d6ff"
      },
      "execution_count": null,
      "outputs": [
        {
          "output_type": "stream",
          "name": "stdout",
          "text": [
            "Confidence Interval (95.0%): [-0.0289, 0.0629]\n"
          ]
        }
      ]
    },
    {
      "cell_type": "code",
      "source": [
        "import numpy as np\n",
        "import matplotlib.pyplot as plt\n",
        "from scipy.stats import norm\n",
        "\n",
        "# Parameters\n",
        "zcal = 0.7279308410453486\n",
        "ztab = 1.959963984540054\n",
        "\n",
        "# Generate x values\n",
        "x = np.linspace(-5, 5, 1000)\n",
        "\n",
        "# Calculate the standard normal PDF\n",
        "pdf = norm.pdf(x)\n",
        "\n",
        "# Create a figure\n",
        "plt.figure(figsize=(8, 5))\n",
        "\n",
        "# Plot the standard normal distribution\n",
        "plt.plot(x, pdf, label='Standard Normal Distribution', color='blue')\n",
        "\n",
        "# Shade the critical regions\n",
        "plt.fill_between(x, pdf, where=(x <= -ztab) | (x >= ztab), color='red', alpha=0.5, label='Critical Region')\n",
        "\n",
        "# Plot the calculated z-statistic\n",
        "plt.axvline(x=zcal, color='green', linestyle='--', label=f'Calculated z-statistic: {zcal:.2f}')\n",
        "\n",
        "# Add labels and legends\n",
        "plt.title('Two-Sample Z-Test for Proportions')\n",
        "plt.xlabel('z-Statistic')\n",
        "plt.ylabel('Probability Density')\n",
        "plt.legend()\n",
        "\n",
        "# Show the plot\n",
        "plt.grid(True)\n",
        "plt.show()"
      ],
      "metadata": {
        "id": "b9UOXLuoAO2C",
        "colab": {
          "base_uri": "https://localhost:8080/",
          "height": 487
        },
        "outputId": "67cb1a1e-abd3-4d82-b0af-88ef1775ed84"
      },
      "execution_count": null,
      "outputs": [
        {
          "output_type": "display_data",
          "data": {
            "text/plain": [
              "<Figure size 800x500 with 1 Axes>"
            ],
            "image/png": "[encoded data removed]"
          },
          "metadata": {}
        }
      ]
    },
    {
      "cell_type": "markdown",
      "source": [
        "Conclusion:\n",
        "Based on the calculated z-value of 0.72 and a critical z-value of 1.95 at a significance level of 0.05, we fail to reject the null hypothesis. This suggests that there is insufficient evidence to conclude a significant difference in the proportions of COVID-19 deaths between the \"0-24\" and \"25-34\" age groups attributed to \"Influenza and pneumonia.\"\n"
      ],
      "metadata": {
        "id": "i5ksWKdpAjjM"
      }
    },
    {
      "cell_type": "markdown",
      "source": [
        "---\n",
        "\n",
        "# Statistical analysis of Unit 3 - Non-Parametric Hypothesis Tests"
      ],
      "metadata": {
        "id": "kkurpQBhirEa"
      }
    },
    {
      "cell_type": "markdown",
      "metadata": {
        "id": "aT50wHgEDDSP"
      },
      "source": [
        "## **Data Prepocessing**\n",
        "\n"
      ]
    },
    {
      "cell_type": "code",
      "execution_count": null,
      "metadata": {
        "colab": {
          "base_uri": "https://localhost:8080/"
        },
        "id": "9giTx-nbDJje",
        "outputId": "e04afbf1-f0d7-4a8d-94b9-df59882801e9"
      },
      "outputs": [
        {
          "output_type": "stream",
          "name": "stdout",
          "text": [
            "        Age Group  COVID-19 Deaths\n",
            "0            12.0           1561.0\n",
            "1            29.5           5782.0\n",
            "2            39.5          15040.0\n",
            "3            49.5          37357.0\n",
            "4            59.5          82454.0\n",
            "...           ...              ...\n",
            "420620        NaN             50.0\n",
            "420621        NaN             44.0\n",
            "420622        NaN             66.0\n",
            "420623        NaN            117.0\n",
            "420624        NaN             56.0\n",
            "\n",
            "[420625 rows x 2 columns]\n"
          ]
        }
      ],
      "source": [
        "import pandas as pd\n",
        "import numpy as np\n",
        "import matplotlib.pyplot as plt\n",
        "import scipy.stats as stats\n",
        "\n",
        "df = pd.read_csv('covid.csv')\n",
        "\n",
        "df = df.dropna(subset=['COVID-19 Deaths'])\n",
        "\n",
        "df = df.drop_duplicates()\n",
        "\n",
        "max_covid_deaths = 100000\n",
        "df['COVID-19 Deaths'] = df['COVID-19 Deaths'].apply(lambda x: min(x, max_covid_deaths))\n",
        "\n",
        "age_group_mapping = {\n",
        "    '0-24': 12,\n",
        "    '25-34': 29.5,\n",
        "    '35-44': 39.5,\n",
        "    '45-54': 49.5,\n",
        "    '55-64': 59.5,\n",
        "    '65-74': 69.5,\n",
        "    '75-84': 79.5,\n",
        "    '85+': 89.5\n",
        "}\n",
        "\n",
        "df['Age Group'] = df['Age Group'].map(age_group_mapping)\n",
        "\n",
        "df.to_csv('cleaned_data.csv', index=False)\n",
        "\n",
        "df_normal = pd.read_csv('cleaned_data.csv')\n",
        "\n",
        "selected_columns = [\"Age Group\", \"COVID-19 Deaths\"]\n",
        "print(df_normal[selected_columns])\n"
      ]
    },
    {
      "cell_type": "markdown",
      "metadata": {
        "id": "ztYXdFsUQQua"
      },
      "source": [
        "## **Sampling**"
      ]
    },
    {
      "cell_type": "code",
      "execution_count": null,
      "metadata": {
        "id": "9ziKWuyvQRLr"
      },
      "outputs": [],
      "source": [
        "import pandas as pd\n",
        "import numpy as np\n",
        "\n",
        "covid_influenza_pneumonia = df_normal[df_normal['Condition'] == 'Influenza and pneumonia']\n",
        "covid_influenza_pneumonia = covid_influenza_pneumonia.dropna(subset=['COVID-19 Deaths'])\n",
        "covid_influenza_pneumonia = covid_influenza_pneumonia[covid_influenza_pneumonia['COVID-19 Deaths'] != 0]\n",
        "\n",
        "covid_chronic_respiratory = df_normal[df_normal['Condition'] == 'Chronic lower respiratory diseases']\n",
        "covid_chronic_respiratory = covid_chronic_respiratory[covid_chronic_respiratory['COVID-19 Deaths'] != 0]\n",
        "covid_chronic_respiratory = covid_chronic_respiratory.dropna(subset=['COVID-19 Deaths'])\n",
        "\n",
        "sample_size = 30\n",
        "\n",
        "if len(covid_chronic_respiratory) >= sample_size:\n",
        "    sampled_covid_chronic_respiratory = covid_chronic_respiratory.sample(n=sample_size, replace=False, random_state=42)\n",
        "else:\n",
        "    sampled_covid_chronic_respiratory = covid_chronic_respiratory\n",
        "\n",
        "selected_columns = [\"COVID-19 Deaths\"]\n",
        "data2 = sampled_covid_chronic_respiratory[selected_columns]\n",
        "\n",
        "if len(covid_influenza_pneumonia) >= sample_size:\n",
        "    sampled_covid_influenza_pneumonia = covid_influenza_pneumonia.sample(n=sample_size, replace=False, random_state=42)\n",
        "else:\n",
        "    sampled_covid_influenza_pneumonia = covid_influenza_pneumonia\n",
        "\n",
        "selected_columns = [\"COVID-19 Deaths\"]\n",
        "data = sampled_covid_influenza_pneumonia[selected_columns]"
      ]
    },
    {
      "cell_type": "markdown",
      "metadata": {
        "id": "meWUw43OOlb3"
      },
      "source": [
        "## **One-sample sign test**\n",
        "\n",
        "### **Hypothesis**\n",
        "\n",
        "**Null Hypothesis** (H0): The median of COVID-19 deaths due to Influenza and pneumonia across all age group is 50\n",
        "\n",
        "**Alternative Hypothesis** (Ha): The median of COVID-19 deaths due to Influenza and pneumonia across all age group is not 50"
      ]
    },
    {
      "cell_type": "code",
      "execution_count": null,
      "metadata": {
        "colab": {
          "base_uri": "https://localhost:8080/",
          "height": 1000
        },
        "id": "JX0juOeDHcOW",
        "outputId": "e78edada-c523-4358-bd13-6818eb1f0e87"
      },
      "outputs": [
        {
          "output_type": "execute_result",
          "data": {
            "text/plain": [
              "<pandas.io.formats.style.Styler at 0x7970a34f9000>"
            ],
            "text/html": [
              "<style type=\"text/css\">\n",
              "#T_e9d42_row0_col1, #T_e9d42_row1_col1, #T_e9d42_row3_col1, #T_e9d42_row4_col1, #T_e9d42_row5_col1, #T_e9d42_row7_col1, #T_e9d42_row8_col1, #T_e9d42_row10_col1, #T_e9d42_row11_col1, #T_e9d42_row15_col1, #T_e9d42_row16_col1, #T_e9d42_row17_col1, #T_e9d42_row18_col1, #T_e9d42_row20_col1, #T_e9d42_row21_col1, #T_e9d42_row24_col1, #T_e9d42_row25_col1 {\n",
              "  color: red;\n",
              "}\n",
              "#T_e9d42_row2_col1, #T_e9d42_row6_col1, #T_e9d42_row9_col1, #T_e9d42_row12_col1, #T_e9d42_row13_col1, #T_e9d42_row14_col1, #T_e9d42_row19_col1, #T_e9d42_row22_col1, #T_e9d42_row23_col1, #T_e9d42_row26_col1, #T_e9d42_row27_col1, #T_e9d42_row28_col1, #T_e9d42_row29_col1 {\n",
              "  color: green;\n",
              "}\n",
              "</style>\n",
              "<table id=\"T_e9d42\" class=\"dataframe\">\n",
              "  <caption>Table of Positive and Negative Differences</caption>\n",
              "  <thead>\n",
              "    <tr>\n",
              "      <th class=\"blank level0\" >&nbsp;</th>\n",
              "      <th id=\"T_e9d42_level0_col0\" class=\"col_heading level0 col0\" >Observed Data</th>\n",
              "      <th id=\"T_e9d42_level0_col1\" class=\"col_heading level0 col1\" >Differences</th>\n",
              "    </tr>\n",
              "  </thead>\n",
              "  <tbody>\n",
              "    <tr>\n",
              "      <th id=\"T_e9d42_level0_row0\" class=\"row_heading level0 row0\" >0</th>\n",
              "      <td id=\"T_e9d42_row0_col0\" class=\"data row0 col0\" >11.000000</td>\n",
              "      <td id=\"T_e9d42_row0_col1\" class=\"data row0 col1\" >-39.000000</td>\n",
              "    </tr>\n",
              "    <tr>\n",
              "      <th id=\"T_e9d42_level0_row1\" class=\"row_heading level0 row1\" >1</th>\n",
              "      <td id=\"T_e9d42_row1_col0\" class=\"data row1 col0\" >17.000000</td>\n",
              "      <td id=\"T_e9d42_row1_col1\" class=\"data row1 col1\" >-33.000000</td>\n",
              "    </tr>\n",
              "    <tr>\n",
              "      <th id=\"T_e9d42_level0_row2\" class=\"row_heading level0 row2\" >2</th>\n",
              "      <td id=\"T_e9d42_row2_col0\" class=\"data row2 col0\" >457.000000</td>\n",
              "      <td id=\"T_e9d42_row2_col1\" class=\"data row2 col1\" >407.000000</td>\n",
              "    </tr>\n",
              "    <tr>\n",
              "      <th id=\"T_e9d42_level0_row3\" class=\"row_heading level0 row3\" >3</th>\n",
              "      <td id=\"T_e9d42_row3_col0\" class=\"data row3 col0\" >25.000000</td>\n",
              "      <td id=\"T_e9d42_row3_col1\" class=\"data row3 col1\" >-25.000000</td>\n",
              "    </tr>\n",
              "    <tr>\n",
              "      <th id=\"T_e9d42_level0_row4\" class=\"row_heading level0 row4\" >4</th>\n",
              "      <td id=\"T_e9d42_row4_col0\" class=\"data row4 col0\" >39.000000</td>\n",
              "      <td id=\"T_e9d42_row4_col1\" class=\"data row4 col1\" >-11.000000</td>\n",
              "    </tr>\n",
              "    <tr>\n",
              "      <th id=\"T_e9d42_level0_row5\" class=\"row_heading level0 row5\" >5</th>\n",
              "      <td id=\"T_e9d42_row5_col0\" class=\"data row5 col0\" >14.000000</td>\n",
              "      <td id=\"T_e9d42_row5_col1\" class=\"data row5 col1\" >-36.000000</td>\n",
              "    </tr>\n",
              "    <tr>\n",
              "      <th id=\"T_e9d42_level0_row6\" class=\"row_heading level0 row6\" >6</th>\n",
              "      <td id=\"T_e9d42_row6_col0\" class=\"data row6 col0\" >417.000000</td>\n",
              "      <td id=\"T_e9d42_row6_col1\" class=\"data row6 col1\" >367.000000</td>\n",
              "    </tr>\n",
              "    <tr>\n",
              "      <th id=\"T_e9d42_level0_row7\" class=\"row_heading level0 row7\" >7</th>\n",
              "      <td id=\"T_e9d42_row7_col0\" class=\"data row7 col0\" >31.000000</td>\n",
              "      <td id=\"T_e9d42_row7_col1\" class=\"data row7 col1\" >-19.000000</td>\n",
              "    </tr>\n",
              "    <tr>\n",
              "      <th id=\"T_e9d42_level0_row8\" class=\"row_heading level0 row8\" >8</th>\n",
              "      <td id=\"T_e9d42_row8_col0\" class=\"data row8 col0\" >23.000000</td>\n",
              "      <td id=\"T_e9d42_row8_col1\" class=\"data row8 col1\" >-27.000000</td>\n",
              "    </tr>\n",
              "    <tr>\n",
              "      <th id=\"T_e9d42_level0_row9\" class=\"row_heading level0 row9\" >9</th>\n",
              "      <td id=\"T_e9d42_row9_col0\" class=\"data row9 col0\" >106.000000</td>\n",
              "      <td id=\"T_e9d42_row9_col1\" class=\"data row9 col1\" >56.000000</td>\n",
              "    </tr>\n",
              "    <tr>\n",
              "      <th id=\"T_e9d42_level0_row10\" class=\"row_heading level0 row10\" >10</th>\n",
              "      <td id=\"T_e9d42_row10_col0\" class=\"data row10 col0\" >15.000000</td>\n",
              "      <td id=\"T_e9d42_row10_col1\" class=\"data row10 col1\" >-35.000000</td>\n",
              "    </tr>\n",
              "    <tr>\n",
              "      <th id=\"T_e9d42_level0_row11\" class=\"row_heading level0 row11\" >11</th>\n",
              "      <td id=\"T_e9d42_row11_col0\" class=\"data row11 col0\" >13.000000</td>\n",
              "      <td id=\"T_e9d42_row11_col1\" class=\"data row11 col1\" >-37.000000</td>\n",
              "    </tr>\n",
              "    <tr>\n",
              "      <th id=\"T_e9d42_level0_row12\" class=\"row_heading level0 row12\" >12</th>\n",
              "      <td id=\"T_e9d42_row12_col0\" class=\"data row12 col0\" >572.000000</td>\n",
              "      <td id=\"T_e9d42_row12_col1\" class=\"data row12 col1\" >522.000000</td>\n",
              "    </tr>\n",
              "    <tr>\n",
              "      <th id=\"T_e9d42_level0_row13\" class=\"row_heading level0 row13\" >13</th>\n",
              "      <td id=\"T_e9d42_row13_col0\" class=\"data row13 col0\" >101.000000</td>\n",
              "      <td id=\"T_e9d42_row13_col1\" class=\"data row13 col1\" >51.000000</td>\n",
              "    </tr>\n",
              "    <tr>\n",
              "      <th id=\"T_e9d42_level0_row14\" class=\"row_heading level0 row14\" >14</th>\n",
              "      <td id=\"T_e9d42_row14_col0\" class=\"data row14 col0\" >60.000000</td>\n",
              "      <td id=\"T_e9d42_row14_col1\" class=\"data row14 col1\" >10.000000</td>\n",
              "    </tr>\n",
              "    <tr>\n",
              "      <th id=\"T_e9d42_level0_row15\" class=\"row_heading level0 row15\" >15</th>\n",
              "      <td id=\"T_e9d42_row15_col0\" class=\"data row15 col0\" >10.000000</td>\n",
              "      <td id=\"T_e9d42_row15_col1\" class=\"data row15 col1\" >-40.000000</td>\n",
              "    </tr>\n",
              "    <tr>\n",
              "      <th id=\"T_e9d42_level0_row16\" class=\"row_heading level0 row16\" >16</th>\n",
              "      <td id=\"T_e9d42_row16_col0\" class=\"data row16 col0\" >16.000000</td>\n",
              "      <td id=\"T_e9d42_row16_col1\" class=\"data row16 col1\" >-34.000000</td>\n",
              "    </tr>\n",
              "    <tr>\n",
              "      <th id=\"T_e9d42_level0_row17\" class=\"row_heading level0 row17\" >17</th>\n",
              "      <td id=\"T_e9d42_row17_col0\" class=\"data row17 col0\" >15.000000</td>\n",
              "      <td id=\"T_e9d42_row17_col1\" class=\"data row17 col1\" >-35.000000</td>\n",
              "    </tr>\n",
              "    <tr>\n",
              "      <th id=\"T_e9d42_level0_row18\" class=\"row_heading level0 row18\" >18</th>\n",
              "      <td id=\"T_e9d42_row18_col0\" class=\"data row18 col0\" >43.000000</td>\n",
              "      <td id=\"T_e9d42_row18_col1\" class=\"data row18 col1\" >-7.000000</td>\n",
              "    </tr>\n",
              "    <tr>\n",
              "      <th id=\"T_e9d42_level0_row19\" class=\"row_heading level0 row19\" >19</th>\n",
              "      <td id=\"T_e9d42_row19_col0\" class=\"data row19 col0\" >66.000000</td>\n",
              "      <td id=\"T_e9d42_row19_col1\" class=\"data row19 col1\" >16.000000</td>\n",
              "    </tr>\n",
              "    <tr>\n",
              "      <th id=\"T_e9d42_level0_row20\" class=\"row_heading level0 row20\" >20</th>\n",
              "      <td id=\"T_e9d42_row20_col0\" class=\"data row20 col0\" >42.000000</td>\n",
              "      <td id=\"T_e9d42_row20_col1\" class=\"data row20 col1\" >-8.000000</td>\n",
              "    </tr>\n",
              "    <tr>\n",
              "      <th id=\"T_e9d42_level0_row21\" class=\"row_heading level0 row21\" >21</th>\n",
              "      <td id=\"T_e9d42_row21_col0\" class=\"data row21 col0\" >29.000000</td>\n",
              "      <td id=\"T_e9d42_row21_col1\" class=\"data row21 col1\" >-21.000000</td>\n",
              "    </tr>\n",
              "    <tr>\n",
              "      <th id=\"T_e9d42_level0_row22\" class=\"row_heading level0 row22\" >22</th>\n",
              "      <td id=\"T_e9d42_row22_col0\" class=\"data row22 col0\" >365.000000</td>\n",
              "      <td id=\"T_e9d42_row22_col1\" class=\"data row22 col1\" >315.000000</td>\n",
              "    </tr>\n",
              "    <tr>\n",
              "      <th id=\"T_e9d42_level0_row23\" class=\"row_heading level0 row23\" >23</th>\n",
              "      <td id=\"T_e9d42_row23_col0\" class=\"data row23 col0\" >2028.000000</td>\n",
              "      <td id=\"T_e9d42_row23_col1\" class=\"data row23 col1\" >1978.000000</td>\n",
              "    </tr>\n",
              "    <tr>\n",
              "      <th id=\"T_e9d42_level0_row24\" class=\"row_heading level0 row24\" >24</th>\n",
              "      <td id=\"T_e9d42_row24_col0\" class=\"data row24 col0\" >22.000000</td>\n",
              "      <td id=\"T_e9d42_row24_col1\" class=\"data row24 col1\" >-28.000000</td>\n",
              "    </tr>\n",
              "    <tr>\n",
              "      <th id=\"T_e9d42_level0_row25\" class=\"row_heading level0 row25\" >25</th>\n",
              "      <td id=\"T_e9d42_row25_col0\" class=\"data row25 col0\" >11.000000</td>\n",
              "      <td id=\"T_e9d42_row25_col1\" class=\"data row25 col1\" >-39.000000</td>\n",
              "    </tr>\n",
              "    <tr>\n",
              "      <th id=\"T_e9d42_level0_row26\" class=\"row_heading level0 row26\" >26</th>\n",
              "      <td id=\"T_e9d42_row26_col0\" class=\"data row26 col0\" >206.000000</td>\n",
              "      <td id=\"T_e9d42_row26_col1\" class=\"data row26 col1\" >156.000000</td>\n",
              "    </tr>\n",
              "    <tr>\n",
              "      <th id=\"T_e9d42_level0_row27\" class=\"row_heading level0 row27\" >27</th>\n",
              "      <td id=\"T_e9d42_row27_col0\" class=\"data row27 col0\" >843.000000</td>\n",
              "      <td id=\"T_e9d42_row27_col1\" class=\"data row27 col1\" >793.000000</td>\n",
              "    </tr>\n",
              "    <tr>\n",
              "      <th id=\"T_e9d42_level0_row28\" class=\"row_heading level0 row28\" >28</th>\n",
              "      <td id=\"T_e9d42_row28_col0\" class=\"data row28 col0\" >4473.000000</td>\n",
              "      <td id=\"T_e9d42_row28_col1\" class=\"data row28 col1\" >4423.000000</td>\n",
              "    </tr>\n",
              "    <tr>\n",
              "      <th id=\"T_e9d42_level0_row29\" class=\"row_heading level0 row29\" >29</th>\n",
              "      <td id=\"T_e9d42_row29_col0\" class=\"data row29 col0\" >4357.000000</td>\n",
              "      <td id=\"T_e9d42_row29_col1\" class=\"data row29 col1\" >4307.000000</td>\n",
              "    </tr>\n",
              "  </tbody>\n",
              "</table>\n"
            ]
          },
          "metadata": {},
          "execution_count": 106
        }
      ],
      "source": [
        "import numpy as np\n",
        "from scipy.stats import norm\n",
        "from scipy.stats import binom\n",
        "\n",
        "observed_data = sampled_covid_influenza_pneumonia['COVID-19 Deaths'].reset_index(drop=True)\n",
        "\n",
        "null_median = 50\n",
        "\n",
        "differences = observed_data - null_median\n",
        "\n",
        "positive_diff_count = np.sum(differences > 0)\n",
        "negative_diff_count = np.sum(differences < 0)\n",
        "\n",
        "total_non_zero_diff = positive_diff_count + negative_diff_count\n",
        "\n",
        "X = min(positive_diff_count, negative_diff_count)\n",
        "\n",
        "z_value = ((X + 0.05) - (total_non_zero_diff/2)) / np.sqrt(total_non_zero_diff / 2)\n",
        "\n",
        "alpha = 0.05\n",
        "z_critical = norm.ppf(1 - alpha / 2)\n",
        "\n",
        "# Create a DataFrame to display positive and negative differences\n",
        "diff_table = pd.DataFrame({\n",
        "    'Observed Data': observed_data,\n",
        "    'Differences': differences\n",
        "})\n",
        "\n",
        "# Define a function to highlight positive values in green and negative values in red\n",
        "def color_negative_red(val):\n",
        "    color = 'red' if val < 0 else 'green'\n",
        "    return f'color: {color}'\n",
        "\n",
        "# Apply the style to the entire table\n",
        "styled_diff_table = diff_table.style.applymap(color_negative_red, subset=['Differences'])\n",
        "\n",
        "# Display the styled table\n",
        "styled_diff_table.set_caption(\"Table of Positive and Negative Differences\")\n"
      ]
    },
    {
      "cell_type": "code",
      "source": [
        "\n",
        "print(\"Positive count\", positive_diff_count)\n",
        "print(\"Negative count\", negative_diff_count)\n",
        "\n",
        "print(\"Z-value:\", z_value)\n",
        "print(\"Z-critical:\", z_critical)\n",
        "\n",
        "if z_value > z_critical:\n",
        "    print(\"Reject the null hypothesis: the meadian of deaths across all age groups is not 50\")\n",
        "else:\n",
        "    print(\"Fail to reject the null hypothesis: the meadian of deaths across all age groups is 50\")\n"
      ],
      "metadata": {
        "colab": {
          "base_uri": "https://localhost:8080/"
        },
        "id": "UFi_wDjEZpPx",
        "outputId": "eea12826-036d-435d-8425-49a595f8b542"
      },
      "execution_count": null,
      "outputs": [
        {
          "output_type": "stream",
          "name": "stdout",
          "text": [
            "Positive count 13\n",
            "Negative count 17\n",
            "Z-value: -0.503487835006964\n",
            "Z-critical: 1.959963984540054\n",
            "Fail to reject the null hypothesis: the meadian of deaths across all age groups is 50\n"
          ]
        }
      ]
    },
    {
      "cell_type": "markdown",
      "metadata": {
        "id": "ZNPlvRcJjzGL"
      },
      "source": [
        "## **Paired samples Sign test**\n",
        "\n",
        "### **Hypothesis**\n",
        "\n",
        "**Null Hypothesis** (H0): The difference between of COVID-19 deaths due to Influenza and pneumonia and Chronic lower respiratory diseases, both conditions from same group i.e. Respiratory diseases for all age groups is 0\n",
        "\n",
        "**Alternative Hypothesis** (Ha): The difference between of COVID-19 deaths due to Influenza and pneumonia and Chronic lower respiratory diseases, both conditions from same group i.e. Respiratory diseases for all age groups is not 0."
      ]
    },
    {
      "cell_type": "code",
      "execution_count": null,
      "metadata": {
        "colab": {
          "base_uri": "https://localhost:8080/",
          "height": 1000
        },
        "id": "ukaiT0IBUQMf",
        "outputId": "05c7f81f-dabc-4970-aadc-0e2ade986334"
      },
      "outputs": [
        {
          "output_type": "execute_result",
          "data": {
            "text/plain": [
              "<pandas.io.formats.style.Styler at 0x7970a34facb0>"
            ],
            "text/html": [
              "<style type=\"text/css\">\n",
              "#T_59c57_row0_col0, #T_59c57_row0_col1, #T_59c57_row0_col2, #T_59c57_row1_col0, #T_59c57_row1_col1, #T_59c57_row1_col2, #T_59c57_row2_col0, #T_59c57_row2_col1, #T_59c57_row3_col0, #T_59c57_row3_col1, #T_59c57_row3_col2, #T_59c57_row4_col0, #T_59c57_row4_col1, #T_59c57_row5_col0, #T_59c57_row5_col1, #T_59c57_row5_col2, #T_59c57_row6_col0, #T_59c57_row6_col1, #T_59c57_row7_col0, #T_59c57_row7_col1, #T_59c57_row7_col2, #T_59c57_row8_col0, #T_59c57_row8_col1, #T_59c57_row8_col2, #T_59c57_row9_col0, #T_59c57_row9_col1, #T_59c57_row10_col0, #T_59c57_row10_col1, #T_59c57_row10_col2, #T_59c57_row11_col0, #T_59c57_row11_col1, #T_59c57_row11_col2, #T_59c57_row12_col0, #T_59c57_row12_col1, #T_59c57_row13_col0, #T_59c57_row13_col1, #T_59c57_row14_col0, #T_59c57_row14_col1, #T_59c57_row14_col2, #T_59c57_row15_col0, #T_59c57_row15_col1, #T_59c57_row15_col2, #T_59c57_row16_col0, #T_59c57_row16_col1, #T_59c57_row16_col2, #T_59c57_row17_col0, #T_59c57_row17_col1, #T_59c57_row17_col2, #T_59c57_row18_col0, #T_59c57_row18_col1, #T_59c57_row19_col0, #T_59c57_row19_col1, #T_59c57_row20_col0, #T_59c57_row20_col1, #T_59c57_row20_col2, #T_59c57_row21_col0, #T_59c57_row21_col1, #T_59c57_row21_col2, #T_59c57_row22_col0, #T_59c57_row22_col1, #T_59c57_row22_col2, #T_59c57_row23_col0, #T_59c57_row23_col1, #T_59c57_row24_col0, #T_59c57_row24_col1, #T_59c57_row24_col2, #T_59c57_row25_col0, #T_59c57_row25_col1, #T_59c57_row25_col2, #T_59c57_row26_col0, #T_59c57_row26_col1, #T_59c57_row27_col0, #T_59c57_row27_col1, #T_59c57_row28_col0, #T_59c57_row28_col1, #T_59c57_row29_col0, #T_59c57_row29_col1 {\n",
              "  color: green;\n",
              "}\n",
              "#T_59c57_row2_col2, #T_59c57_row4_col2, #T_59c57_row6_col2, #T_59c57_row9_col2, #T_59c57_row12_col2, #T_59c57_row13_col2, #T_59c57_row18_col2, #T_59c57_row19_col2, #T_59c57_row23_col2, #T_59c57_row26_col2, #T_59c57_row27_col2, #T_59c57_row28_col2, #T_59c57_row29_col2 {\n",
              "  color: red;\n",
              "}\n",
              "</style>\n",
              "<table id=\"T_59c57\" class=\"dataframe\">\n",
              "  <caption>Paired Sign Test Results</caption>\n",
              "  <thead>\n",
              "    <tr>\n",
              "      <th class=\"blank level0\" >&nbsp;</th>\n",
              "      <th id=\"T_59c57_level0_col0\" class=\"col_heading level0 col0\" >Observed Data 1</th>\n",
              "      <th id=\"T_59c57_level0_col1\" class=\"col_heading level0 col1\" >Observed Data 2</th>\n",
              "      <th id=\"T_59c57_level0_col2\" class=\"col_heading level0 col2\" >Differences</th>\n",
              "    </tr>\n",
              "  </thead>\n",
              "  <tbody>\n",
              "    <tr>\n",
              "      <th id=\"T_59c57_level0_row0\" class=\"row_heading level0 row0\" >0</th>\n",
              "      <td id=\"T_59c57_row0_col0\" class=\"data row0 col0\" >11.000000</td>\n",
              "      <td id=\"T_59c57_row0_col1\" class=\"data row0 col1\" >13.000000</td>\n",
              "      <td id=\"T_59c57_row0_col2\" class=\"data row0 col2\" >2.000000</td>\n",
              "    </tr>\n",
              "    <tr>\n",
              "      <th id=\"T_59c57_level0_row1\" class=\"row_heading level0 row1\" >1</th>\n",
              "      <td id=\"T_59c57_row1_col0\" class=\"data row1 col0\" >17.000000</td>\n",
              "      <td id=\"T_59c57_row1_col1\" class=\"data row1 col1\" >685.000000</td>\n",
              "      <td id=\"T_59c57_row1_col2\" class=\"data row1 col2\" >668.000000</td>\n",
              "    </tr>\n",
              "    <tr>\n",
              "      <th id=\"T_59c57_level0_row2\" class=\"row_heading level0 row2\" >2</th>\n",
              "      <td id=\"T_59c57_row2_col0\" class=\"data row2 col0\" >457.000000</td>\n",
              "      <td id=\"T_59c57_row2_col1\" class=\"data row2 col1\" >61.000000</td>\n",
              "      <td id=\"T_59c57_row2_col2\" class=\"data row2 col2\" >-396.000000</td>\n",
              "    </tr>\n",
              "    <tr>\n",
              "      <th id=\"T_59c57_level0_row3\" class=\"row_heading level0 row3\" >3</th>\n",
              "      <td id=\"T_59c57_row3_col0\" class=\"data row3 col0\" >25.000000</td>\n",
              "      <td id=\"T_59c57_row3_col1\" class=\"data row3 col1\" >343.000000</td>\n",
              "      <td id=\"T_59c57_row3_col2\" class=\"data row3 col2\" >318.000000</td>\n",
              "    </tr>\n",
              "    <tr>\n",
              "      <th id=\"T_59c57_level0_row4\" class=\"row_heading level0 row4\" >4</th>\n",
              "      <td id=\"T_59c57_row4_col0\" class=\"data row4 col0\" >39.000000</td>\n",
              "      <td id=\"T_59c57_row4_col1\" class=\"data row4 col1\" >16.000000</td>\n",
              "      <td id=\"T_59c57_row4_col2\" class=\"data row4 col2\" >-23.000000</td>\n",
              "    </tr>\n",
              "    <tr>\n",
              "      <th id=\"T_59c57_level0_row5\" class=\"row_heading level0 row5\" >5</th>\n",
              "      <td id=\"T_59c57_row5_col0\" class=\"data row5 col0\" >14.000000</td>\n",
              "      <td id=\"T_59c57_row5_col1\" class=\"data row5 col1\" >147.000000</td>\n",
              "      <td id=\"T_59c57_row5_col2\" class=\"data row5 col2\" >133.000000</td>\n",
              "    </tr>\n",
              "    <tr>\n",
              "      <th id=\"T_59c57_level0_row6\" class=\"row_heading level0 row6\" >6</th>\n",
              "      <td id=\"T_59c57_row6_col0\" class=\"data row6 col0\" >417.000000</td>\n",
              "      <td id=\"T_59c57_row6_col1\" class=\"data row6 col1\" >297.000000</td>\n",
              "      <td id=\"T_59c57_row6_col2\" class=\"data row6 col2\" >-120.000000</td>\n",
              "    </tr>\n",
              "    <tr>\n",
              "      <th id=\"T_59c57_level0_row7\" class=\"row_heading level0 row7\" >7</th>\n",
              "      <td id=\"T_59c57_row7_col0\" class=\"data row7 col0\" >31.000000</td>\n",
              "      <td id=\"T_59c57_row7_col1\" class=\"data row7 col1\" >33.000000</td>\n",
              "      <td id=\"T_59c57_row7_col2\" class=\"data row7 col2\" >2.000000</td>\n",
              "    </tr>\n",
              "    <tr>\n",
              "      <th id=\"T_59c57_level0_row8\" class=\"row_heading level0 row8\" >8</th>\n",
              "      <td id=\"T_59c57_row8_col0\" class=\"data row8 col0\" >23.000000</td>\n",
              "      <td id=\"T_59c57_row8_col1\" class=\"data row8 col1\" >24.000000</td>\n",
              "      <td id=\"T_59c57_row8_col2\" class=\"data row8 col2\" >1.000000</td>\n",
              "    </tr>\n",
              "    <tr>\n",
              "      <th id=\"T_59c57_level0_row9\" class=\"row_heading level0 row9\" >9</th>\n",
              "      <td id=\"T_59c57_row9_col0\" class=\"data row9 col0\" >106.000000</td>\n",
              "      <td id=\"T_59c57_row9_col1\" class=\"data row9 col1\" >12.000000</td>\n",
              "      <td id=\"T_59c57_row9_col2\" class=\"data row9 col2\" >-94.000000</td>\n",
              "    </tr>\n",
              "    <tr>\n",
              "      <th id=\"T_59c57_level0_row10\" class=\"row_heading level0 row10\" >10</th>\n",
              "      <td id=\"T_59c57_row10_col0\" class=\"data row10 col0\" >15.000000</td>\n",
              "      <td id=\"T_59c57_row10_col1\" class=\"data row10 col1\" >168.000000</td>\n",
              "      <td id=\"T_59c57_row10_col2\" class=\"data row10 col2\" >153.000000</td>\n",
              "    </tr>\n",
              "    <tr>\n",
              "      <th id=\"T_59c57_level0_row11\" class=\"row_heading level0 row11\" >11</th>\n",
              "      <td id=\"T_59c57_row11_col0\" class=\"data row11 col0\" >13.000000</td>\n",
              "      <td id=\"T_59c57_row11_col1\" class=\"data row11 col1\" >15.000000</td>\n",
              "      <td id=\"T_59c57_row11_col2\" class=\"data row11 col2\" >2.000000</td>\n",
              "    </tr>\n",
              "    <tr>\n",
              "      <th id=\"T_59c57_level0_row12\" class=\"row_heading level0 row12\" >12</th>\n",
              "      <td id=\"T_59c57_row12_col0\" class=\"data row12 col0\" >572.000000</td>\n",
              "      <td id=\"T_59c57_row12_col1\" class=\"data row12 col1\" >37.000000</td>\n",
              "      <td id=\"T_59c57_row12_col2\" class=\"data row12 col2\" >-535.000000</td>\n",
              "    </tr>\n",
              "    <tr>\n",
              "      <th id=\"T_59c57_level0_row13\" class=\"row_heading level0 row13\" >13</th>\n",
              "      <td id=\"T_59c57_row13_col0\" class=\"data row13 col0\" >101.000000</td>\n",
              "      <td id=\"T_59c57_row13_col1\" class=\"data row13 col1\" >18.000000</td>\n",
              "      <td id=\"T_59c57_row13_col2\" class=\"data row13 col2\" >-83.000000</td>\n",
              "    </tr>\n",
              "    <tr>\n",
              "      <th id=\"T_59c57_level0_row14\" class=\"row_heading level0 row14\" >14</th>\n",
              "      <td id=\"T_59c57_row14_col0\" class=\"data row14 col0\" >60.000000</td>\n",
              "      <td id=\"T_59c57_row14_col1\" class=\"data row14 col1\" >122.000000</td>\n",
              "      <td id=\"T_59c57_row14_col2\" class=\"data row14 col2\" >62.000000</td>\n",
              "    </tr>\n",
              "    <tr>\n",
              "      <th id=\"T_59c57_level0_row15\" class=\"row_heading level0 row15\" >15</th>\n",
              "      <td id=\"T_59c57_row15_col0\" class=\"data row15 col0\" >10.000000</td>\n",
              "      <td id=\"T_59c57_row15_col1\" class=\"data row15 col1\" >17.000000</td>\n",
              "      <td id=\"T_59c57_row15_col2\" class=\"data row15 col2\" >7.000000</td>\n",
              "    </tr>\n",
              "    <tr>\n",
              "      <th id=\"T_59c57_level0_row16\" class=\"row_heading level0 row16\" >16</th>\n",
              "      <td id=\"T_59c57_row16_col0\" class=\"data row16 col0\" >16.000000</td>\n",
              "      <td id=\"T_59c57_row16_col1\" class=\"data row16 col1\" >21.000000</td>\n",
              "      <td id=\"T_59c57_row16_col2\" class=\"data row16 col2\" >5.000000</td>\n",
              "    </tr>\n",
              "    <tr>\n",
              "      <th id=\"T_59c57_level0_row17\" class=\"row_heading level0 row17\" >17</th>\n",
              "      <td id=\"T_59c57_row17_col0\" class=\"data row17 col0\" >15.000000</td>\n",
              "      <td id=\"T_59c57_row17_col1\" class=\"data row17 col1\" >46.000000</td>\n",
              "      <td id=\"T_59c57_row17_col2\" class=\"data row17 col2\" >31.000000</td>\n",
              "    </tr>\n",
              "    <tr>\n",
              "      <th id=\"T_59c57_level0_row18\" class=\"row_heading level0 row18\" >18</th>\n",
              "      <td id=\"T_59c57_row18_col0\" class=\"data row18 col0\" >43.000000</td>\n",
              "      <td id=\"T_59c57_row18_col1\" class=\"data row18 col1\" >25.000000</td>\n",
              "      <td id=\"T_59c57_row18_col2\" class=\"data row18 col2\" >-18.000000</td>\n",
              "    </tr>\n",
              "    <tr>\n",
              "      <th id=\"T_59c57_level0_row19\" class=\"row_heading level0 row19\" >19</th>\n",
              "      <td id=\"T_59c57_row19_col0\" class=\"data row19 col0\" >66.000000</td>\n",
              "      <td id=\"T_59c57_row19_col1\" class=\"data row19 col1\" >34.000000</td>\n",
              "      <td id=\"T_59c57_row19_col2\" class=\"data row19 col2\" >-32.000000</td>\n",
              "    </tr>\n",
              "    <tr>\n",
              "      <th id=\"T_59c57_level0_row20\" class=\"row_heading level0 row20\" >20</th>\n",
              "      <td id=\"T_59c57_row20_col0\" class=\"data row20 col0\" >42.000000</td>\n",
              "      <td id=\"T_59c57_row20_col1\" class=\"data row20 col1\" >270.000000</td>\n",
              "      <td id=\"T_59c57_row20_col2\" class=\"data row20 col2\" >228.000000</td>\n",
              "    </tr>\n",
              "    <tr>\n",
              "      <th id=\"T_59c57_level0_row21\" class=\"row_heading level0 row21\" >21</th>\n",
              "      <td id=\"T_59c57_row21_col0\" class=\"data row21 col0\" >29.000000</td>\n",
              "      <td id=\"T_59c57_row21_col1\" class=\"data row21 col1\" >303.000000</td>\n",
              "      <td id=\"T_59c57_row21_col2\" class=\"data row21 col2\" >274.000000</td>\n",
              "    </tr>\n",
              "    <tr>\n",
              "      <th id=\"T_59c57_level0_row22\" class=\"row_heading level0 row22\" >22</th>\n",
              "      <td id=\"T_59c57_row22_col0\" class=\"data row22 col0\" >365.000000</td>\n",
              "      <td id=\"T_59c57_row22_col1\" class=\"data row22 col1\" >617.000000</td>\n",
              "      <td id=\"T_59c57_row22_col2\" class=\"data row22 col2\" >252.000000</td>\n",
              "    </tr>\n",
              "    <tr>\n",
              "      <th id=\"T_59c57_level0_row23\" class=\"row_heading level0 row23\" >23</th>\n",
              "      <td id=\"T_59c57_row23_col0\" class=\"data row23 col0\" >2028.000000</td>\n",
              "      <td id=\"T_59c57_row23_col1\" class=\"data row23 col1\" >31.000000</td>\n",
              "      <td id=\"T_59c57_row23_col2\" class=\"data row23 col2\" >-1997.000000</td>\n",
              "    </tr>\n",
              "    <tr>\n",
              "      <th id=\"T_59c57_level0_row24\" class=\"row_heading level0 row24\" >24</th>\n",
              "      <td id=\"T_59c57_row24_col0\" class=\"data row24 col0\" >22.000000</td>\n",
              "      <td id=\"T_59c57_row24_col1\" class=\"data row24 col1\" >57.000000</td>\n",
              "      <td id=\"T_59c57_row24_col2\" class=\"data row24 col2\" >35.000000</td>\n",
              "    </tr>\n",
              "    <tr>\n",
              "      <th id=\"T_59c57_level0_row25\" class=\"row_heading level0 row25\" >25</th>\n",
              "      <td id=\"T_59c57_row25_col0\" class=\"data row25 col0\" >11.000000</td>\n",
              "      <td id=\"T_59c57_row25_col1\" class=\"data row25 col1\" >13.000000</td>\n",
              "      <td id=\"T_59c57_row25_col2\" class=\"data row25 col2\" >2.000000</td>\n",
              "    </tr>\n",
              "    <tr>\n",
              "      <th id=\"T_59c57_level0_row26\" class=\"row_heading level0 row26\" >26</th>\n",
              "      <td id=\"T_59c57_row26_col0\" class=\"data row26 col0\" >206.000000</td>\n",
              "      <td id=\"T_59c57_row26_col1\" class=\"data row26 col1\" >12.000000</td>\n",
              "      <td id=\"T_59c57_row26_col2\" class=\"data row26 col2\" >-194.000000</td>\n",
              "    </tr>\n",
              "    <tr>\n",
              "      <th id=\"T_59c57_level0_row27\" class=\"row_heading level0 row27\" >27</th>\n",
              "      <td id=\"T_59c57_row27_col0\" class=\"data row27 col0\" >843.000000</td>\n",
              "      <td id=\"T_59c57_row27_col1\" class=\"data row27 col1\" >13.000000</td>\n",
              "      <td id=\"T_59c57_row27_col2\" class=\"data row27 col2\" >-830.000000</td>\n",
              "    </tr>\n",
              "    <tr>\n",
              "      <th id=\"T_59c57_level0_row28\" class=\"row_heading level0 row28\" >28</th>\n",
              "      <td id=\"T_59c57_row28_col0\" class=\"data row28 col0\" >4473.000000</td>\n",
              "      <td id=\"T_59c57_row28_col1\" class=\"data row28 col1\" >19.000000</td>\n",
              "      <td id=\"T_59c57_row28_col2\" class=\"data row28 col2\" >-4454.000000</td>\n",
              "    </tr>\n",
              "    <tr>\n",
              "      <th id=\"T_59c57_level0_row29\" class=\"row_heading level0 row29\" >29</th>\n",
              "      <td id=\"T_59c57_row29_col0\" class=\"data row29 col0\" >4357.000000</td>\n",
              "      <td id=\"T_59c57_row29_col1\" class=\"data row29 col1\" >12.000000</td>\n",
              "      <td id=\"T_59c57_row29_col2\" class=\"data row29 col2\" >-4345.000000</td>\n",
              "    </tr>\n",
              "  </tbody>\n",
              "</table>\n"
            ]
          },
          "metadata": {},
          "execution_count": 108
        }
      ],
      "source": [
        "import numpy as np\n",
        "from scipy.stats import norm\n",
        "from scipy.stats import binom\n",
        "\n",
        "observed_data1 = sampled_covid_influenza_pneumonia['COVID-19 Deaths'].reset_index(drop=True)\n",
        "observed_data2 = sampled_covid_chronic_respiratory['COVID-19 Deaths'].reset_index(drop=True)\n",
        "\n",
        "differences = observed_data2 - observed_data1\n",
        "\n",
        "positive_diff_count = np.sum(differences > 0)\n",
        "negative_diff_count = np.sum(differences < 0)\n",
        "\n",
        "total_non_zero_diff = positive_diff_count + negative_diff_count\n",
        "\n",
        "X = min(positive_diff_count, negative_diff_count)\n",
        "\n",
        "z_value = ((X + 0.05) - (total_non_zero_diff/2)) / np.sqrt(total_non_zero_diff / 2)\n",
        "\n",
        "alpha = 0.05\n",
        "z_critical = norm.ppf(1 - alpha / 2)\n",
        "\n",
        "# Create a DataFrame for the paired sign test results\n",
        "paired_sign_test_results = pd.DataFrame({\n",
        "    'Observed Data 1': observed_data1,\n",
        "    'Observed Data 2': observed_data2,\n",
        "    'Differences': differences\n",
        "})\n",
        "\n",
        "\n",
        "def color_positive_green(val):\n",
        "    return 'color: green' if val > 0 else ''\n",
        "\n",
        "def color_negative_red(val):\n",
        "    return 'color: red' if val < 0 else ''\n",
        "\n",
        "# Apply the styles to the relevant columns\n",
        "styled_paired_sign_test_results = paired_sign_test_results.style.applymap(color_positive_green)\n",
        "styled_paired_sign_test_results = styled_paired_sign_test_results.applymap(color_negative_red)\n",
        "\n",
        "# Display the styled table\n",
        "styled_paired_sign_test_results.set_caption(\"Paired Sign Test Results\")\n",
        "\n"
      ]
    },
    {
      "cell_type": "code",
      "source": [
        "print(\"Positive count\", positive_diff_count)\n",
        "print(\"Negative count\", negative_diff_count)\n",
        "\n",
        "print(\"Z-value:\", z_value)\n",
        "print(\"Z-critical:\", z_critical)\n",
        "\n",
        "if z_value > z_critical:\n",
        "    print(\"Reject the null hypothesis: there is difference in number of deaths in two condition of same group\")\n",
        "else:\n",
        "    print(\"Fail to reject the null hypothesis: there is no difference in number of deaths in two condition of same group\")\n",
        "\n"
      ],
      "metadata": {
        "colab": {
          "base_uri": "https://localhost:8080/"
        },
        "id": "-cBPK2dCiSQz",
        "outputId": "58feeed7-9765-4fcd-fdd1-35aee47953a7"
      },
      "execution_count": null,
      "outputs": [
        {
          "output_type": "stream",
          "name": "stdout",
          "text": [
            "Positive count 17\n",
            "Negative count 13\n",
            "Z-value: -0.503487835006964\n",
            "Z-critical: 1.959963984540054\n",
            "Fail to reject the null hypothesis: there is no difference in number of deaths in two condition of same group\n"
          ]
        }
      ]
    },
    {
      "cell_type": "markdown",
      "metadata": {
        "id": "2PcFWiLYhdL5"
      },
      "source": [
        "## **Runs Test**\n",
        "\n",
        "### **Hypothesis**\n",
        "\n",
        "**Null Hypothesis** (H0): The occurrences of COVID-19 deaths in the dataset are randomly distributed over time, and there is no underlying pattern or trend in the number of deaths.\n",
        "\n",
        "**Alternative Hypothesis** (H1): The occurrences of COVID-19 deaths in the dataset are not randomly distributed over time, and there is an underlying pattern or trend in the number of deaths."
      ]
    },
    {
      "cell_type": "code",
      "execution_count": null,
      "metadata": {
        "colab": {
          "base_uri": "https://localhost:8080/"
        },
        "id": "9srTQGY2heH9",
        "outputId": "208ebdab-6fef-4312-aaab-6b4977a2be43"
      },
      "outputs": [
        {
          "output_type": "execute_result",
          "data": {
            "text/plain": [
              "55049      52.0\n",
              "42337     111.0\n",
              "45769      10.0\n",
              "429038     20.0\n",
              "45886      13.0\n",
              "47351      16.0\n",
              "31378      19.0\n",
              "401084     12.0\n",
              "180596    123.0\n",
              "548192    118.0\n",
              "443048    122.0\n",
              "44833      71.0\n",
              "2194       30.0\n",
              "510871     36.0\n",
              "439400     16.0\n",
              "510997    731.0\n",
              "229639    146.0\n",
              "20098     110.0\n",
              "163899     58.0\n",
              "239411     16.0\n",
              "62233     763.0\n",
              "39887      15.0\n",
              "368927     46.0\n",
              "259646    105.0\n",
              "31085      38.0\n",
              "Name: COVID-19 Deaths, dtype: float64"
            ]
          },
          "metadata": {},
          "execution_count": 151
        }
      ],
      "source": [
        "filtered_df = df[df['COVID-19 Deaths'] > 0]\n",
        "sample  = filtered_df['COVID-19 Deaths'].sample(25, random_state=44)\n",
        "sample"
      ]
    },
    {
      "cell_type": "code",
      "execution_count": null,
      "metadata": {
        "colab": {
          "base_uri": "https://localhost:8080/"
        },
        "id": "ITVK2NfikC40",
        "outputId": "fdcc2eff-7d00-4ab3-a99b-e641343b3fcb"
      },
      "outputs": [
        {
          "output_type": "execute_result",
          "data": {
            "text/plain": [
              "46.0"
            ]
          },
          "metadata": {},
          "execution_count": 111
        }
      ],
      "source": [
        "#finding the median of the given data\n",
        "\n",
        "# we arrange the data in ascending order and the find the median\n",
        "sample.median()"
      ]
    },
    {
      "cell_type": "code",
      "execution_count": null,
      "metadata": {
        "id": "zqjALquWkEN9"
      },
      "outputs": [],
      "source": [
        "# we will replace the no with a when observation > 79 else with b\n",
        "group = [1 if i > sample.median() else 0 if i < sample.median() else None for i in sample]\n"
      ]
    },
    {
      "cell_type": "code",
      "execution_count": null,
      "metadata": {
        "id": "EyANzUwAkPl7"
      },
      "outputs": [],
      "source": [
        "# finding no of run for 1 and 0 seperately\n",
        "# calculating no of 1's and 0's\n",
        "def calculate_n1_n2(data):\n",
        "    no_of_one = 0\n",
        "    no_of_zero = 0\n",
        "    for i in data:\n",
        "        if i == 1:\n",
        "            no_of_one += 1\n",
        "        elif i == 0:\n",
        "            no_of_zero += 1\n",
        "    return no_of_one, no_of_zero"
      ]
    },
    {
      "cell_type": "code",
      "execution_count": null,
      "metadata": {
        "colab": {
          "base_uri": "https://localhost:8080/"
        },
        "id": "CtLsoH80krqa",
        "outputId": "7f8144bb-8cdd-4e4a-95d6-7b3772997a00"
      },
      "outputs": [
        {
          "output_type": "stream",
          "name": "stdout",
          "text": [
            "n1,n2 are  12 12\n"
          ]
        }
      ],
      "source": [
        "n1 , n2 = calculate_n1_n2(group)\n",
        "print(\"n1,n2 are \",n1,n2)"
      ]
    },
    {
      "cell_type": "code",
      "execution_count": null,
      "metadata": {
        "id": "CYAcJg6zk1nj"
      },
      "outputs": [],
      "source": [
        "def calculate_run(data):\n",
        "    runs = 1  # Initialize the count of runs to 1\n",
        "    for i in range(1, len(data)):\n",
        "        if data[i] != data[i - 1]:\n",
        "            runs += 1\n",
        "    return runs\n",
        "\n",
        "filtered_group = [x for x in group if x is not None]\n",
        "\n"
      ]
    },
    {
      "cell_type": "code",
      "execution_count": null,
      "metadata": {
        "colab": {
          "base_uri": "https://localhost:8080/"
        },
        "id": "iRxUg7uyk5Sp",
        "outputId": "8a8d0ec4-fe96-416b-c9fc-e249ba6891f8"
      },
      "outputs": [
        {
          "output_type": "stream",
          "name": "stdout",
          "text": [
            "no of runs  10\n"
          ]
        }
      ],
      "source": [
        "no_of_run = calculate_run(filtered_group)\n",
        "print(\"no of runs \",no_of_run)"
      ]
    },
    {
      "cell_type": "code",
      "execution_count": null,
      "metadata": {
        "colab": {
          "base_uri": "https://localhost:8080/"
        },
        "id": "RjIvjSEIk7yK",
        "outputId": "f55f1c70-8b67-4262-d57a-d4507e6f0ee6"
      },
      "outputs": [
        {
          "output_type": "stream",
          "name": "stdout",
          "text": [
            "Fail to reject the null hypothesis: The data may be randomly ordered.\n"
          ]
        }
      ],
      "source": [
        "alpha = 0.05\n",
        "no_of_one = n1\n",
        "no_of_zero = n2\n",
        "lower_critical_val_of_r = 7\n",
        "higher_critical_val_of_r = 19\n",
        "\n",
        "if  no_of_run < higher_critical_val_of_r and no_of_run > lower_critical_val_of_r:\n",
        "    print(\"Fail to reject the null hypothesis: The data may be randomly ordered.\")\n",
        "else:\n",
        "    print(\"Reject the null hypothesis: The data is not randomly ordered.\")"
      ]
    },
    {
      "cell_type": "markdown",
      "metadata": {
        "id": "Z0nPIXZZmzRP"
      },
      "source": [
        "In this analysis, we conducted a runs test to assess whether the occurrences of COVID-19 deaths in the dataset follow a random distribution over time or if there is an underlying pattern or trend. We formulated the following hypotheses:\n",
        "\n",
        "Null Hypothesis (H0): The occurrences of COVID-19 deaths in the dataset are randomly distributed over time, and there is no underlying pattern or trend in the number of deaths.\n",
        "\n",
        "Alternative Hypothesis (H1): The occurrences of COVID-19 deaths in the dataset are not randomly distributed over time, and there is an underlying pattern or trend in the number of deaths.\n",
        "\n",
        "To perform the runs test, we followed these steps:\n",
        "\n",
        "We selected a random sample of 25 data points from the \"COVID-19 Deaths\" column of our dataset.\n",
        "We calculated the median of the sample, which was found to be 79.0.\n",
        "We categorized the data points into two groups: '1' for values greater than the median and '0' for values less than the median.\n",
        "We then calculated the number of runs in the sequence of '1's and '0's.\n",
        "The results of our runs test showed that the number of runs in the data was 10. To assess the significance of this result, we used critical values for the runs test at a significance level of α = 0.05. The lower critical value of runs (r) was 5, and the higher critical value was 15.\n",
        "\n",
        "Based on our analysis, we concluded:\n",
        "\n",
        "Fail to reject the null hypothesis: The data may be randomly ordered.\n",
        "This suggests that there is no significant evidence to suggest that the occurrences of COVID-19 deaths in the dataset follow a non-random pattern or trend over time.\n",
        "\n"
      ]
    },
    {
      "cell_type": "markdown",
      "metadata": {
        "id": "BTKtfwjnpXBk"
      },
      "source": [
        "## **Wilcoxon rank sum test**\n",
        "\n",
        "### **Hypothesis**\n",
        "\n",
        "**Null Hypothsis**(H0): The distribution of COVID-19 deaths in the 0-24 age group is the same as the distribution in the 25-34 age group.\n",
        "\n",
        "**Alternate Hypothesis** (Ha): There is a significant difference in the number of COVID-19 deaths between the 0-24 age group and the 25-34 age group."
      ]
    },
    {
      "cell_type": "code",
      "execution_count": null,
      "metadata": {
        "id": "XUug9dBZpxtn"
      },
      "outputs": [],
      "source": [
        "import pandas as pd\n",
        "import statistics as stat\n",
        "import numpy as np\n",
        "from sklearn.preprocessing import StandardScaler\n",
        "from scipy.stats import t\n",
        "import matplotlib.pyplot as plt\n",
        "df=pd.read_csv(\"covid.csv\")"
      ]
    },
    {
      "cell_type": "code",
      "execution_count": null,
      "metadata": {
        "id": "8PwgjpzGrGAp"
      },
      "outputs": [],
      "source": [
        "filtered_df1 = df[df['Age Group'] == '0-24'].dropna(subset=['COVID-19 Deaths'])\n",
        "filtered_df2 = df[df['Age Group'] == '25-34'].dropna(subset=['COVID-19 Deaths'])\n",
        "population1=filtered_df1['COVID-19 Deaths'].values\n",
        "fpopulation1=population1[population1>=100]\n",
        "population2=filtered_df2['COVID-19 Deaths'].values\n",
        "fpopulation2=population2[population2>=100]\n"
      ]
    },
    {
      "cell_type": "code",
      "execution_count": null,
      "metadata": {
        "colab": {
          "base_uri": "https://localhost:8080/"
        },
        "id": "ag5bwqk_syjd",
        "outputId": "feda6123-ccd6-4227-86bb-1eab2ca86fad"
      },
      "outputs": [
        {
          "output_type": "stream",
          "name": "stdout",
          "text": [
            "[147. 301. 552. 123. 185. 120. 477. 225. 195. 377. 161. 113. 100. 268.\n",
            " 406.]\n",
            "[ 119.  260.  223.  244.  104.  133. 3708.  136.  114.  117.  158. 1303.]\n"
          ]
        }
      ],
      "source": [
        "samplesize1=15\n",
        "samplesize2=12\n",
        "sample1 = np.random.choice(fpopulation1, size=samplesize1, replace=False)\n",
        "sample2= np.random.choice(fpopulation2, size=samplesize2, replace=False)\n",
        "print(sample1)\n",
        "print(sample2)"
      ]
    },
    {
      "cell_type": "code",
      "source": [
        "from collections import defaultdict\n",
        "from IPython.display import display\n",
        "combined_data = list(sample1.copy())+list(sample2.copy())\n",
        "\n",
        "combined_data.sort()\n",
        "ranked_data = [(value, i+1) for i, value in enumerate(combined_data)]\n",
        "\n",
        "element_info = defaultdict(lambda: {'count': 0, 'cumulative_value': 0})\n",
        "\n",
        "for value, rank in ranked_data:\n",
        "    element_info[value]['count'] += 1\n",
        "    element_info[value]['cumulative_value'] += rank\n",
        "\n",
        "\n",
        "\n",
        "element_ranks = []\n",
        "\n",
        "for value, rank_info in element_info.items():\n",
        "    if rank_info['count'] == 1:\n",
        "\n",
        "        rank = rank_info['cumulative_value']\n",
        "    else:\n",
        "\n",
        "        rank = rank_info['cumulative_value'] / rank_info['count']\n",
        "    element_ranks.append((value, rank))\n",
        "\n",
        "\n",
        "element_ranks.sort(key=lambda x: x[1])\n",
        "\n",
        "\n",
        "df = pd.DataFrame(list(element_ranks), columns=['Element', 'Rank'])\n",
        "pd.set_option('display.max_columns', 2)\n",
        "display(df)"
      ],
      "metadata": {
        "colab": {
          "base_uri": "https://localhost:8080/",
          "height": 664
        },
        "id": "hbHK9qo3ta8G",
        "outputId": "42129d5a-940b-4dd5-8139-d97f5554af6d"
      },
      "execution_count": null,
      "outputs": [
        {
          "output_type": "display_data",
          "data": {
            "text/plain": [
              "    Element  Rank\n",
              "0     100.0     1\n",
              "1     104.0     2\n",
              "2     113.0     3\n",
              "3     114.0     4\n",
              "4     117.0     5\n",
              "5     119.0     6\n",
              "6     120.0     7\n",
              "7     123.0     8\n",
              "8     133.0     9\n",
              "9     136.0    10\n",
              "10    147.0    11\n",
              "11    158.0    12\n",
              "12    161.0    13\n",
              "13    185.0    14\n",
              "14    195.0    15\n",
              "15    223.0    16\n",
              "16    225.0    17\n",
              "17    244.0    18\n",
              "18    260.0    19\n",
              "19    268.0    20\n",
              "20    301.0    21\n",
              "21    377.0    22\n",
              "22    406.0    23\n",
              "23    477.0    24\n",
              "24    552.0    25\n",
              "25   1303.0    26\n",
              "26   3708.0    27"
            ],
            "text/html": [
              "\n",
              "  <div id=\"df-674d1780-67ba-4847-bf2b-f9ece7d8f257\" class=\"colab-df-container\">\n",
              "    <div>\n",
              "<style scoped>\n",
              "    .dataframe tbody tr th:only-of-type {\n",
              "        vertical-align: middle;\n",
              "    }\n",
              "\n",
              "    .dataframe tbody tr th {\n",
              "        vertical-align: top;\n",
              "    }\n",
              "\n",
              "    .dataframe thead th {\n",
              "        text-align: right;\n",
              "    }\n",
              "</style>\n",
              "<table border=\"1\" class=\"dataframe\">\n",
              "  <thead>\n",
              "    <tr style=\"text-align: right;\">\n",
              "      <th></th>\n",
              "      <th>Element</th>\n",
              "      <th>Rank</th>\n",
              "    </tr>\n",
              "  </thead>\n",
              "  <tbody>\n",
              "    <tr>\n",
              "      <th>0</th>\n",
              "      <td>100.0</td>\n",
              "      <td>1</td>\n",
              "    </tr>\n",
              "    <tr>\n",
              "      <th>1</th>\n",
              "      <td>104.0</td>\n",
              "      <td>2</td>\n",
              "    </tr>\n",
              "    <tr>\n",
              "      <th>2</th>\n",
              "      <td>113.0</td>\n",
              "      <td>3</td>\n",
              "    </tr>\n",
              "    <tr>\n",
              "      <th>3</th>\n",
              "      <td>114.0</td>\n",
              "      <td>4</td>\n",
              "    </tr>\n",
              "    <tr>\n",
              "      <th>4</th>\n",
              "      <td>117.0</td>\n",
              "      <td>5</td>\n",
              "    </tr>\n",
              "    <tr>\n",
              "      <th>5</th>\n",
              "      <td>119.0</td>\n",
              "      <td>6</td>\n",
              "    </tr>\n",
              "    <tr>\n",
              "      <th>6</th>\n",
              "      <td>120.0</td>\n",
              "      <td>7</td>\n",
              "    </tr>\n",
              "    <tr>\n",
              "      <th>7</th>\n",
              "      <td>123.0</td>\n",
              "      <td>8</td>\n",
              "    </tr>\n",
              "    <tr>\n",
              "      <th>8</th>\n",
              "      <td>133.0</td>\n",
              "      <td>9</td>\n",
              "    </tr>\n",
              "    <tr>\n",
              "      <th>9</th>\n",
              "      <td>136.0</td>\n",
              "      <td>10</td>\n",
              "    </tr>\n",
              "    <tr>\n",
              "      <th>10</th>\n",
              "      <td>147.0</td>\n",
              "      <td>11</td>\n",
              "    </tr>\n",
              "    <tr>\n",
              "      <th>11</th>\n",
              "      <td>158.0</td>\n",
              "      <td>12</td>\n",
              "    </tr>\n",
              "    <tr>\n",
              "      <th>12</th>\n",
              "      <td>161.0</td>\n",
              "      <td>13</td>\n",
              "    </tr>\n",
              "    <tr>\n",
              "      <th>13</th>\n",
              "      <td>185.0</td>\n",
              "      <td>14</td>\n",
              "    </tr>\n",
              "    <tr>\n",
              "      <th>14</th>\n",
              "      <td>195.0</td>\n",
              "      <td>15</td>\n",
              "    </tr>\n",
              "    <tr>\n",
              "      <th>15</th>\n",
              "      <td>223.0</td>\n",
              "      <td>16</td>\n",
              "    </tr>\n",
              "    <tr>\n",
              "      <th>16</th>\n",
              "      <td>225.0</td>\n",
              "      <td>17</td>\n",
              "    </tr>\n",
              "    <tr>\n",
              "      <th>17</th>\n",
              "      <td>244.0</td>\n",
              "      <td>18</td>\n",
              "    </tr>\n",
              "    <tr>\n",
              "      <th>18</th>\n",
              "      <td>260.0</td>\n",
              "      <td>19</td>\n",
              "    </tr>\n",
              "    <tr>\n",
              "      <th>19</th>\n",
              "      <td>268.0</td>\n",
              "      <td>20</td>\n",
              "    </tr>\n",
              "    <tr>\n",
              "      <th>20</th>\n",
              "      <td>301.0</td>\n",
              "      <td>21</td>\n",
              "    </tr>\n",
              "    <tr>\n",
              "      <th>21</th>\n",
              "      <td>377.0</td>\n",
              "      <td>22</td>\n",
              "    </tr>\n",
              "    <tr>\n",
              "      <th>22</th>\n",
              "      <td>406.0</td>\n",
              "      <td>23</td>\n",
              "    </tr>\n",
              "    <tr>\n",
              "      <th>23</th>\n",
              "      <td>477.0</td>\n",
              "      <td>24</td>\n",
              "    </tr>\n",
              "    <tr>\n",
              "      <th>24</th>\n",
              "      <td>552.0</td>\n",
              "      <td>25</td>\n",
              "    </tr>\n",
              "    <tr>\n",
              "      <th>25</th>\n",
              "      <td>1303.0</td>\n",
              "      <td>26</td>\n",
              "    </tr>\n",
              "    <tr>\n",
              "      <th>26</th>\n",
              "      <td>3708.0</td>\n",
              "      <td>27</td>\n",
              "    </tr>\n",
              "  </tbody>\n",
              "</table>\n",
              "</div>\n",
              "    <div class=\"colab-df-buttons\">\n",
              "\n",
              "  <div class=\"colab-df-container\">\n",
              "    <button class=\"colab-df-convert\" onclick=\"convertToInteractive('df-674d1780-67ba-4847-bf2b-f9ece7d8f257')\"\n",
              "            title=\"Convert this dataframe to an interactive table.\"\n",
              "            style=\"display:none;\">\n",
              "\n",
              "  <svg xmlns=\"http://www.w3.org/2000/svg\" height=\"24px\" viewBox=\"0 -960 960 960\">\n",
              "    <path d=\"M120-120v-720h720v720H120Zm60-500h600v-160H180v160Zm220 220h160v-160H400v160Zm0 220h160v-160H400v160ZM180-400h160v-160H180v160Zm440 0h160v-160H620v160ZM180-180h160v-160H180v160Zm440 0h160v-160H620v160Z\"/>\n",
              "  </svg>\n",
              "    </button>\n",
              "\n",
              "  <style>\n",
              "    .colab-df-container {\n",
              "      display:flex;\n",
              "      gap: 12px;\n",
              "    }\n",
              "\n",
              "    .colab-df-convert {\n",
              "      background-color: #E8F0FE;\n",
              "      border: none;\n",
              "      border-radius: 50%;\n",
              "      cursor: pointer;\n",
              "      display: none;\n",
              "      fill: #1967D2;\n",
              "      height: 32px;\n",
              "      padding: 0 0 0 0;\n",
              "      width: 32px;\n",
              "    }\n",
              "\n",
              "    .colab-df-convert:hover {\n",
              "      background-color: #E2EBFA;\n",
              "      box-shadow: 0px 1px 2px rgba(60, 64, 67, 0.3), 0px 1px 3px 1px rgba(60, 64, 67, 0.15);\n",
              "      fill: #174EA6;\n",
              "    }\n",
              "\n",
              "    .colab-df-buttons div {\n",
              "      margin-bottom: 4px;\n",
              "    }\n",
              "\n",
              "    [theme=dark] .colab-df-convert {\n",
              "      background-color: #3B4455;\n",
              "      fill: #D2E3FC;\n",
              "    }\n",
              "\n",
              "    [theme=dark] .colab-df-convert:hover {\n",
              "      background-color: #434B5C;\n",
              "      box-shadow: 0px 1px 3px 1px rgba(0, 0, 0, 0.15);\n",
              "      filter: drop-shadow(0px 1px 2px rgba(0, 0, 0, 0.3));\n",
              "      fill: #FFFFFF;\n",
              "    }\n",
              "  </style>\n",
              "\n",
              "    <script>\n",
              "      const buttonEl =\n",
              "        document.querySelector('#df-674d1780-67ba-4847-bf2b-f9ece7d8f257 button.colab-df-convert');\n",
              "      buttonEl.style.display =\n",
              "        google.colab.kernel.accessAllowed ? 'block' : 'none';\n",
              "\n",
              "      async function convertToInteractive(key) {\n",
              "        const element = document.querySelector('#df-674d1780-67ba-4847-bf2b-f9ece7d8f257');\n",
              "        const dataTable =\n",
              "          await google.colab.kernel.invokeFunction('convertToInteractive',\n",
              "                                                    [key], {});\n",
              "        if (!dataTable) return;\n",
              "\n",
              "        const docLinkHtml = 'Like what you see? Visit the ' +\n",
              "          '<a target=\"_blank\" href=https://colab.research.google.com/notebooks/data_table.ipynb>data table notebook</a>'\n",
              "          + ' to learn more about interactive tables.';\n",
              "        element.innerHTML = '';\n",
              "        dataTable['output_type'] = 'display_data';\n",
              "        await google.colab.output.renderOutput(dataTable, element);\n",
              "        const docLink = document.createElement('div');\n",
              "        docLink.innerHTML = docLinkHtml;\n",
              "        element.appendChild(docLink);\n",
              "      }\n",
              "    </script>\n",
              "  </div>\n",
              "\n",
              "\n",
              "<div id=\"df-fa1175eb-75ea-4827-99be-dbbbabc9acb0\">\n",
              "  <button class=\"colab-df-quickchart\" onclick=\"quickchart('df-fa1175eb-75ea-4827-99be-dbbbabc9acb0')\"\n",
              "            title=\"Suggest charts\"\n",
              "            style=\"display:none;\">\n",
              "\n",
              "<svg xmlns=\"http://www.w3.org/2000/svg\" height=\"24px\"viewBox=\"0 0 24 24\"\n",
              "     width=\"24px\">\n",
              "    <g>\n",
              "        <path d=\"M19 3H5c-1.1 0-2 .9-2 2v14c0 1.1.9 2 2 2h14c1.1 0 2-.9 2-2V5c0-1.1-.9-2-2-2zM9 17H7v-7h2v7zm4 0h-2V7h2v10zm4 0h-2v-4h2v4z\"/>\n",
              "    </g>\n",
              "</svg>\n",
              "  </button>\n",
              "\n",
              "<style>\n",
              "  .colab-df-quickchart {\n",
              "      --bg-color: #E8F0FE;\n",
              "      --fill-color: #1967D2;\n",
              "      --hover-bg-color: #E2EBFA;\n",
              "      --hover-fill-color: #174EA6;\n",
              "      --disabled-fill-color: #AAA;\n",
              "      --disabled-bg-color: #DDD;\n",
              "  }\n",
              "\n",
              "  [theme=dark] .colab-df-quickchart {\n",
              "      --bg-color: #3B4455;\n",
              "      --fill-color: #D2E3FC;\n",
              "      --hover-bg-color: #434B5C;\n",
              "      --hover-fill-color: #FFFFFF;\n",
              "      --disabled-bg-color: #3B4455;\n",
              "      --disabled-fill-color: #666;\n",
              "  }\n",
              "\n",
              "  .colab-df-quickchart {\n",
              "    background-color: var(--bg-color);\n",
              "    border: none;\n",
              "    border-radius: 50%;\n",
              "    cursor: pointer;\n",
              "    display: none;\n",
              "    fill: var(--fill-color);\n",
              "    height: 32px;\n",
              "    padding: 0;\n",
              "    width: 32px;\n",
              "  }\n",
              "\n",
              "  .colab-df-quickchart:hover {\n",
              "    background-color: var(--hover-bg-color);\n",
              "    box-shadow: 0 1px 2px rgba(60, 64, 67, 0.3), 0 1px 3px 1px rgba(60, 64, 67, 0.15);\n",
              "    fill: var(--button-hover-fill-color);\n",
              "  }\n",
              "\n",
              "  .colab-df-quickchart-complete:disabled,\n",
              "  .colab-df-quickchart-complete:disabled:hover {\n",
              "    background-color: var(--disabled-bg-color);\n",
              "    fill: var(--disabled-fill-color);\n",
              "    box-shadow: none;\n",
              "  }\n",
              "\n",
              "  .colab-df-spinner {\n",
              "    border: 2px solid var(--fill-color);\n",
              "    border-color: transparent;\n",
              "    border-bottom-color: var(--fill-color);\n",
              "    animation:\n",
              "      spin 1s steps(1) infinite;\n",
              "  }\n",
              "\n",
              "  @keyframes spin {\n",
              "    0% {\n",
              "      border-color: transparent;\n",
              "      border-bottom-color: var(--fill-color);\n",
              "      border-left-color: var(--fill-color);\n",
              "    }\n",
              "    20% {\n",
              "      border-color: transparent;\n",
              "      border-left-color: var(--fill-color);\n",
              "      border-top-color: var(--fill-color);\n",
              "    }\n",
              "    30% {\n",
              "      border-color: transparent;\n",
              "      border-left-color: var(--fill-color);\n",
              "      border-top-color: var(--fill-color);\n",
              "      border-right-color: var(--fill-color);\n",
              "    }\n",
              "    40% {\n",
              "      border-color: transparent;\n",
              "      border-right-color: var(--fill-color);\n",
              "      border-top-color: var(--fill-color);\n",
              "    }\n",
              "    60% {\n",
              "      border-color: transparent;\n",
              "      border-right-color: var(--fill-color);\n",
              "    }\n",
              "    80% {\n",
              "      border-color: transparent;\n",
              "      border-right-color: var(--fill-color);\n",
              "      border-bottom-color: var(--fill-color);\n",
              "    }\n",
              "    90% {\n",
              "      border-color: transparent;\n",
              "      border-bottom-color: var(--fill-color);\n",
              "    }\n",
              "  }\n",
              "</style>\n",
              "\n",
              "  <script>\n",
              "    async function quickchart(key) {\n",
              "      const quickchartButtonEl =\n",
              "        document.querySelector('#' + key + ' button');\n",
              "      quickchartButtonEl.disabled = true;  // To prevent multiple clicks.\n",
              "      quickchartButtonEl.classList.add('colab-df-spinner');\n",
              "      try {\n",
              "        const charts = await google.colab.kernel.invokeFunction(\n",
              "            'suggestCharts', [key], {});\n",
              "      } catch (error) {\n",
              "        console.error('Error during call to suggestCharts:', error);\n",
              "      }\n",
              "      quickchartButtonEl.classList.remove('colab-df-spinner');\n",
              "      quickchartButtonEl.classList.add('colab-df-quickchart-complete');\n",
              "    }\n",
              "    (() => {\n",
              "      let quickchartButtonEl =\n",
              "        document.querySelector('#df-fa1175eb-75ea-4827-99be-dbbbabc9acb0 button');\n",
              "      quickchartButtonEl.style.display =\n",
              "        google.colab.kernel.accessAllowed ? 'block' : 'none';\n",
              "    })();\n",
              "  </script>\n",
              "</div>\n",
              "    </div>\n",
              "  </div>\n"
            ],
            "application/vnd.google.colaboratory.module+javascript": "\n      import \"https://ssl.gstatic.com/colaboratory/data_table/881c4a0d49046431/data_table.js\";\n\n      const table = window.createDataTable({\n        data: [[{\n            'v': 0,\n            'f': \"0\",\n        },\n{\n            'v': 100.0,\n            'f': \"100.0\",\n        },\n{\n            'v': 1,\n            'f': \"1\",\n        }],\n [{\n            'v': 1,\n            'f': \"1\",\n        },\n{\n            'v': 104.0,\n            'f': \"104.0\",\n        },\n{\n            'v': 2,\n            'f': \"2\",\n        }],\n [{\n            'v': 2,\n            'f': \"2\",\n        },\n{\n            'v': 113.0,\n            'f': \"113.0\",\n        },\n{\n            'v': 3,\n            'f': \"3\",\n        }],\n [{\n            'v': 3,\n            'f': \"3\",\n        },\n{\n            'v': 114.0,\n            'f': \"114.0\",\n        },\n{\n            'v': 4,\n            'f': \"4\",\n        }],\n [{\n            'v': 4,\n            'f': \"4\",\n        },\n{\n            'v': 117.0,\n            'f': \"117.0\",\n        },\n{\n            'v': 5,\n            'f': \"5\",\n        }],\n [{\n            'v': 5,\n            'f': \"5\",\n        },\n{\n            'v': 119.0,\n            'f': \"119.0\",\n        },\n{\n            'v': 6,\n            'f': \"6\",\n        }],\n [{\n            'v': 6,\n            'f': \"6\",\n        },\n{\n            'v': 120.0,\n            'f': \"120.0\",\n        },\n{\n            'v': 7,\n            'f': \"7\",\n        }],\n [{\n            'v': 7,\n            'f': \"7\",\n        },\n{\n            'v': 123.0,\n            'f': \"123.0\",\n        },\n{\n            'v': 8,\n            'f': \"8\",\n        }],\n [{\n            'v': 8,\n            'f': \"8\",\n        },\n{\n            'v': 133.0,\n            'f': \"133.0\",\n        },\n{\n            'v': 9,\n            'f': \"9\",\n        }],\n [{\n            'v': 9,\n            'f': \"9\",\n        },\n{\n            'v': 136.0,\n            'f': \"136.0\",\n        },\n{\n            'v': 10,\n            'f': \"10\",\n        }],\n [{\n            'v': 10,\n            'f': \"10\",\n        },\n{\n            'v': 147.0,\n            'f': \"147.0\",\n        },\n{\n            'v': 11,\n            'f': \"11\",\n        }],\n [{\n            'v': 11,\n            'f': \"11\",\n        },\n{\n            'v': 158.0,\n            'f': \"158.0\",\n        },\n{\n            'v': 12,\n            'f': \"12\",\n        }],\n [{\n            'v': 12,\n            'f': \"12\",\n        },\n{\n            'v': 161.0,\n            'f': \"161.0\",\n        },\n{\n            'v': 13,\n            'f': \"13\",\n        }],\n [{\n            'v': 13,\n            'f': \"13\",\n        },\n{\n            'v': 185.0,\n            'f': \"185.0\",\n        },\n{\n            'v': 14,\n            'f': \"14\",\n        }],\n [{\n            'v': 14,\n            'f': \"14\",\n        },\n{\n            'v': 195.0,\n            'f': \"195.0\",\n        },\n{\n            'v': 15,\n            'f': \"15\",\n        }],\n [{\n            'v': 15,\n            'f': \"15\",\n        },\n{\n            'v': 223.0,\n            'f': \"223.0\",\n        },\n{\n            'v': 16,\n            'f': \"16\",\n        }],\n [{\n            'v': 16,\n            'f': \"16\",\n        },\n{\n            'v': 225.0,\n            'f': \"225.0\",\n        },\n{\n            'v': 17,\n            'f': \"17\",\n        }],\n [{\n            'v': 17,\n            'f': \"17\",\n        },\n{\n            'v': 244.0,\n            'f': \"244.0\",\n        },\n{\n            'v': 18,\n            'f': \"18\",\n        }],\n [{\n            'v': 18,\n            'f': \"18\",\n        },\n{\n            'v': 260.0,\n            'f': \"260.0\",\n        },\n{\n            'v': 19,\n            'f': \"19\",\n        }],\n [{\n            'v': 19,\n            'f': \"19\",\n        },\n{\n            'v': 268.0,\n            'f': \"268.0\",\n        },\n{\n            'v': 20,\n            'f': \"20\",\n        }],\n [{\n            'v': 20,\n            'f': \"20\",\n        },\n{\n            'v': 301.0,\n            'f': \"301.0\",\n        },\n{\n            'v': 21,\n            'f': \"21\",\n        }],\n [{\n            'v': 21,\n            'f': \"21\",\n        },\n{\n            'v': 377.0,\n            'f': \"377.0\",\n        },\n{\n            'v': 22,\n            'f': \"22\",\n        }],\n [{\n            'v': 22,\n            'f': \"22\",\n        },\n{\n            'v': 406.0,\n            'f': \"406.0\",\n        },\n{\n            'v': 23,\n            'f': \"23\",\n        }],\n [{\n            'v': 23,\n            'f': \"23\",\n        },\n{\n            'v': 477.0,\n            'f': \"477.0\",\n        },\n{\n            'v': 24,\n            'f': \"24\",\n        }],\n [{\n            'v': 24,\n            'f': \"24\",\n        },\n{\n            'v': 552.0,\n            'f': \"552.0\",\n        },\n{\n            'v': 25,\n            'f': \"25\",\n        }],\n [{\n            'v': 25,\n            'f': \"25\",\n        },\n{\n            'v': 1303.0,\n            'f': \"1303.0\",\n        },\n{\n            'v': 26,\n            'f': \"26\",\n        }],\n [{\n            'v': 26,\n            'f': \"26\",\n        },\n{\n            'v': 3708.0,\n            'f': \"3708.0\",\n        },\n{\n            'v': 27,\n            'f': \"27\",\n        }]],\n        columns: [[\"number\", \"index\"], [\"number\", \"Element\"], [\"number\", \"Rank\"]],\n        columnOptions: [{\"width\": \"1px\", \"className\": \"index_column\"}],\n        rowsPerPage: 25,\n        helpUrl: \"https://colab.research.google.com/notebooks/data_table.ipynb\",\n        suppressOutputScrolling: true,\n        minimumWidth: undefined,\n      });\n\n      function appendQuickchartButton(parentElement) {\n        let quickchartButtonContainerElement = document.createElement('div');\n        quickchartButtonContainerElement.innerHTML = `\n<div id=\"df-b666871c-cbd4-492d-80cd-3fe10170dabf\">\n  <button class=\"colab-df-quickchart\" onclick=\"quickchart('df-b666871c-cbd4-492d-80cd-3fe10170dabf')\"\n            title=\"Suggest charts\"\n            style=\"display:none;\">\n    \n<svg xmlns=\"http://www.w3.org/2000/svg\" height=\"24px\"viewBox=\"0 0 24 24\"\n     width=\"24px\">\n    <g>\n        <path d=\"M19 3H5c-1.1 0-2 .9-2 2v14c0 1.1.9 2 2 2h14c1.1 0 2-.9 2-2V5c0-1.1-.9-2-2-2zM9 17H7v-7h2v7zm4 0h-2V7h2v10zm4 0h-2v-4h2v4z\"/>\n    </g>\n</svg>\n  </button>\n  \n<style>\n  .colab-df-quickchart {\n      --bg-color: #E8F0FE;\n      --fill-color: #1967D2;\n      --hover-bg-color: #E2EBFA;\n      --hover-fill-color: #174EA6;\n      --disabled-fill-color: #AAA;\n      --disabled-bg-color: #DDD;\n  }\n\n  [theme=dark] .colab-df-quickchart {\n      --bg-color: #3B4455;\n      --fill-color: #D2E3FC;\n      --hover-bg-color: #434B5C;\n      --hover-fill-color: #FFFFFF;\n      --disabled-bg-color: #3B4455;\n      --disabled-fill-color: #666;\n  }\n\n  .colab-df-quickchart {\n    background-color: var(--bg-color);\n    border: none;\n    border-radius: 50%;\n    cursor: pointer;\n    display: none;\n    fill: var(--fill-color);\n    height: 32px;\n    padding: 0;\n    width: 32px;\n  }\n\n  .colab-df-quickchart:hover {\n    background-color: var(--hover-bg-color);\n    box-shadow: 0 1px 2px rgba(60, 64, 67, 0.3), 0 1px 3px 1px rgba(60, 64, 67, 0.15);\n    fill: var(--button-hover-fill-color);\n  }\n\n  .colab-df-quickchart-complete:disabled,\n  .colab-df-quickchart-complete:disabled:hover {\n    background-color: var(--disabled-bg-color);\n    fill: var(--disabled-fill-color);\n    box-shadow: none;\n  }\n\n  .colab-df-spinner {\n    border: 2px solid var(--fill-color);\n    border-color: transparent;\n    border-bottom-color: var(--fill-color);\n    animation:\n      spin 1s steps(1) infinite;\n  }\n\n  @keyframes spin {\n    0% {\n      border-color: transparent;\n      border-bottom-color: var(--fill-color);\n      border-left-color: var(--fill-color);\n    }\n    20% {\n      border-color: transparent;\n      border-left-color: var(--fill-color);\n      border-top-color: var(--fill-color);\n    }\n    30% {\n      border-color: transparent;\n      border-left-color: var(--fill-color);\n      border-top-color: var(--fill-color);\n      border-right-color: var(--fill-color);\n    }\n    40% {\n      border-color: transparent;\n      border-right-color: var(--fill-color);\n      border-top-color: var(--fill-color);\n    }\n    60% {\n      border-color: transparent;\n      border-right-color: var(--fill-color);\n    }\n    80% {\n      border-color: transparent;\n      border-right-color: var(--fill-color);\n      border-bottom-color: var(--fill-color);\n    }\n    90% {\n      border-color: transparent;\n      border-bottom-color: var(--fill-color);\n    }\n  }\n</style>\n\n  <script>\n    async function quickchart(key) {\n      const quickchartButtonEl =\n        document.querySelector('#' + key + ' button');\n      quickchartButtonEl.disabled = true;  // To prevent multiple clicks.\n      quickchartButtonEl.classList.add('colab-df-spinner');\n      try {\n        const charts = await google.colab.kernel.invokeFunction(\n            'suggestCharts', [key], {});\n      } catch (error) {\n        console.error('Error during call to suggestCharts:', error);\n      }\n      quickchartButtonEl.classList.remove('colab-df-spinner');\n      quickchartButtonEl.classList.add('colab-df-quickchart-complete');\n    }\n    (() => {\n      let quickchartButtonEl =\n        document.querySelector('#df-b666871c-cbd4-492d-80cd-3fe10170dabf button');\n      quickchartButtonEl.style.display =\n        google.colab.kernel.accessAllowed ? 'block' : 'none';\n    })();\n  </script>\n</div>`;\n        parentElement.appendChild(quickchartButtonContainerElement);\n      }\n\n      appendQuickchartButton(table);\n    "
          },
          "metadata": {}
        }
      ]
    },
    {
      "cell_type": "code",
      "source": [
        "from collections import Counter\n",
        "sample1frequency=Counter(sample1)\n",
        "sample2frequency=Counter(sample2)\n",
        "sample1ranks=0\n",
        "sample2ranks=0\n",
        "for value,count in sample1frequency.items():\n",
        "  for i in range(len(element_ranks)):\n",
        "    if(element_ranks[i][0]==value):\n",
        "      sample1ranks+=element_ranks[i][1]*count\n",
        "      break\n",
        "for value,count in sample2frequency.items():\n",
        "  for i in range(len(element_ranks)):\n",
        "    if(element_ranks[i][0]==value):\n",
        "      sample2ranks+=element_ranks[i][1]*count\n",
        "      break\n",
        "print(\"Total sum of ranks for sample1 is\",sample1ranks)\n",
        "print(\"Total sum of ranks for sample2 is\",sample2ranks)"
      ],
      "metadata": {
        "id": "Cl_F_uYXuDLG",
        "colab": {
          "base_uri": "https://localhost:8080/"
        },
        "outputId": "ad91d6bb-6fa9-4868-bd88-fc518f2a1f41"
      },
      "execution_count": null,
      "outputs": [
        {
          "output_type": "stream",
          "name": "stdout",
          "text": [
            "Total sum of ranks for sample1 is 224\n",
            "Total sum of ranks for sample2 is 154\n"
          ]
        }
      ]
    },
    {
      "cell_type": "code",
      "source": [
        "from math import sqrt\n",
        "from scipy.stats import norm\n",
        "n1=len(sample1)\n",
        "n2=len(sample2)\n",
        "ur=(min(n1,n2)*(n1+n2+1))/2\n",
        "sigmar=sqrt(n1*n2*(n1+n2+1)/12)\n",
        "print(\"value of ur is \",ur)\n",
        "print(\"value of sigmar is\",sigmar)\n",
        "if n1<=n2:\n",
        "  z=(sample1ranks-ur)/sigmar\n",
        "else:\n",
        "  z=(sample2ranks-ur)/sigmar\n",
        "print(\"here zcalculated is \",z)\n",
        "\n",
        "\n",
        "\n",
        "alpha = 0.05\n",
        "z_critical = norm.ppf(1 - alpha/2)\n",
        "if(z<=z_critical):\n",
        "  print(\"Null hypothesis is accepted\")\n",
        "else:\n",
        "  print(\"Null hypothesis is rejected\")\n"
      ],
      "metadata": {
        "colab": {
          "base_uri": "https://localhost:8080/"
        },
        "id": "NTf52niYuP8u",
        "outputId": "f384533b-154f-49ab-d92c-4cbd8cb6f38b"
      },
      "execution_count": null,
      "outputs": [
        {
          "output_type": "stream",
          "name": "stdout",
          "text": [
            "value of ur is  168.0\n",
            "value of sigmar is 20.493901531919196\n",
            "here zcalculated is  -0.6831300510639733\n",
            "Null hypothesis is accepted\n"
          ]
        }
      ]
    },
    {
      "cell_type": "markdown",
      "source": [
        "### **Conclusion**\n",
        "Based on the results of the Wilcoxon Rank sum  test with a significance level of 0.05, we reject the null hypothesis. This suggests that there is a statistically significant difference between the two samples, indicating that there is evidence of a meaningful change or effect in the data."
      ],
      "metadata": {
        "id": "gxtBg-4ZuhV-"
      }
    },
    {
      "cell_type": "markdown",
      "source": [
        "## **Wilcoxon signed-rank test**\n",
        "\n",
        "**Null Hypothesis** (H0): There is no average difference in 'COVID-19 Deaths' between the two conditions (Respiratory diseases and Circulatory diseases) at the population level at α = 0.05\n",
        "\n",
        "**Alternative Hypothesis** (H1):there is a significant difference in the population mean of the differences in 'COVID-19 Deaths' between the two conditions at α = 0.05."
      ],
      "metadata": {
        "id": "zX99BaY6u-XI"
      }
    },
    {
      "cell_type": "markdown",
      "source": [
        "When sample size<30"
      ],
      "metadata": {
        "id": "RqW7a67zUWF5"
      }
    },
    {
      "cell_type": "code",
      "source": [
        "critical_table_two_tailed={\n",
        "    6:1,\n",
        "    7:2,\n",
        "    8:4,\n",
        "    9:6,\n",
        "    10:8,\n",
        "    11:11,\n",
        "    12:14,\n",
        "    13:17,\n",
        "    14:21,\n",
        "    15:25,\n",
        "    16:30,\n",
        "    17:35,\n",
        "    18:40,\n",
        "    19:46,\n",
        "    20:52,\n",
        "    21:59,\n",
        "    22:66,\n",
        "    23:73,\n",
        "    24:81,\n",
        "    25:90,\n",
        "    30:137\n",
        "}"
      ],
      "metadata": {
        "id": "TUw8PyyfUeIL"
      },
      "execution_count": null,
      "outputs": []
    },
    {
      "cell_type": "code",
      "source": [
        "import pandas as pd\n",
        "df=pd.read_csv(\"covid.csv\")\n",
        "# Extract the relevant columns and exclude null values\n",
        "condition1_data = df.loc[(df['Condition Group'] == 'Respiratory diseases') & (df['COVID-19 Deaths'].notnull()) & (df['COVID-19 Deaths'] != 0), 'COVID-19 Deaths']\n",
        "condition2_data = df.loc[(df['Condition Group'] == 'Circulatory diseases') & (df['COVID-19 Deaths'].notnull()) & (df['COVID-19 Deaths'] != 0), 'COVID-19 Deaths']\n",
        "\n",
        "# Check if each condition has at least 13 non-null data points\n",
        "if len(condition1_data) < 13 or len(condition2_data) < 13:\n",
        "    print(\"Not enough non-null data points in one or both conditions.\")\n",
        "else:\n",
        "      # Randomly sample 13 non-null data points from each condition\n",
        "    sample_size = 13\n",
        "    condition1_sample = condition1_data.sample(n=sample_size, random_state=42).reset_index(drop=True)\n",
        "    condition2_sample = condition2_data.sample(n=sample_size, random_state=42).reset_index(drop=True)\n",
        "df_condition1 = pd.DataFrame({'Condition1 Sample': condition1_sample})\n",
        "df_condition2 = pd.DataFrame({'Condition2 Sample': condition2_sample})\n",
        "\n",
        "\n",
        "result_df = pd.concat([df_condition1, df_condition2], axis=1)\n",
        "\n"
      ],
      "metadata": {
        "id": "bVNqCtESUi6r"
      },
      "execution_count": null,
      "outputs": []
    },
    {
      "cell_type": "code",
      "source": [
        "from collections import defaultdict\n",
        "from IPython.display import display\n",
        "result_df['Difference'] = result_df['Condition2 Sample'] - result_df['Condition1 Sample']\n",
        "result_df['absolute_difference']=abs(result_df['Difference'])\n",
        "result_df = result_df.sort_values(by='absolute_difference').reset_index(drop=True)\n",
        "result_df['Rank'] = result_df['absolute_difference'].rank()\n",
        "result_df['Signed_Rank'] = result_df['Rank'] * result_df['Difference'].apply(lambda x: 1 if x > 0 else -1)\n",
        "sum_positive_ranks = result_df[result_df['Signed_Rank'] > 0]['Signed_Rank'].sum()\n",
        "sum_negative_ranks = result_df[result_df['Signed_Rank'] < 0]['Signed_Rank'].sum()\n",
        "display(result_df)\n",
        "print(\"Sum of Positive Ranks:\", sum_positive_ranks)\n",
        "print(\"Sum of Negative Ranks:\", sum_negative_ranks)\n",
        "n=result_df[result_df['Difference'] != 0].shape[0]\n",
        "print(\"n is \",n)\n",
        "ws=min(abs(sum_negative_ranks),sum_positive_ranks)\n",
        "print(\"test_value\",ws)\n",
        "alpha=0.05\n",
        "print(\"level of signifance is:\",alpha)\n",
        "criticalvalue=critical_table_two_tailed[n]\n",
        "print(\"critical value is\",criticalvalue)\n",
        "if(ws<=criticalvalue):\n",
        "  print(\"Null Hypothesis is rejected\")\n",
        "else:\n",
        "  print(\"Null hypothesis is accepted\")"
      ],
      "metadata": {
        "id": "1qe51-sFUn7r",
        "colab": {
          "base_uri": "https://localhost:8080/",
          "height": 520
        },
        "outputId": "71f02396-2125-482b-95cb-ec7c8fd42ade"
      },
      "execution_count": null,
      "outputs": [
        {
          "output_type": "display_data",
          "data": {
            "text/plain": [
              "    Condition1 Sample  ...  Signed_Rank\n",
              "0                10.0  ...          1.0\n",
              "1                65.0  ...          2.0\n",
              "2                33.0  ...         -3.0\n",
              "3                34.0  ...          4.0\n",
              "4                23.0  ...         -5.0\n",
              "5                19.0  ...          6.0\n",
              "6                47.0  ...         -7.0\n",
              "7               102.0  ...         -8.0\n",
              "8                17.0  ...          9.0\n",
              "9                90.0  ...         10.0\n",
              "10               77.0  ...         11.0\n",
              "11               68.0  ...         12.0\n",
              "12               12.0  ...         13.0\n",
              "\n",
              "[13 rows x 6 columns]"
            ],
            "text/html": [
              "\n",
              "  <div id=\"df-7e16e0d1-449d-4c90-bcd5-744e7a332acd\" class=\"colab-df-container\">\n",
              "    <div>\n",
              "<style scoped>\n",
              "    .dataframe tbody tr th:only-of-type {\n",
              "        vertical-align: middle;\n",
              "    }\n",
              "\n",
              "    .dataframe tbody tr th {\n",
              "        vertical-align: top;\n",
              "    }\n",
              "\n",
              "    .dataframe thead th {\n",
              "        text-align: right;\n",
              "    }\n",
              "</style>\n",
              "<table border=\"1\" class=\"dataframe\">\n",
              "  <thead>\n",
              "    <tr style=\"text-align: right;\">\n",
              "      <th></th>\n",
              "      <th>Condition1 Sample</th>\n",
              "      <th>...</th>\n",
              "      <th>Signed_Rank</th>\n",
              "    </tr>\n",
              "  </thead>\n",
              "  <tbody>\n",
              "    <tr>\n",
              "      <th>0</th>\n",
              "      <td>10.0</td>\n",
              "      <td>...</td>\n",
              "      <td>1.0</td>\n",
              "    </tr>\n",
              "    <tr>\n",
              "      <th>1</th>\n",
              "      <td>65.0</td>\n",
              "      <td>...</td>\n",
              "      <td>2.0</td>\n",
              "    </tr>\n",
              "    <tr>\n",
              "      <th>2</th>\n",
              "      <td>33.0</td>\n",
              "      <td>...</td>\n",
              "      <td>-3.0</td>\n",
              "    </tr>\n",
              "    <tr>\n",
              "      <th>3</th>\n",
              "      <td>34.0</td>\n",
              "      <td>...</td>\n",
              "      <td>4.0</td>\n",
              "    </tr>\n",
              "    <tr>\n",
              "      <th>4</th>\n",
              "      <td>23.0</td>\n",
              "      <td>...</td>\n",
              "      <td>-5.0</td>\n",
              "    </tr>\n",
              "    <tr>\n",
              "      <th>5</th>\n",
              "      <td>19.0</td>\n",
              "      <td>...</td>\n",
              "      <td>6.0</td>\n",
              "    </tr>\n",
              "    <tr>\n",
              "      <th>6</th>\n",
              "      <td>47.0</td>\n",
              "      <td>...</td>\n",
              "      <td>-7.0</td>\n",
              "    </tr>\n",
              "    <tr>\n",
              "      <th>7</th>\n",
              "      <td>102.0</td>\n",
              "      <td>...</td>\n",
              "      <td>-8.0</td>\n",
              "    </tr>\n",
              "    <tr>\n",
              "      <th>8</th>\n",
              "      <td>17.0</td>\n",
              "      <td>...</td>\n",
              "      <td>9.0</td>\n",
              "    </tr>\n",
              "    <tr>\n",
              "      <th>9</th>\n",
              "      <td>90.0</td>\n",
              "      <td>...</td>\n",
              "      <td>10.0</td>\n",
              "    </tr>\n",
              "    <tr>\n",
              "      <th>10</th>\n",
              "      <td>77.0</td>\n",
              "      <td>...</td>\n",
              "      <td>11.0</td>\n",
              "    </tr>\n",
              "    <tr>\n",
              "      <th>11</th>\n",
              "      <td>68.0</td>\n",
              "      <td>...</td>\n",
              "      <td>12.0</td>\n",
              "    </tr>\n",
              "    <tr>\n",
              "      <th>12</th>\n",
              "      <td>12.0</td>\n",
              "      <td>...</td>\n",
              "      <td>13.0</td>\n",
              "    </tr>\n",
              "  </tbody>\n",
              "</table>\n",
              "<p>13 rows × 6 columns</p>\n",
              "</div>\n",
              "    <div class=\"colab-df-buttons\">\n",
              "\n",
              "  <div class=\"colab-df-container\">\n",
              "    <button class=\"colab-df-convert\" onclick=\"convertToInteractive('df-7e16e0d1-449d-4c90-bcd5-744e7a332acd')\"\n",
              "            title=\"Convert this dataframe to an interactive table.\"\n",
              "            style=\"display:none;\">\n",
              "\n",
              "  <svg xmlns=\"http://www.w3.org/2000/svg\" height=\"24px\" viewBox=\"0 -960 960 960\">\n",
              "    <path d=\"M120-120v-720h720v720H120Zm60-500h600v-160H180v160Zm220 220h160v-160H400v160Zm0 220h160v-160H400v160ZM180-400h160v-160H180v160Zm440 0h160v-160H620v160ZM180-180h160v-160H180v160Zm440 0h160v-160H620v160Z\"/>\n",
              "  </svg>\n",
              "    </button>\n",
              "\n",
              "  <style>\n",
              "    .colab-df-container {\n",
              "      display:flex;\n",
              "      gap: 12px;\n",
              "    }\n",
              "\n",
              "    .colab-df-convert {\n",
              "      background-color: #E8F0FE;\n",
              "      border: none;\n",
              "      border-radius: 50%;\n",
              "      cursor: pointer;\n",
              "      display: none;\n",
              "      fill: #1967D2;\n",
              "      height: 32px;\n",
              "      padding: 0 0 0 0;\n",
              "      width: 32px;\n",
              "    }\n",
              "\n",
              "    .colab-df-convert:hover {\n",
              "      background-color: #E2EBFA;\n",
              "      box-shadow: 0px 1px 2px rgba(60, 64, 67, 0.3), 0px 1px 3px 1px rgba(60, 64, 67, 0.15);\n",
              "      fill: #174EA6;\n",
              "    }\n",
              "\n",
              "    .colab-df-buttons div {\n",
              "      margin-bottom: 4px;\n",
              "    }\n",
              "\n",
              "    [theme=dark] .colab-df-convert {\n",
              "      background-color: #3B4455;\n",
              "      fill: #D2E3FC;\n",
              "    }\n",
              "\n",
              "    [theme=dark] .colab-df-convert:hover {\n",
              "      background-color: #434B5C;\n",
              "      box-shadow: 0px 1px 3px 1px rgba(0, 0, 0, 0.15);\n",
              "      filter: drop-shadow(0px 1px 2px rgba(0, 0, 0, 0.3));\n",
              "      fill: #FFFFFF;\n",
              "    }\n",
              "  </style>\n",
              "\n",
              "    <script>\n",
              "      const buttonEl =\n",
              "        document.querySelector('#df-7e16e0d1-449d-4c90-bcd5-744e7a332acd button.colab-df-convert');\n",
              "      buttonEl.style.display =\n",
              "        google.colab.kernel.accessAllowed ? 'block' : 'none';\n",
              "\n",
              "      async function convertToInteractive(key) {\n",
              "        const element = document.querySelector('#df-7e16e0d1-449d-4c90-bcd5-744e7a332acd');\n",
              "        const dataTable =\n",
              "          await google.colab.kernel.invokeFunction('convertToInteractive',\n",
              "                                                    [key], {});\n",
              "        if (!dataTable) return;\n",
              "\n",
              "        const docLinkHtml = 'Like what you see? Visit the ' +\n",
              "          '<a target=\"_blank\" href=https://colab.research.google.com/notebooks/data_table.ipynb>data table notebook</a>'\n",
              "          + ' to learn more about interactive tables.';\n",
              "        element.innerHTML = '';\n",
              "        dataTable['output_type'] = 'display_data';\n",
              "        await google.colab.output.renderOutput(dataTable, element);\n",
              "        const docLink = document.createElement('div');\n",
              "        docLink.innerHTML = docLinkHtml;\n",
              "        element.appendChild(docLink);\n",
              "      }\n",
              "    </script>\n",
              "  </div>\n",
              "\n",
              "\n",
              "<div id=\"df-52dc7e3a-78f3-4533-98e0-576eddf09b85\">\n",
              "  <button class=\"colab-df-quickchart\" onclick=\"quickchart('df-52dc7e3a-78f3-4533-98e0-576eddf09b85')\"\n",
              "            title=\"Suggest charts\"\n",
              "            style=\"display:none;\">\n",
              "\n",
              "<svg xmlns=\"http://www.w3.org/2000/svg\" height=\"24px\"viewBox=\"0 0 24 24\"\n",
              "     width=\"24px\">\n",
              "    <g>\n",
              "        <path d=\"M19 3H5c-1.1 0-2 .9-2 2v14c0 1.1.9 2 2 2h14c1.1 0 2-.9 2-2V5c0-1.1-.9-2-2-2zM9 17H7v-7h2v7zm4 0h-2V7h2v10zm4 0h-2v-4h2v4z\"/>\n",
              "    </g>\n",
              "</svg>\n",
              "  </button>\n",
              "\n",
              "<style>\n",
              "  .colab-df-quickchart {\n",
              "      --bg-color: #E8F0FE;\n",
              "      --fill-color: #1967D2;\n",
              "      --hover-bg-color: #E2EBFA;\n",
              "      --hover-fill-color: #174EA6;\n",
              "      --disabled-fill-color: #AAA;\n",
              "      --disabled-bg-color: #DDD;\n",
              "  }\n",
              "\n",
              "  [theme=dark] .colab-df-quickchart {\n",
              "      --bg-color: #3B4455;\n",
              "      --fill-color: #D2E3FC;\n",
              "      --hover-bg-color: #434B5C;\n",
              "      --hover-fill-color: #FFFFFF;\n",
              "      --disabled-bg-color: #3B4455;\n",
              "      --disabled-fill-color: #666;\n",
              "  }\n",
              "\n",
              "  .colab-df-quickchart {\n",
              "    background-color: var(--bg-color);\n",
              "    border: none;\n",
              "    border-radius: 50%;\n",
              "    cursor: pointer;\n",
              "    display: none;\n",
              "    fill: var(--fill-color);\n",
              "    height: 32px;\n",
              "    padding: 0;\n",
              "    width: 32px;\n",
              "  }\n",
              "\n",
              "  .colab-df-quickchart:hover {\n",
              "    background-color: var(--hover-bg-color);\n",
              "    box-shadow: 0 1px 2px rgba(60, 64, 67, 0.3), 0 1px 3px 1px rgba(60, 64, 67, 0.15);\n",
              "    fill: var(--button-hover-fill-color);\n",
              "  }\n",
              "\n",
              "  .colab-df-quickchart-complete:disabled,\n",
              "  .colab-df-quickchart-complete:disabled:hover {\n",
              "    background-color: var(--disabled-bg-color);\n",
              "    fill: var(--disabled-fill-color);\n",
              "    box-shadow: none;\n",
              "  }\n",
              "\n",
              "  .colab-df-spinner {\n",
              "    border: 2px solid var(--fill-color);\n",
              "    border-color: transparent;\n",
              "    border-bottom-color: var(--fill-color);\n",
              "    animation:\n",
              "      spin 1s steps(1) infinite;\n",
              "  }\n",
              "\n",
              "  @keyframes spin {\n",
              "    0% {\n",
              "      border-color: transparent;\n",
              "      border-bottom-color: var(--fill-color);\n",
              "      border-left-color: var(--fill-color);\n",
              "    }\n",
              "    20% {\n",
              "      border-color: transparent;\n",
              "      border-left-color: var(--fill-color);\n",
              "      border-top-color: var(--fill-color);\n",
              "    }\n",
              "    30% {\n",
              "      border-color: transparent;\n",
              "      border-left-color: var(--fill-color);\n",
              "      border-top-color: var(--fill-color);\n",
              "      border-right-color: var(--fill-color);\n",
              "    }\n",
              "    40% {\n",
              "      border-color: transparent;\n",
              "      border-right-color: var(--fill-color);\n",
              "      border-top-color: var(--fill-color);\n",
              "    }\n",
              "    60% {\n",
              "      border-color: transparent;\n",
              "      border-right-color: var(--fill-color);\n",
              "    }\n",
              "    80% {\n",
              "      border-color: transparent;\n",
              "      border-right-color: var(--fill-color);\n",
              "      border-bottom-color: var(--fill-color);\n",
              "    }\n",
              "    90% {\n",
              "      border-color: transparent;\n",
              "      border-bottom-color: var(--fill-color);\n",
              "    }\n",
              "  }\n",
              "</style>\n",
              "\n",
              "  <script>\n",
              "    async function quickchart(key) {\n",
              "      const quickchartButtonEl =\n",
              "        document.querySelector('#' + key + ' button');\n",
              "      quickchartButtonEl.disabled = true;  // To prevent multiple clicks.\n",
              "      quickchartButtonEl.classList.add('colab-df-spinner');\n",
              "      try {\n",
              "        const charts = await google.colab.kernel.invokeFunction(\n",
              "            'suggestCharts', [key], {});\n",
              "      } catch (error) {\n",
              "        console.error('Error during call to suggestCharts:', error);\n",
              "      }\n",
              "      quickchartButtonEl.classList.remove('colab-df-spinner');\n",
              "      quickchartButtonEl.classList.add('colab-df-quickchart-complete');\n",
              "    }\n",
              "    (() => {\n",
              "      let quickchartButtonEl =\n",
              "        document.querySelector('#df-52dc7e3a-78f3-4533-98e0-576eddf09b85 button');\n",
              "      quickchartButtonEl.style.display =\n",
              "        google.colab.kernel.accessAllowed ? 'block' : 'none';\n",
              "    })();\n",
              "  </script>\n",
              "</div>\n",
              "    </div>\n",
              "  </div>\n"
            ],
            "application/vnd.google.colaboratory.module+javascript": "\n      import \"https://ssl.gstatic.com/colaboratory/data_table/881c4a0d49046431/data_table.js\";\n\n      const table = window.createDataTable({\n        data: [[{\n            'v': 0,\n            'f': \"0\",\n        },\n{\n            'v': 10.0,\n            'f': \"10.0\",\n        },\n{\n            'v': 15.0,\n            'f': \"15.0\",\n        },\n{\n            'v': 5.0,\n            'f': \"5.0\",\n        },\n{\n            'v': 5.0,\n            'f': \"5.0\",\n        },\n{\n            'v': 1.0,\n            'f': \"1.0\",\n        },\n{\n            'v': 1.0,\n            'f': \"1.0\",\n        }],\n [{\n            'v': 1,\n            'f': \"1\",\n        },\n{\n            'v': 65.0,\n            'f': \"65.0\",\n        },\n{\n            'v': 71.0,\n            'f': \"71.0\",\n        },\n{\n            'v': 6.0,\n            'f': \"6.0\",\n        },\n{\n            'v': 6.0,\n            'f': \"6.0\",\n        },\n{\n            'v': 2.0,\n            'f': \"2.0\",\n        },\n{\n            'v': 2.0,\n            'f': \"2.0\",\n        }],\n [{\n            'v': 2,\n            'f': \"2\",\n        },\n{\n            'v': 33.0,\n            'f': \"33.0\",\n        },\n{\n            'v': 25.0,\n            'f': \"25.0\",\n        },\n{\n            'v': -8.0,\n            'f': \"-8.0\",\n        },\n{\n            'v': 8.0,\n            'f': \"8.0\",\n        },\n{\n            'v': 3.0,\n            'f': \"3.0\",\n        },\n{\n            'v': -3.0,\n            'f': \"-3.0\",\n        }],\n [{\n            'v': 3,\n            'f': \"3\",\n        },\n{\n            'v': 34.0,\n            'f': \"34.0\",\n        },\n{\n            'v': 43.0,\n            'f': \"43.0\",\n        },\n{\n            'v': 9.0,\n            'f': \"9.0\",\n        },\n{\n            'v': 9.0,\n            'f': \"9.0\",\n        },\n{\n            'v': 4.0,\n            'f': \"4.0\",\n        },\n{\n            'v': 4.0,\n            'f': \"4.0\",\n        }],\n [{\n            'v': 4,\n            'f': \"4\",\n        },\n{\n            'v': 23.0,\n            'f': \"23.0\",\n        },\n{\n            'v': 13.0,\n            'f': \"13.0\",\n        },\n{\n            'v': -10.0,\n            'f': \"-10.0\",\n        },\n{\n            'v': 10.0,\n            'f': \"10.0\",\n        },\n{\n            'v': 5.0,\n            'f': \"5.0\",\n        },\n{\n            'v': -5.0,\n            'f': \"-5.0\",\n        }],\n [{\n            'v': 5,\n            'f': \"5\",\n        },\n{\n            'v': 19.0,\n            'f': \"19.0\",\n        },\n{\n            'v': 30.0,\n            'f': \"30.0\",\n        },\n{\n            'v': 11.0,\n            'f': \"11.0\",\n        },\n{\n            'v': 11.0,\n            'f': \"11.0\",\n        },\n{\n            'v': 6.0,\n            'f': \"6.0\",\n        },\n{\n            'v': 6.0,\n            'f': \"6.0\",\n        }],\n [{\n            'v': 6,\n            'f': \"6\",\n        },\n{\n            'v': 47.0,\n            'f': \"47.0\",\n        },\n{\n            'v': 24.0,\n            'f': \"24.0\",\n        },\n{\n            'v': -23.0,\n            'f': \"-23.0\",\n        },\n{\n            'v': 23.0,\n            'f': \"23.0\",\n        },\n{\n            'v': 7.0,\n            'f': \"7.0\",\n        },\n{\n            'v': -7.0,\n            'f': \"-7.0\",\n        }],\n [{\n            'v': 7,\n            'f': \"7\",\n        },\n{\n            'v': 102.0,\n            'f': \"102.0\",\n        },\n{\n            'v': 24.0,\n            'f': \"24.0\",\n        },\n{\n            'v': -78.0,\n            'f': \"-78.0\",\n        },\n{\n            'v': 78.0,\n            'f': \"78.0\",\n        },\n{\n            'v': 8.0,\n            'f': \"8.0\",\n        },\n{\n            'v': -8.0,\n            'f': \"-8.0\",\n        }],\n [{\n            'v': 8,\n            'f': \"8\",\n        },\n{\n            'v': 17.0,\n            'f': \"17.0\",\n        },\n{\n            'v': 97.0,\n            'f': \"97.0\",\n        },\n{\n            'v': 80.0,\n            'f': \"80.0\",\n        },\n{\n            'v': 80.0,\n            'f': \"80.0\",\n        },\n{\n            'v': 9.0,\n            'f': \"9.0\",\n        },\n{\n            'v': 9.0,\n            'f': \"9.0\",\n        }],\n [{\n            'v': 9,\n            'f': \"9\",\n        },\n{\n            'v': 90.0,\n            'f': \"90.0\",\n        },\n{\n            'v': 299.0,\n            'f': \"299.0\",\n        },\n{\n            'v': 209.0,\n            'f': \"209.0\",\n        },\n{\n            'v': 209.0,\n            'f': \"209.0\",\n        },\n{\n            'v': 10.0,\n            'f': \"10.0\",\n        },\n{\n            'v': 10.0,\n            'f': \"10.0\",\n        }],\n [{\n            'v': 10,\n            'f': \"10\",\n        },\n{\n            'v': 77.0,\n            'f': \"77.0\",\n        },\n{\n            'v': 334.0,\n            'f': \"334.0\",\n        },\n{\n            'v': 257.0,\n            'f': \"257.0\",\n        },\n{\n            'v': 257.0,\n            'f': \"257.0\",\n        },\n{\n            'v': 11.0,\n            'f': \"11.0\",\n        },\n{\n            'v': 11.0,\n            'f': \"11.0\",\n        }],\n [{\n            'v': 11,\n            'f': \"11\",\n        },\n{\n            'v': 68.0,\n            'f': \"68.0\",\n        },\n{\n            'v': 1489.0,\n            'f': \"1489.0\",\n        },\n{\n            'v': 1421.0,\n            'f': \"1421.0\",\n        },\n{\n            'v': 1421.0,\n            'f': \"1421.0\",\n        },\n{\n            'v': 12.0,\n            'f': \"12.0\",\n        },\n{\n            'v': 12.0,\n            'f': \"12.0\",\n        }],\n [{\n            'v': 12,\n            'f': \"12\",\n        },\n{\n            'v': 12.0,\n            'f': \"12.0\",\n        },\n{\n            'v': 2570.0,\n            'f': \"2570.0\",\n        },\n{\n            'v': 2558.0,\n            'f': \"2558.0\",\n        },\n{\n            'v': 2558.0,\n            'f': \"2558.0\",\n        },\n{\n            'v': 13.0,\n            'f': \"13.0\",\n        },\n{\n            'v': 13.0,\n            'f': \"13.0\",\n        }]],\n        columns: [[\"number\", \"index\"], [\"number\", \"Condition1 Sample\"], [\"number\", \"Condition2 Sample\"], [\"number\", \"Difference\"], [\"number\", \"absolute_difference\"], [\"number\", \"Rank\"], [\"number\", \"Signed_Rank\"]],\n        columnOptions: [{\"width\": \"1px\", \"className\": \"index_column\"}],\n        rowsPerPage: 25,\n        helpUrl: \"https://colab.research.google.com/notebooks/data_table.ipynb\",\n        suppressOutputScrolling: true,\n        minimumWidth: undefined,\n      });\n\n      function appendQuickchartButton(parentElement) {\n        let quickchartButtonContainerElement = document.createElement('div');\n        quickchartButtonContainerElement.innerHTML = `\n<div id=\"df-720ba749-2439-4250-b882-13333d8fd8ae\">\n  <button class=\"colab-df-quickchart\" onclick=\"quickchart('df-720ba749-2439-4250-b882-13333d8fd8ae')\"\n            title=\"Suggest charts\"\n            style=\"display:none;\">\n    \n<svg xmlns=\"http://www.w3.org/2000/svg\" height=\"24px\"viewBox=\"0 0 24 24\"\n     width=\"24px\">\n    <g>\n        <path d=\"M19 3H5c-1.1 0-2 .9-2 2v14c0 1.1.9 2 2 2h14c1.1 0 2-.9 2-2V5c0-1.1-.9-2-2-2zM9 17H7v-7h2v7zm4 0h-2V7h2v10zm4 0h-2v-4h2v4z\"/>\n    </g>\n</svg>\n  </button>\n  \n<style>\n  .colab-df-quickchart {\n      --bg-color: #E8F0FE;\n      --fill-color: #1967D2;\n      --hover-bg-color: #E2EBFA;\n      --hover-fill-color: #174EA6;\n      --disabled-fill-color: #AAA;\n      --disabled-bg-color: #DDD;\n  }\n\n  [theme=dark] .colab-df-quickchart {\n      --bg-color: #3B4455;\n      --fill-color: #D2E3FC;\n      --hover-bg-color: #434B5C;\n      --hover-fill-color: #FFFFFF;\n      --disabled-bg-color: #3B4455;\n      --disabled-fill-color: #666;\n  }\n\n  .colab-df-quickchart {\n    background-color: var(--bg-color);\n    border: none;\n    border-radius: 50%;\n    cursor: pointer;\n    display: none;\n    fill: var(--fill-color);\n    height: 32px;\n    padding: 0;\n    width: 32px;\n  }\n\n  .colab-df-quickchart:hover {\n    background-color: var(--hover-bg-color);\n    box-shadow: 0 1px 2px rgba(60, 64, 67, 0.3), 0 1px 3px 1px rgba(60, 64, 67, 0.15);\n    fill: var(--button-hover-fill-color);\n  }\n\n  .colab-df-quickchart-complete:disabled,\n  .colab-df-quickchart-complete:disabled:hover {\n    background-color: var(--disabled-bg-color);\n    fill: var(--disabled-fill-color);\n    box-shadow: none;\n  }\n\n  .colab-df-spinner {\n    border: 2px solid var(--fill-color);\n    border-color: transparent;\n    border-bottom-color: var(--fill-color);\n    animation:\n      spin 1s steps(1) infinite;\n  }\n\n  @keyframes spin {\n    0% {\n      border-color: transparent;\n      border-bottom-color: var(--fill-color);\n      border-left-color: var(--fill-color);\n    }\n    20% {\n      border-color: transparent;\n      border-left-color: var(--fill-color);\n      border-top-color: var(--fill-color);\n    }\n    30% {\n      border-color: transparent;\n      border-left-color: var(--fill-color);\n      border-top-color: var(--fill-color);\n      border-right-color: var(--fill-color);\n    }\n    40% {\n      border-color: transparent;\n      border-right-color: var(--fill-color);\n      border-top-color: var(--fill-color);\n    }\n    60% {\n      border-color: transparent;\n      border-right-color: var(--fill-color);\n    }\n    80% {\n      border-color: transparent;\n      border-right-color: var(--fill-color);\n      border-bottom-color: var(--fill-color);\n    }\n    90% {\n      border-color: transparent;\n      border-bottom-color: var(--fill-color);\n    }\n  }\n</style>\n\n  <script>\n    async function quickchart(key) {\n      const quickchartButtonEl =\n        document.querySelector('#' + key + ' button');\n      quickchartButtonEl.disabled = true;  // To prevent multiple clicks.\n      quickchartButtonEl.classList.add('colab-df-spinner');\n      try {\n        const charts = await google.colab.kernel.invokeFunction(\n            'suggestCharts', [key], {});\n      } catch (error) {\n        console.error('Error during call to suggestCharts:', error);\n      }\n      quickchartButtonEl.classList.remove('colab-df-spinner');\n      quickchartButtonEl.classList.add('colab-df-quickchart-complete');\n    }\n    (() => {\n      let quickchartButtonEl =\n        document.querySelector('#df-720ba749-2439-4250-b882-13333d8fd8ae button');\n      quickchartButtonEl.style.display =\n        google.colab.kernel.accessAllowed ? 'block' : 'none';\n    })();\n  </script>\n</div>`;\n        parentElement.appendChild(quickchartButtonContainerElement);\n      }\n\n      appendQuickchartButton(table);\n    "
          },
          "metadata": {}
        },
        {
          "output_type": "stream",
          "name": "stdout",
          "text": [
            "Sum of Positive Ranks: 68.0\n",
            "Sum of Negative Ranks: -23.0\n",
            "n is  13\n",
            "test_value 23.0\n",
            "level of signifance is: 0.05\n",
            "critical value is 17\n",
            "Null hypothesis is accepted\n"
          ]
        }
      ]
    },
    {
      "cell_type": "markdown",
      "source": [
        "when n>=30"
      ],
      "metadata": {
        "id": "saPPxFu_Uuy5"
      }
    },
    {
      "cell_type": "code",
      "source": [
        "import pandas as pd\n",
        "df=pd.read_csv(\"covid.csv\")\n",
        "# Extract the relevant columns and exclude null values\n",
        "condition1_data = df.loc[(df['Condition Group'] == 'Respiratory diseases') & (df['COVID-19 Deaths'].notnull()) & (df['COVID-19 Deaths'] != 0), 'COVID-19 Deaths']\n",
        "condition2_data = df.loc[(df['Condition Group'] == 'Circulatory diseases') & (df['COVID-19 Deaths'].notnull()) & (df['COVID-19 Deaths'] != 0), 'COVID-19 Deaths']\n",
        "\n",
        "# Check if each condition has at least 13 non-null data points\n",
        "if len(condition1_data) < 13 or len(condition2_data) < 13:\n",
        "    print(\"Not enough non-null data points in one or both conditions.\")\n",
        "else:\n",
        "      # Randomly sample 13 non-null data points from each condition\n",
        "    sample_size = 30\n",
        "    condition1_sample = condition1_data.sample(n=sample_size, random_state=42).reset_index(drop=True)\n",
        "    condition2_sample = condition2_data.sample(n=sample_size, random_state=42).reset_index(drop=True)\n",
        "df_condition1 = pd.DataFrame({'Condition1 Sample': condition1_sample})\n",
        "df_condition2 = pd.DataFrame({'Condition2 Sample': condition2_sample})\n",
        "result_df = pd.concat([df_condition1, df_condition2], axis=1)"
      ],
      "metadata": {
        "id": "0ed1IfW3U2K8"
      },
      "execution_count": null,
      "outputs": []
    },
    {
      "cell_type": "code",
      "source": [
        "from collections import defaultdict\n",
        "from IPython.display import display\n",
        "from math import sqrt\n",
        "result_df['Difference'] = result_df['Condition2 Sample'] - result_df['Condition1 Sample']\n",
        "result_df['absolute_difference']=abs(result_df['Difference'])\n",
        "result_df = result_df.sort_values(by='absolute_difference').reset_index(drop=True)\n",
        "result_df['Rank'] = result_df['absolute_difference'].rank()\n",
        "result_df['Signed_Rank'] = result_df['Rank'] * result_df['Difference'].apply(lambda x: 1 if x > 0 else -1)\n",
        "sum_positive_ranks = result_df[result_df['Signed_Rank'] > 0]['Signed_Rank'].sum()\n",
        "sum_negative_ranks = result_df[result_df['Signed_Rank'] < 0]['Signed_Rank'].sum()\n",
        "display(result_df)\n",
        "print(\"Sum of Positive Ranks:\", sum_positive_ranks)\n",
        "print(\"Sum of Negative Ranks:\", sum_negative_ranks)\n",
        "\n",
        "ws=min(abs(sum_negative_ranks),sum_positive_ranks)\n",
        "print(\"test_value\",ws)\n",
        "alpha=0.05\n",
        "print(\"level of signifance is:\",alpha)\n",
        "\n",
        "n=result_df[result_df['Difference'] != 0].shape[0]\n",
        "print(\"n is \",n)\n",
        "criticalvalue=1.96\n",
        "print(\"critical value is\",criticalvalue)\n",
        "z=abs((ws-n*(n+1)/4)/sqrt(n*(n+1)*(2*n+1)/24))\n",
        "print(\"z calculated is \",z)\n",
        "if(z<=criticalvalue):\n",
        "  print(\"Null Hypothesis is accepted\")\n",
        "else:\n",
        "  print(\"Null Hypothesis is rejected\")\n"
      ],
      "metadata": {
        "id": "AJ-XFZAlVBgP",
        "colab": {
          "base_uri": "https://localhost:8080/",
          "height": 803
        },
        "outputId": "f0f0b598-bfea-4474-81b0-1a958e955c77"
      },
      "execution_count": null,
      "outputs": [
        {
          "output_type": "display_data",
          "data": {
            "text/plain": [
              "    Condition1 Sample  ...  Signed_Rank\n",
              "0                16.0  ...          1.0\n",
              "1                25.0  ...         -2.5\n",
              "2                10.0  ...          2.5\n",
              "3                65.0  ...          4.0\n",
              "4                23.0  ...          6.0\n",
              "5                18.0  ...         -6.0\n",
              "6                33.0  ...         -6.0\n",
              "7                34.0  ...          8.0\n",
              "8                23.0  ...         -9.0\n",
              "9                10.0  ...         11.5\n",
              "10               19.0  ...         11.5\n",
              "11               18.0  ...         11.5\n",
              "12               24.0  ...        -11.5\n",
              "13               26.0  ...         14.0\n",
              "14               49.0  ...        -15.0\n",
              "15               47.0  ...        -16.0\n",
              "16               53.0  ...        -17.0\n",
              "17               58.0  ...        -18.0\n",
              "18              102.0  ...        -19.0\n",
              "19               17.0  ...         20.0\n",
              "20              106.0  ...        -21.0\n",
              "21               62.0  ...         22.0\n",
              "22              201.0  ...        -23.0\n",
              "23               18.0  ...         24.0\n",
              "24               16.0  ...         25.0\n",
              "25               90.0  ...         26.0\n",
              "26               77.0  ...         27.0\n",
              "27               68.0  ...         28.0\n",
              "28               12.0  ...         29.0\n",
              "29               17.0  ...         30.0\n",
              "\n",
              "[30 rows x 6 columns]"
            ],
            "text/html": [
              "\n",
              "  <div id=\"df-e6417640-8058-4631-8b14-a6162c7fd5bc\" class=\"colab-df-container\">\n",
              "    <div>\n",
              "<style scoped>\n",
              "    .dataframe tbody tr th:only-of-type {\n",
              "        vertical-align: middle;\n",
              "    }\n",
              "\n",
              "    .dataframe tbody tr th {\n",
              "        vertical-align: top;\n",
              "    }\n",
              "\n",
              "    .dataframe thead th {\n",
              "        text-align: right;\n",
              "    }\n",
              "</style>\n",
              "<table border=\"1\" class=\"dataframe\">\n",
              "  <thead>\n",
              "    <tr style=\"text-align: right;\">\n",
              "      <th></th>\n",
              "      <th>Condition1 Sample</th>\n",
              "      <th>...</th>\n",
              "      <th>Signed_Rank</th>\n",
              "    </tr>\n",
              "  </thead>\n",
              "  <tbody>\n",
              "    <tr>\n",
              "      <th>0</th>\n",
              "      <td>16.0</td>\n",
              "      <td>...</td>\n",
              "      <td>1.0</td>\n",
              "    </tr>\n",
              "    <tr>\n",
              "      <th>1</th>\n",
              "      <td>25.0</td>\n",
              "      <td>...</td>\n",
              "      <td>-2.5</td>\n",
              "    </tr>\n",
              "    <tr>\n",
              "      <th>2</th>\n",
              "      <td>10.0</td>\n",
              "      <td>...</td>\n",
              "      <td>2.5</td>\n",
              "    </tr>\n",
              "    <tr>\n",
              "      <th>3</th>\n",
              "      <td>65.0</td>\n",
              "      <td>...</td>\n",
              "      <td>4.0</td>\n",
              "    </tr>\n",
              "    <tr>\n",
              "      <th>4</th>\n",
              "      <td>23.0</td>\n",
              "      <td>...</td>\n",
              "      <td>6.0</td>\n",
              "    </tr>\n",
              "    <tr>\n",
              "      <th>5</th>\n",
              "      <td>18.0</td>\n",
              "      <td>...</td>\n",
              "      <td>-6.0</td>\n",
              "    </tr>\n",
              "    <tr>\n",
              "      <th>6</th>\n",
              "      <td>33.0</td>\n",
              "      <td>...</td>\n",
              "      <td>-6.0</td>\n",
              "    </tr>\n",
              "    <tr>\n",
              "      <th>7</th>\n",
              "      <td>34.0</td>\n",
              "      <td>...</td>\n",
              "      <td>8.0</td>\n",
              "    </tr>\n",
              "    <tr>\n",
              "      <th>8</th>\n",
              "      <td>23.0</td>\n",
              "      <td>...</td>\n",
              "      <td>-9.0</td>\n",
              "    </tr>\n",
              "    <tr>\n",
              "      <th>9</th>\n",
              "      <td>10.0</td>\n",
              "      <td>...</td>\n",
              "      <td>11.5</td>\n",
              "    </tr>\n",
              "    <tr>\n",
              "      <th>10</th>\n",
              "      <td>19.0</td>\n",
              "      <td>...</td>\n",
              "      <td>11.5</td>\n",
              "    </tr>\n",
              "    <tr>\n",
              "      <th>11</th>\n",
              "      <td>18.0</td>\n",
              "      <td>...</td>\n",
              "      <td>11.5</td>\n",
              "    </tr>\n",
              "    <tr>\n",
              "      <th>12</th>\n",
              "      <td>24.0</td>\n",
              "      <td>...</td>\n",
              "      <td>-11.5</td>\n",
              "    </tr>\n",
              "    <tr>\n",
              "      <th>13</th>\n",
              "      <td>26.0</td>\n",
              "      <td>...</td>\n",
              "      <td>14.0</td>\n",
              "    </tr>\n",
              "    <tr>\n",
              "      <th>14</th>\n",
              "      <td>49.0</td>\n",
              "      <td>...</td>\n",
              "      <td>-15.0</td>\n",
              "    </tr>\n",
              "    <tr>\n",
              "      <th>15</th>\n",
              "      <td>47.0</td>\n",
              "      <td>...</td>\n",
              "      <td>-16.0</td>\n",
              "    </tr>\n",
              "    <tr>\n",
              "      <th>16</th>\n",
              "      <td>53.0</td>\n",
              "      <td>...</td>\n",
              "      <td>-17.0</td>\n",
              "    </tr>\n",
              "    <tr>\n",
              "      <th>17</th>\n",
              "      <td>58.0</td>\n",
              "      <td>...</td>\n",
              "      <td>-18.0</td>\n",
              "    </tr>\n",
              "    <tr>\n",
              "      <th>18</th>\n",
              "      <td>102.0</td>\n",
              "      <td>...</td>\n",
              "      <td>-19.0</td>\n",
              "    </tr>\n",
              "    <tr>\n",
              "      <th>19</th>\n",
              "      <td>17.0</td>\n",
              "      <td>...</td>\n",
              "      <td>20.0</td>\n",
              "    </tr>\n",
              "    <tr>\n",
              "      <th>20</th>\n",
              "      <td>106.0</td>\n",
              "      <td>...</td>\n",
              "      <td>-21.0</td>\n",
              "    </tr>\n",
              "    <tr>\n",
              "      <th>21</th>\n",
              "      <td>62.0</td>\n",
              "      <td>...</td>\n",
              "      <td>22.0</td>\n",
              "    </tr>\n",
              "    <tr>\n",
              "      <th>22</th>\n",
              "      <td>201.0</td>\n",
              "      <td>...</td>\n",
              "      <td>-23.0</td>\n",
              "    </tr>\n",
              "    <tr>\n",
              "      <th>23</th>\n",
              "      <td>18.0</td>\n",
              "      <td>...</td>\n",
              "      <td>24.0</td>\n",
              "    </tr>\n",
              "    <tr>\n",
              "      <th>24</th>\n",
              "      <td>16.0</td>\n",
              "      <td>...</td>\n",
              "      <td>25.0</td>\n",
              "    </tr>\n",
              "    <tr>\n",
              "      <th>25</th>\n",
              "      <td>90.0</td>\n",
              "      <td>...</td>\n",
              "      <td>26.0</td>\n",
              "    </tr>\n",
              "    <tr>\n",
              "      <th>26</th>\n",
              "      <td>77.0</td>\n",
              "      <td>...</td>\n",
              "      <td>27.0</td>\n",
              "    </tr>\n",
              "    <tr>\n",
              "      <th>27</th>\n",
              "      <td>68.0</td>\n",
              "      <td>...</td>\n",
              "      <td>28.0</td>\n",
              "    </tr>\n",
              "    <tr>\n",
              "      <th>28</th>\n",
              "      <td>12.0</td>\n",
              "      <td>...</td>\n",
              "      <td>29.0</td>\n",
              "    </tr>\n",
              "    <tr>\n",
              "      <th>29</th>\n",
              "      <td>17.0</td>\n",
              "      <td>...</td>\n",
              "      <td>30.0</td>\n",
              "    </tr>\n",
              "  </tbody>\n",
              "</table>\n",
              "<p>30 rows × 6 columns</p>\n",
              "</div>\n",
              "    <div class=\"colab-df-buttons\">\n",
              "\n",
              "  <div class=\"colab-df-container\">\n",
              "    <button class=\"colab-df-convert\" onclick=\"convertToInteractive('df-e6417640-8058-4631-8b14-a6162c7fd5bc')\"\n",
              "            title=\"Convert this dataframe to an interactive table.\"\n",
              "            style=\"display:none;\">\n",
              "\n",
              "  <svg xmlns=\"http://www.w3.org/2000/svg\" height=\"24px\" viewBox=\"0 -960 960 960\">\n",
              "    <path d=\"M120-120v-720h720v720H120Zm60-500h600v-160H180v160Zm220 220h160v-160H400v160Zm0 220h160v-160H400v160ZM180-400h160v-160H180v160Zm440 0h160v-160H620v160ZM180-180h160v-160H180v160Zm440 0h160v-160H620v160Z\"/>\n",
              "  </svg>\n",
              "    </button>\n",
              "\n",
              "  <style>\n",
              "    .colab-df-container {\n",
              "      display:flex;\n",
              "      gap: 12px;\n",
              "    }\n",
              "\n",
              "    .colab-df-convert {\n",
              "      background-color: #E8F0FE;\n",
              "      border: none;\n",
              "      border-radius: 50%;\n",
              "      cursor: pointer;\n",
              "      display: none;\n",
              "      fill: #1967D2;\n",
              "      height: 32px;\n",
              "      padding: 0 0 0 0;\n",
              "      width: 32px;\n",
              "    }\n",
              "\n",
              "    .colab-df-convert:hover {\n",
              "      background-color: #E2EBFA;\n",
              "      box-shadow: 0px 1px 2px rgba(60, 64, 67, 0.3), 0px 1px 3px 1px rgba(60, 64, 67, 0.15);\n",
              "      fill: #174EA6;\n",
              "    }\n",
              "\n",
              "    .colab-df-buttons div {\n",
              "      margin-bottom: 4px;\n",
              "    }\n",
              "\n",
              "    [theme=dark] .colab-df-convert {\n",
              "      background-color: #3B4455;\n",
              "      fill: #D2E3FC;\n",
              "    }\n",
              "\n",
              "    [theme=dark] .colab-df-convert:hover {\n",
              "      background-color: #434B5C;\n",
              "      box-shadow: 0px 1px 3px 1px rgba(0, 0, 0, 0.15);\n",
              "      filter: drop-shadow(0px 1px 2px rgba(0, 0, 0, 0.3));\n",
              "      fill: #FFFFFF;\n",
              "    }\n",
              "  </style>\n",
              "\n",
              "    <script>\n",
              "      const buttonEl =\n",
              "        document.querySelector('#df-e6417640-8058-4631-8b14-a6162c7fd5bc button.colab-df-convert');\n",
              "      buttonEl.style.display =\n",
              "        google.colab.kernel.accessAllowed ? 'block' : 'none';\n",
              "\n",
              "      async function convertToInteractive(key) {\n",
              "        const element = document.querySelector('#df-e6417640-8058-4631-8b14-a6162c7fd5bc');\n",
              "        const dataTable =\n",
              "          await google.colab.kernel.invokeFunction('convertToInteractive',\n",
              "                                                    [key], {});\n",
              "        if (!dataTable) return;\n",
              "\n",
              "        const docLinkHtml = 'Like what you see? Visit the ' +\n",
              "          '<a target=\"_blank\" href=https://colab.research.google.com/notebooks/data_table.ipynb>data table notebook</a>'\n",
              "          + ' to learn more about interactive tables.';\n",
              "        element.innerHTML = '';\n",
              "        dataTable['output_type'] = 'display_data';\n",
              "        await google.colab.output.renderOutput(dataTable, element);\n",
              "        const docLink = document.createElement('div');\n",
              "        docLink.innerHTML = docLinkHtml;\n",
              "        element.appendChild(docLink);\n",
              "      }\n",
              "    </script>\n",
              "  </div>\n",
              "\n",
              "\n",
              "<div id=\"df-ead839dd-0b6c-483c-9c67-36a05043e30b\">\n",
              "  <button class=\"colab-df-quickchart\" onclick=\"quickchart('df-ead839dd-0b6c-483c-9c67-36a05043e30b')\"\n",
              "            title=\"Suggest charts\"\n",
              "            style=\"display:none;\">\n",
              "\n",
              "<svg xmlns=\"http://www.w3.org/2000/svg\" height=\"24px\"viewBox=\"0 0 24 24\"\n",
              "     width=\"24px\">\n",
              "    <g>\n",
              "        <path d=\"M19 3H5c-1.1 0-2 .9-2 2v14c0 1.1.9 2 2 2h14c1.1 0 2-.9 2-2V5c0-1.1-.9-2-2-2zM9 17H7v-7h2v7zm4 0h-2V7h2v10zm4 0h-2v-4h2v4z\"/>\n",
              "    </g>\n",
              "</svg>\n",
              "  </button>\n",
              "\n",
              "<style>\n",
              "  .colab-df-quickchart {\n",
              "      --bg-color: #E8F0FE;\n",
              "      --fill-color: #1967D2;\n",
              "      --hover-bg-color: #E2EBFA;\n",
              "      --hover-fill-color: #174EA6;\n",
              "      --disabled-fill-color: #AAA;\n",
              "      --disabled-bg-color: #DDD;\n",
              "  }\n",
              "\n",
              "  [theme=dark] .colab-df-quickchart {\n",
              "      --bg-color: #3B4455;\n",
              "      --fill-color: #D2E3FC;\n",
              "      --hover-bg-color: #434B5C;\n",
              "      --hover-fill-color: #FFFFFF;\n",
              "      --disabled-bg-color: #3B4455;\n",
              "      --disabled-fill-color: #666;\n",
              "  }\n",
              "\n",
              "  .colab-df-quickchart {\n",
              "    background-color: var(--bg-color);\n",
              "    border: none;\n",
              "    border-radius: 50%;\n",
              "    cursor: pointer;\n",
              "    display: none;\n",
              "    fill: var(--fill-color);\n",
              "    height: 32px;\n",
              "    padding: 0;\n",
              "    width: 32px;\n",
              "  }\n",
              "\n",
              "  .colab-df-quickchart:hover {\n",
              "    background-color: var(--hover-bg-color);\n",
              "    box-shadow: 0 1px 2px rgba(60, 64, 67, 0.3), 0 1px 3px 1px rgba(60, 64, 67, 0.15);\n",
              "    fill: var(--button-hover-fill-color);\n",
              "  }\n",
              "\n",
              "  .colab-df-quickchart-complete:disabled,\n",
              "  .colab-df-quickchart-complete:disabled:hover {\n",
              "    background-color: var(--disabled-bg-color);\n",
              "    fill: var(--disabled-fill-color);\n",
              "    box-shadow: none;\n",
              "  }\n",
              "\n",
              "  .colab-df-spinner {\n",
              "    border: 2px solid var(--fill-color);\n",
              "    border-color: transparent;\n",
              "    border-bottom-color: var(--fill-color);\n",
              "    animation:\n",
              "      spin 1s steps(1) infinite;\n",
              "  }\n",
              "\n",
              "  @keyframes spin {\n",
              "    0% {\n",
              "      border-color: transparent;\n",
              "      border-bottom-color: var(--fill-color);\n",
              "      border-left-color: var(--fill-color);\n",
              "    }\n",
              "    20% {\n",
              "      border-color: transparent;\n",
              "      border-left-color: var(--fill-color);\n",
              "      border-top-color: var(--fill-color);\n",
              "    }\n",
              "    30% {\n",
              "      border-color: transparent;\n",
              "      border-left-color: var(--fill-color);\n",
              "      border-top-color: var(--fill-color);\n",
              "      border-right-color: var(--fill-color);\n",
              "    }\n",
              "    40% {\n",
              "      border-color: transparent;\n",
              "      border-right-color: var(--fill-color);\n",
              "      border-top-color: var(--fill-color);\n",
              "    }\n",
              "    60% {\n",
              "      border-color: transparent;\n",
              "      border-right-color: var(--fill-color);\n",
              "    }\n",
              "    80% {\n",
              "      border-color: transparent;\n",
              "      border-right-color: var(--fill-color);\n",
              "      border-bottom-color: var(--fill-color);\n",
              "    }\n",
              "    90% {\n",
              "      border-color: transparent;\n",
              "      border-bottom-color: var(--fill-color);\n",
              "    }\n",
              "  }\n",
              "</style>\n",
              "\n",
              "  <script>\n",
              "    async function quickchart(key) {\n",
              "      const quickchartButtonEl =\n",
              "        document.querySelector('#' + key + ' button');\n",
              "      quickchartButtonEl.disabled = true;  // To prevent multiple clicks.\n",
              "      quickchartButtonEl.classList.add('colab-df-spinner');\n",
              "      try {\n",
              "        const charts = await google.colab.kernel.invokeFunction(\n",
              "            'suggestCharts', [key], {});\n",
              "      } catch (error) {\n",
              "        console.error('Error during call to suggestCharts:', error);\n",
              "      }\n",
              "      quickchartButtonEl.classList.remove('colab-df-spinner');\n",
              "      quickchartButtonEl.classList.add('colab-df-quickchart-complete');\n",
              "    }\n",
              "    (() => {\n",
              "      let quickchartButtonEl =\n",
              "        document.querySelector('#df-ead839dd-0b6c-483c-9c67-36a05043e30b button');\n",
              "      quickchartButtonEl.style.display =\n",
              "        google.colab.kernel.accessAllowed ? 'block' : 'none';\n",
              "    })();\n",
              "  </script>\n",
              "</div>\n",
              "    </div>\n",
              "  </div>\n"
            ],
            "application/vnd.google.colaboratory.module+javascript": "\n      import \"https://ssl.gstatic.com/colaboratory/data_table/881c4a0d49046431/data_table.js\";\n\n      const table = window.createDataTable({\n        data: [[{\n            'v': 0,\n            'f': \"0\",\n        },\n{\n            'v': 16.0,\n            'f': \"16.0\",\n        },\n{\n            'v': 17.0,\n            'f': \"17.0\",\n        },\n{\n            'v': 1.0,\n            'f': \"1.0\",\n        },\n{\n            'v': 1.0,\n            'f': \"1.0\",\n        },\n{\n            'v': 1.0,\n            'f': \"1.0\",\n        },\n{\n            'v': 1.0,\n            'f': \"1.0\",\n        }],\n [{\n            'v': 1,\n            'f': \"1\",\n        },\n{\n            'v': 25.0,\n            'f': \"25.0\",\n        },\n{\n            'v': 20.0,\n            'f': \"20.0\",\n        },\n{\n            'v': -5.0,\n            'f': \"-5.0\",\n        },\n{\n            'v': 5.0,\n            'f': \"5.0\",\n        },\n{\n            'v': 2.5,\n            'f': \"2.5\",\n        },\n{\n            'v': -2.5,\n            'f': \"-2.5\",\n        }],\n [{\n            'v': 2,\n            'f': \"2\",\n        },\n{\n            'v': 10.0,\n            'f': \"10.0\",\n        },\n{\n            'v': 15.0,\n            'f': \"15.0\",\n        },\n{\n            'v': 5.0,\n            'f': \"5.0\",\n        },\n{\n            'v': 5.0,\n            'f': \"5.0\",\n        },\n{\n            'v': 2.5,\n            'f': \"2.5\",\n        },\n{\n            'v': 2.5,\n            'f': \"2.5\",\n        }],\n [{\n            'v': 3,\n            'f': \"3\",\n        },\n{\n            'v': 65.0,\n            'f': \"65.0\",\n        },\n{\n            'v': 71.0,\n            'f': \"71.0\",\n        },\n{\n            'v': 6.0,\n            'f': \"6.0\",\n        },\n{\n            'v': 6.0,\n            'f': \"6.0\",\n        },\n{\n            'v': 4.0,\n            'f': \"4.0\",\n        },\n{\n            'v': 4.0,\n            'f': \"4.0\",\n        }],\n [{\n            'v': 4,\n            'f': \"4\",\n        },\n{\n            'v': 23.0,\n            'f': \"23.0\",\n        },\n{\n            'v': 31.0,\n            'f': \"31.0\",\n        },\n{\n            'v': 8.0,\n            'f': \"8.0\",\n        },\n{\n            'v': 8.0,\n            'f': \"8.0\",\n        },\n{\n            'v': 6.0,\n            'f': \"6.0\",\n        },\n{\n            'v': 6.0,\n            'f': \"6.0\",\n        }],\n [{\n            'v': 5,\n            'f': \"5\",\n        },\n{\n            'v': 18.0,\n            'f': \"18.0\",\n        },\n{\n            'v': 10.0,\n            'f': \"10.0\",\n        },\n{\n            'v': -8.0,\n            'f': \"-8.0\",\n        },\n{\n            'v': 8.0,\n            'f': \"8.0\",\n        },\n{\n            'v': 6.0,\n            'f': \"6.0\",\n        },\n{\n            'v': -6.0,\n            'f': \"-6.0\",\n        }],\n [{\n            'v': 6,\n            'f': \"6\",\n        },\n{\n            'v': 33.0,\n            'f': \"33.0\",\n        },\n{\n            'v': 25.0,\n            'f': \"25.0\",\n        },\n{\n            'v': -8.0,\n            'f': \"-8.0\",\n        },\n{\n            'v': 8.0,\n            'f': \"8.0\",\n        },\n{\n            'v': 6.0,\n            'f': \"6.0\",\n        },\n{\n            'v': -6.0,\n            'f': \"-6.0\",\n        }],\n [{\n            'v': 7,\n            'f': \"7\",\n        },\n{\n            'v': 34.0,\n            'f': \"34.0\",\n        },\n{\n            'v': 43.0,\n            'f': \"43.0\",\n        },\n{\n            'v': 9.0,\n            'f': \"9.0\",\n        },\n{\n            'v': 9.0,\n            'f': \"9.0\",\n        },\n{\n            'v': 8.0,\n            'f': \"8.0\",\n        },\n{\n            'v': 8.0,\n            'f': \"8.0\",\n        }],\n [{\n            'v': 8,\n            'f': \"8\",\n        },\n{\n            'v': 23.0,\n            'f': \"23.0\",\n        },\n{\n            'v': 13.0,\n            'f': \"13.0\",\n        },\n{\n            'v': -10.0,\n            'f': \"-10.0\",\n        },\n{\n            'v': 10.0,\n            'f': \"10.0\",\n        },\n{\n            'v': 9.0,\n            'f': \"9.0\",\n        },\n{\n            'v': -9.0,\n            'f': \"-9.0\",\n        }],\n [{\n            'v': 9,\n            'f': \"9\",\n        },\n{\n            'v': 10.0,\n            'f': \"10.0\",\n        },\n{\n            'v': 21.0,\n            'f': \"21.0\",\n        },\n{\n            'v': 11.0,\n            'f': \"11.0\",\n        },\n{\n            'v': 11.0,\n            'f': \"11.0\",\n        },\n{\n            'v': 11.5,\n            'f': \"11.5\",\n        },\n{\n            'v': 11.5,\n            'f': \"11.5\",\n        }],\n [{\n            'v': 10,\n            'f': \"10\",\n        },\n{\n            'v': 19.0,\n            'f': \"19.0\",\n        },\n{\n            'v': 30.0,\n            'f': \"30.0\",\n        },\n{\n            'v': 11.0,\n            'f': \"11.0\",\n        },\n{\n            'v': 11.0,\n            'f': \"11.0\",\n        },\n{\n            'v': 11.5,\n            'f': \"11.5\",\n        },\n{\n            'v': 11.5,\n            'f': \"11.5\",\n        }],\n [{\n            'v': 11,\n            'f': \"11\",\n        },\n{\n            'v': 18.0,\n            'f': \"18.0\",\n        },\n{\n            'v': 29.0,\n            'f': \"29.0\",\n        },\n{\n            'v': 11.0,\n            'f': \"11.0\",\n        },\n{\n            'v': 11.0,\n            'f': \"11.0\",\n        },\n{\n            'v': 11.5,\n            'f': \"11.5\",\n        },\n{\n            'v': 11.5,\n            'f': \"11.5\",\n        }],\n [{\n            'v': 12,\n            'f': \"12\",\n        },\n{\n            'v': 24.0,\n            'f': \"24.0\",\n        },\n{\n            'v': 13.0,\n            'f': \"13.0\",\n        },\n{\n            'v': -11.0,\n            'f': \"-11.0\",\n        },\n{\n            'v': 11.0,\n            'f': \"11.0\",\n        },\n{\n            'v': 11.5,\n            'f': \"11.5\",\n        },\n{\n            'v': -11.5,\n            'f': \"-11.5\",\n        }],\n [{\n            'v': 13,\n            'f': \"13\",\n        },\n{\n            'v': 26.0,\n            'f': \"26.0\",\n        },\n{\n            'v': 41.0,\n            'f': \"41.0\",\n        },\n{\n            'v': 15.0,\n            'f': \"15.0\",\n        },\n{\n            'v': 15.0,\n            'f': \"15.0\",\n        },\n{\n            'v': 14.0,\n            'f': \"14.0\",\n        },\n{\n            'v': 14.0,\n            'f': \"14.0\",\n        }],\n [{\n            'v': 14,\n            'f': \"14\",\n        },\n{\n            'v': 49.0,\n            'f': \"49.0\",\n        },\n{\n            'v': 32.0,\n            'f': \"32.0\",\n        },\n{\n            'v': -17.0,\n            'f': \"-17.0\",\n        },\n{\n            'v': 17.0,\n            'f': \"17.0\",\n        },\n{\n            'v': 15.0,\n            'f': \"15.0\",\n        },\n{\n            'v': -15.0,\n            'f': \"-15.0\",\n        }],\n [{\n            'v': 15,\n            'f': \"15\",\n        },\n{\n            'v': 47.0,\n            'f': \"47.0\",\n        },\n{\n            'v': 24.0,\n            'f': \"24.0\",\n        },\n{\n            'v': -23.0,\n            'f': \"-23.0\",\n        },\n{\n            'v': 23.0,\n            'f': \"23.0\",\n        },\n{\n            'v': 16.0,\n            'f': \"16.0\",\n        },\n{\n            'v': -16.0,\n            'f': \"-16.0\",\n        }],\n [{\n            'v': 16,\n            'f': \"16\",\n        },\n{\n            'v': 53.0,\n            'f': \"53.0\",\n        },\n{\n            'v': 20.0,\n            'f': \"20.0\",\n        },\n{\n            'v': -33.0,\n            'f': \"-33.0\",\n        },\n{\n            'v': 33.0,\n            'f': \"33.0\",\n        },\n{\n            'v': 17.0,\n            'f': \"17.0\",\n        },\n{\n            'v': -17.0,\n            'f': \"-17.0\",\n        }],\n [{\n            'v': 17,\n            'f': \"17\",\n        },\n{\n            'v': 58.0,\n            'f': \"58.0\",\n        },\n{\n            'v': 11.0,\n            'f': \"11.0\",\n        },\n{\n            'v': -47.0,\n            'f': \"-47.0\",\n        },\n{\n            'v': 47.0,\n            'f': \"47.0\",\n        },\n{\n            'v': 18.0,\n            'f': \"18.0\",\n        },\n{\n            'v': -18.0,\n            'f': \"-18.0\",\n        }],\n [{\n            'v': 18,\n            'f': \"18\",\n        },\n{\n            'v': 102.0,\n            'f': \"102.0\",\n        },\n{\n            'v': 24.0,\n            'f': \"24.0\",\n        },\n{\n            'v': -78.0,\n            'f': \"-78.0\",\n        },\n{\n            'v': 78.0,\n            'f': \"78.0\",\n        },\n{\n            'v': 19.0,\n            'f': \"19.0\",\n        },\n{\n            'v': -19.0,\n            'f': \"-19.0\",\n        }],\n [{\n            'v': 19,\n            'f': \"19\",\n        },\n{\n            'v': 17.0,\n            'f': \"17.0\",\n        },\n{\n            'v': 97.0,\n            'f': \"97.0\",\n        },\n{\n            'v': 80.0,\n            'f': \"80.0\",\n        },\n{\n            'v': 80.0,\n            'f': \"80.0\",\n        },\n{\n            'v': 20.0,\n            'f': \"20.0\",\n        },\n{\n            'v': 20.0,\n            'f': \"20.0\",\n        }],\n [{\n            'v': 20,\n            'f': \"20\",\n        },\n{\n            'v': 106.0,\n            'f': \"106.0\",\n        },\n{\n            'v': 21.0,\n            'f': \"21.0\",\n        },\n{\n            'v': -85.0,\n            'f': \"-85.0\",\n        },\n{\n            'v': 85.0,\n            'f': \"85.0\",\n        },\n{\n            'v': 21.0,\n            'f': \"21.0\",\n        },\n{\n            'v': -21.0,\n            'f': \"-21.0\",\n        }],\n [{\n            'v': 21,\n            'f': \"21\",\n        },\n{\n            'v': 62.0,\n            'f': \"62.0\",\n        },\n{\n            'v': 157.0,\n            'f': \"157.0\",\n        },\n{\n            'v': 95.0,\n            'f': \"95.0\",\n        },\n{\n            'v': 95.0,\n            'f': \"95.0\",\n        },\n{\n            'v': 22.0,\n            'f': \"22.0\",\n        },\n{\n            'v': 22.0,\n            'f': \"22.0\",\n        }],\n [{\n            'v': 22,\n            'f': \"22\",\n        },\n{\n            'v': 201.0,\n            'f': \"201.0\",\n        },\n{\n            'v': 84.0,\n            'f': \"84.0\",\n        },\n{\n            'v': -117.0,\n            'f': \"-117.0\",\n        },\n{\n            'v': 117.0,\n            'f': \"117.0\",\n        },\n{\n            'v': 23.0,\n            'f': \"23.0\",\n        },\n{\n            'v': -23.0,\n            'f': \"-23.0\",\n        }],\n [{\n            'v': 23,\n            'f': \"23\",\n        },\n{\n            'v': 18.0,\n            'f': \"18.0\",\n        },\n{\n            'v': 137.0,\n            'f': \"137.0\",\n        },\n{\n            'v': 119.0,\n            'f': \"119.0\",\n        },\n{\n            'v': 119.0,\n            'f': \"119.0\",\n        },\n{\n            'v': 24.0,\n            'f': \"24.0\",\n        },\n{\n            'v': 24.0,\n            'f': \"24.0\",\n        }],\n [{\n            'v': 24,\n            'f': \"24\",\n        },\n{\n            'v': 16.0,\n            'f': \"16.0\",\n        },\n{\n            'v': 219.0,\n            'f': \"219.0\",\n        },\n{\n            'v': 203.0,\n            'f': \"203.0\",\n        },\n{\n            'v': 203.0,\n            'f': \"203.0\",\n        },\n{\n            'v': 25.0,\n            'f': \"25.0\",\n        },\n{\n            'v': 25.0,\n            'f': \"25.0\",\n        }],\n [{\n            'v': 25,\n            'f': \"25\",\n        },\n{\n            'v': 90.0,\n            'f': \"90.0\",\n        },\n{\n            'v': 299.0,\n            'f': \"299.0\",\n        },\n{\n            'v': 209.0,\n            'f': \"209.0\",\n        },\n{\n            'v': 209.0,\n            'f': \"209.0\",\n        },\n{\n            'v': 26.0,\n            'f': \"26.0\",\n        },\n{\n            'v': 26.0,\n            'f': \"26.0\",\n        }],\n [{\n            'v': 26,\n            'f': \"26\",\n        },\n{\n            'v': 77.0,\n            'f': \"77.0\",\n        },\n{\n            'v': 334.0,\n            'f': \"334.0\",\n        },\n{\n            'v': 257.0,\n            'f': \"257.0\",\n        },\n{\n            'v': 257.0,\n            'f': \"257.0\",\n        },\n{\n            'v': 27.0,\n            'f': \"27.0\",\n        },\n{\n            'v': 27.0,\n            'f': \"27.0\",\n        }],\n [{\n            'v': 27,\n            'f': \"27\",\n        },\n{\n            'v': 68.0,\n            'f': \"68.0\",\n        },\n{\n            'v': 1489.0,\n            'f': \"1489.0\",\n        },\n{\n            'v': 1421.0,\n            'f': \"1421.0\",\n        },\n{\n            'v': 1421.0,\n            'f': \"1421.0\",\n        },\n{\n            'v': 28.0,\n            'f': \"28.0\",\n        },\n{\n            'v': 28.0,\n            'f': \"28.0\",\n        }],\n [{\n            'v': 28,\n            'f': \"28\",\n        },\n{\n            'v': 12.0,\n            'f': \"12.0\",\n        },\n{\n            'v': 2570.0,\n            'f': \"2570.0\",\n        },\n{\n            'v': 2558.0,\n            'f': \"2558.0\",\n        },\n{\n            'v': 2558.0,\n            'f': \"2558.0\",\n        },\n{\n            'v': 29.0,\n            'f': \"29.0\",\n        },\n{\n            'v': 29.0,\n            'f': \"29.0\",\n        }],\n [{\n            'v': 29,\n            'f': \"29\",\n        },\n{\n            'v': 17.0,\n            'f': \"17.0\",\n        },\n{\n            'v': 56315.0,\n            'f': \"56315.0\",\n        },\n{\n            'v': 56298.0,\n            'f': \"56298.0\",\n        },\n{\n            'v': 56298.0,\n            'f': \"56298.0\",\n        },\n{\n            'v': 30.0,\n            'f': \"30.0\",\n        },\n{\n            'v': 30.0,\n            'f': \"30.0\",\n        }]],\n        columns: [[\"number\", \"index\"], [\"number\", \"Condition1 Sample\"], [\"number\", \"Condition2 Sample\"], [\"number\", \"Difference\"], [\"number\", \"absolute_difference\"], [\"number\", \"Rank\"], [\"number\", \"Signed_Rank\"]],\n        columnOptions: [{\"width\": \"1px\", \"className\": \"index_column\"}],\n        rowsPerPage: 25,\n        helpUrl: \"https://colab.research.google.com/notebooks/data_table.ipynb\",\n        suppressOutputScrolling: true,\n        minimumWidth: undefined,\n      });\n\n      function appendQuickchartButton(parentElement) {\n        let quickchartButtonContainerElement = document.createElement('div');\n        quickchartButtonContainerElement.innerHTML = `\n<div id=\"df-3f5f0012-d124-4130-b6df-a03a0c3439ef\">\n  <button class=\"colab-df-quickchart\" onclick=\"quickchart('df-3f5f0012-d124-4130-b6df-a03a0c3439ef')\"\n            title=\"Suggest charts\"\n            style=\"display:none;\">\n    \n<svg xmlns=\"http://www.w3.org/2000/svg\" height=\"24px\"viewBox=\"0 0 24 24\"\n     width=\"24px\">\n    <g>\n        <path d=\"M19 3H5c-1.1 0-2 .9-2 2v14c0 1.1.9 2 2 2h14c1.1 0 2-.9 2-2V5c0-1.1-.9-2-2-2zM9 17H7v-7h2v7zm4 0h-2V7h2v10zm4 0h-2v-4h2v4z\"/>\n    </g>\n</svg>\n  </button>\n  \n<style>\n  .colab-df-quickchart {\n      --bg-color: #E8F0FE;\n      --fill-color: #1967D2;\n      --hover-bg-color: #E2EBFA;\n      --hover-fill-color: #174EA6;\n      --disabled-fill-color: #AAA;\n      --disabled-bg-color: #DDD;\n  }\n\n  [theme=dark] .colab-df-quickchart {\n      --bg-color: #3B4455;\n      --fill-color: #D2E3FC;\n      --hover-bg-color: #434B5C;\n      --hover-fill-color: #FFFFFF;\n      --disabled-bg-color: #3B4455;\n      --disabled-fill-color: #666;\n  }\n\n  .colab-df-quickchart {\n    background-color: var(--bg-color);\n    border: none;\n    border-radius: 50%;\n    cursor: pointer;\n    display: none;\n    fill: var(--fill-color);\n    height: 32px;\n    padding: 0;\n    width: 32px;\n  }\n\n  .colab-df-quickchart:hover {\n    background-color: var(--hover-bg-color);\n    box-shadow: 0 1px 2px rgba(60, 64, 67, 0.3), 0 1px 3px 1px rgba(60, 64, 67, 0.15);\n    fill: var(--button-hover-fill-color);\n  }\n\n  .colab-df-quickchart-complete:disabled,\n  .colab-df-quickchart-complete:disabled:hover {\n    background-color: var(--disabled-bg-color);\n    fill: var(--disabled-fill-color);\n    box-shadow: none;\n  }\n\n  .colab-df-spinner {\n    border: 2px solid var(--fill-color);\n    border-color: transparent;\n    border-bottom-color: var(--fill-color);\n    animation:\n      spin 1s steps(1) infinite;\n  }\n\n  @keyframes spin {\n    0% {\n      border-color: transparent;\n      border-bottom-color: var(--fill-color);\n      border-left-color: var(--fill-color);\n    }\n    20% {\n      border-color: transparent;\n      border-left-color: var(--fill-color);\n      border-top-color: var(--fill-color);\n    }\n    30% {\n      border-color: transparent;\n      border-left-color: var(--fill-color);\n      border-top-color: var(--fill-color);\n      border-right-color: var(--fill-color);\n    }\n    40% {\n      border-color: transparent;\n      border-right-color: var(--fill-color);\n      border-top-color: var(--fill-color);\n    }\n    60% {\n      border-color: transparent;\n      border-right-color: var(--fill-color);\n    }\n    80% {\n      border-color: transparent;\n      border-right-color: var(--fill-color);\n      border-bottom-color: var(--fill-color);\n    }\n    90% {\n      border-color: transparent;\n      border-bottom-color: var(--fill-color);\n    }\n  }\n</style>\n\n  <script>\n    async function quickchart(key) {\n      const quickchartButtonEl =\n        document.querySelector('#' + key + ' button');\n      quickchartButtonEl.disabled = true;  // To prevent multiple clicks.\n      quickchartButtonEl.classList.add('colab-df-spinner');\n      try {\n        const charts = await google.colab.kernel.invokeFunction(\n            'suggestCharts', [key], {});\n      } catch (error) {\n        console.error('Error during call to suggestCharts:', error);\n      }\n      quickchartButtonEl.classList.remove('colab-df-spinner');\n      quickchartButtonEl.classList.add('colab-df-quickchart-complete');\n    }\n    (() => {\n      let quickchartButtonEl =\n        document.querySelector('#df-3f5f0012-d124-4130-b6df-a03a0c3439ef button');\n      quickchartButtonEl.style.display =\n        google.colab.kernel.accessAllowed ? 'block' : 'none';\n    })();\n  </script>\n</div>`;\n        parentElement.appendChild(quickchartButtonContainerElement);\n      }\n\n      appendQuickchartButton(table);\n    "
          },
          "metadata": {}
        },
        {
          "output_type": "stream",
          "name": "stdout",
          "text": [
            "Sum of Positive Ranks: 301.0\n",
            "Sum of Negative Ranks: -164.0\n",
            "test_value 164.0\n",
            "level of signifance is: 0.05\n",
            "n is  30\n",
            "critical value is 1.96\n",
            "z calculated is  1.408931245810246\n",
            "Null Hypothesis is accepted\n"
          ]
        }
      ]
    },
    {
      "cell_type": "markdown",
      "source": [
        "---\n",
        "\n",
        "# Statistical analysis of Unit 4 - Categorical Data Analysis"
      ],
      "metadata": {
        "id": "aGsqpuejmBKW"
      }
    },
    {
      "cell_type": "markdown",
      "source": [
        "## **Chi-Square Test for Goodness of Fit**\n",
        "\n",
        "The sample is dataset which shows that Circulatory diseases across the 9 states caused almost equal number of Covid-19 deaths\n",
        "\n",
        "The **null hypothesis** (H0) is that data is good fit, and the **alternative hypothesis**(H1) is that the data is not a good fit."
      ],
      "metadata": {
        "id": "Rjcj-ORoUk-m"
      }
    },
    {
      "cell_type": "code",
      "source": [
        "import pandas as pd\n",
        "import numpy as np\n",
        "import matplotlib.pyplot as plt\n",
        "import scipy.stats as stats\n",
        "\n",
        "df = pd.read_csv('covid.csv')\n",
        "\n",
        "df = df.dropna(subset=['COVID-19 Deaths'])\n",
        "\n",
        "df = df.drop_duplicates()\n"
      ],
      "metadata": {
        "id": "CP0DCDH9aNRV"
      },
      "execution_count": null,
      "outputs": []
    },
    {
      "cell_type": "code",
      "source": [
        "import pandas as pd\n",
        "\n",
        "# Create a table\n",
        "observed_data = pd.crosstab(df['Condition Group'], df['State'])\n",
        "\n",
        "# Take a random sample of 1 row and 9 columns\n",
        "sampled_data = observed_data.sample(n=1, axis=0).iloc[:, :9]\n",
        "\n",
        "# Initialize variables for the sampled data\n",
        "chi2_sampled = 0\n",
        "expected_sampled = pd.DataFrame(index=sampled_data.index, columns=sampled_data.columns)\n",
        "\n",
        "# Perform calculations for the sampled data\n",
        "for i in range(sampled_data.shape[0]):\n",
        "    for j in range(sampled_data.shape[1]):\n",
        "        O_ij_sampled = sampled_data.iloc[i, j]\n",
        "        total_row_sampled = sampled_data.iloc[i, :].sum()\n",
        "        total_col_sampled = sampled_data.iloc[:, j].sum()\n",
        "        total_observed_sampled = sampled_data.sum().sum()\n",
        "\n",
        "        E_ij_sampled = total_observed_sampled/sampled_data.shape[1]\n",
        "        expected_sampled.iloc[i, j] = E_ij_sampled\n",
        "\n",
        "        chi2_sampled += (O_ij_sampled - E_ij_sampled)**2 / E_ij_sampled\n",
        "\n",
        "# Calculate degrees of freedom\n",
        "degrees_of_freedom = sampled_data.shape[1] - 1\n",
        "\n",
        "alpha = 0.05\n",
        "chi2_tab = 2.733\n",
        "\n",
        "expected_table_styled = pd.DataFrame(expected_sampled)\n",
        "\n",
        "# Apply formatting to the entire table\n",
        "expected_table_styled = expected_table_styled.style.format(\"{:.2f}\").set_caption(\"Expected Value Table\")\n",
        "\n",
        "# Display the formatted table\n",
        "expected_table_styled"
      ],
      "metadata": {
        "id": "HJ13mCFFqjgt",
        "colab": {
          "base_uri": "https://localhost:8080/",
          "height": 129
        },
        "outputId": "02f161ba-3e79-4f8b-f47c-330b08e5d394"
      },
      "execution_count": null,
      "outputs": [
        {
          "output_type": "execute_result",
          "data": {
            "text/plain": [
              "<pandas.io.formats.style.Styler at 0x7970a3644460>"
            ],
            "text/html": [
              "<style type=\"text/css\">\n",
              "</style>\n",
              "<table id=\"T_a397c\" class=\"dataframe\">\n",
              "  <caption>Expected Value Table</caption>\n",
              "  <thead>\n",
              "    <tr>\n",
              "      <th class=\"index_name level0\" >State</th>\n",
              "      <th id=\"T_a397c_level0_col0\" class=\"col_heading level0 col0\" >Alabama</th>\n",
              "      <th id=\"T_a397c_level0_col1\" class=\"col_heading level0 col1\" >Alaska</th>\n",
              "      <th id=\"T_a397c_level0_col2\" class=\"col_heading level0 col2\" >Arizona</th>\n",
              "      <th id=\"T_a397c_level0_col3\" class=\"col_heading level0 col3\" >Arkansas</th>\n",
              "      <th id=\"T_a397c_level0_col4\" class=\"col_heading level0 col4\" >California</th>\n",
              "      <th id=\"T_a397c_level0_col5\" class=\"col_heading level0 col5\" >Colorado</th>\n",
              "      <th id=\"T_a397c_level0_col6\" class=\"col_heading level0 col6\" >Connecticut</th>\n",
              "      <th id=\"T_a397c_level0_col7\" class=\"col_heading level0 col7\" >Delaware</th>\n",
              "      <th id=\"T_a397c_level0_col8\" class=\"col_heading level0 col8\" >District of Columbia</th>\n",
              "    </tr>\n",
              "    <tr>\n",
              "      <th class=\"index_name level0\" >Condition Group</th>\n",
              "      <th class=\"blank col0\" >&nbsp;</th>\n",
              "      <th class=\"blank col1\" >&nbsp;</th>\n",
              "      <th class=\"blank col2\" >&nbsp;</th>\n",
              "      <th class=\"blank col3\" >&nbsp;</th>\n",
              "      <th class=\"blank col4\" >&nbsp;</th>\n",
              "      <th class=\"blank col5\" >&nbsp;</th>\n",
              "      <th class=\"blank col6\" >&nbsp;</th>\n",
              "      <th class=\"blank col7\" >&nbsp;</th>\n",
              "      <th class=\"blank col8\" >&nbsp;</th>\n",
              "    </tr>\n",
              "  </thead>\n",
              "  <tbody>\n",
              "    <tr>\n",
              "      <th id=\"T_a397c_level0_row0\" class=\"row_heading level0 row0\" >Obesity</th>\n",
              "      <td id=\"T_a397c_row0_col0\" class=\"data row0 col0\" >323.78</td>\n",
              "      <td id=\"T_a397c_row0_col1\" class=\"data row0 col1\" >323.78</td>\n",
              "      <td id=\"T_a397c_row0_col2\" class=\"data row0 col2\" >323.78</td>\n",
              "      <td id=\"T_a397c_row0_col3\" class=\"data row0 col3\" >323.78</td>\n",
              "      <td id=\"T_a397c_row0_col4\" class=\"data row0 col4\" >323.78</td>\n",
              "      <td id=\"T_a397c_row0_col5\" class=\"data row0 col5\" >323.78</td>\n",
              "      <td id=\"T_a397c_row0_col6\" class=\"data row0 col6\" >323.78</td>\n",
              "      <td id=\"T_a397c_row0_col7\" class=\"data row0 col7\" >323.78</td>\n",
              "      <td id=\"T_a397c_row0_col8\" class=\"data row0 col8\" >323.78</td>\n",
              "    </tr>\n",
              "  </tbody>\n",
              "</table>\n"
            ]
          },
          "metadata": {},
          "execution_count": 130
        }
      ]
    },
    {
      "cell_type": "code",
      "source": [
        "# Print results\n",
        "print(\"Chi-Square Statistic:\", chi2_sampled)\n",
        "print(\"Degrees of Freedom:\", degrees_of_freedom)\n",
        "print(\"Chi-Square Tabulated:\", chi2_tab)\n",
        "\n",
        "if chi2_sampled > chi2_tab:\n",
        "    print(\"Reject the null hypothesis: Data is not a good fit\")\n",
        "else:\n",
        "    print(\"Fail to reject the null hypothesis: Data is good fit\")"
      ],
      "metadata": {
        "id": "ei_vnf6GZ3if",
        "colab": {
          "base_uri": "https://localhost:8080/"
        },
        "outputId": "2c4976a4-59c1-4823-9dd6-ede292a28bc0"
      },
      "execution_count": null,
      "outputs": [
        {
          "output_type": "stream",
          "name": "stdout",
          "text": [
            "Chi-Square Statistic: 20.197666437886063\n",
            "Degrees of Freedom: 8\n",
            "Chi-Square Tabulated: 2.733\n",
            "Reject the null hypothesis: Data is not a good fit\n"
          ]
        }
      ]
    },
    {
      "cell_type": "markdown",
      "source": [
        "## **The Chi-square Test for Independence**\n",
        "\n",
        "**Null Hypothesis** (H0): There is no significant association between the two categorical variables represented by 'Condition Group' and 'State' in the sampled contingency table.\n",
        "\n",
        "**Alternative Hypothesis** (H1): There is a significant association between the two categorical variables."
      ],
      "metadata": {
        "id": "TQOphIVgU0TO"
      }
    },
    {
      "cell_type": "code",
      "source": [
        "import pandas as pd\n",
        "\n",
        "# Create a contingency table\n",
        "observed_data = pd.crosstab(df['Condition Group'], df['State'])\n",
        "\n",
        "# Take a random sample of 3 row and 8 columns\n",
        "sampled_data = observed_data.sample(n=3, axis=0).iloc[:, :8]\n",
        "\n",
        "# Initialize variables for the sampled data\n",
        "chi2_sampled = 0\n",
        "expected_sampled = pd.DataFrame(index=sampled_data.index, columns=sampled_data.columns)\n",
        "\n",
        "\n",
        "# Perform calculations for the sampled data\n",
        "for i in range(sampled_data.shape[0]):\n",
        "    for j in range(sampled_data.shape[1]):\n",
        "        O_ij_sampled = sampled_data.iloc[i, j]\n",
        "        total_row_sampled = sampled_data.iloc[i, :].sum()\n",
        "        total_col_sampled = sampled_data.iloc[:, j].sum()\n",
        "        total_observed_sampled = sampled_data.sum().sum()\n",
        "\n",
        "        E_ij_sampled = (total_row_sampled * total_col_sampled) / total_observed_sampled\n",
        "        expected_sampled.iloc[i, j] = E_ij_sampled\n",
        "\n",
        "        chi2_sampled += (O_ij_sampled - E_ij_sampled)**2 / E_ij_sampled\n",
        "\n",
        "# Calculate degrees of freedom\n",
        "degrees_of_freedom = (sampled_data.shape[0] - 1) * (sampled_data.shape[1] - 1)\n",
        "\n",
        "alpha = 0.05\n",
        "chi2_tab = 2.733\n",
        "\n",
        "expected_table_styled = pd.DataFrame(expected_sampled)\n",
        "\n",
        "# Apply formatting to the entire table\n",
        "expected_table_styled = expected_table_styled.style.format(\"{:.2f}\").set_caption(\"Expected Value Table\")\n",
        "\n",
        "# Display the formatted table\n",
        "expected_table_styled"
      ],
      "metadata": {
        "id": "BkUKISzWWtWu",
        "colab": {
          "base_uri": "https://localhost:8080/",
          "height": 192
        },
        "outputId": "0d8a012f-3655-4551-fb18-7bb948027def"
      },
      "execution_count": null,
      "outputs": [
        {
          "output_type": "execute_result",
          "data": {
            "text/plain": [
              "<pandas.io.formats.style.Styler at 0x7970a36468f0>"
            ],
            "text/html": [
              "<style type=\"text/css\">\n",
              "</style>\n",
              "<table id=\"T_094e8\" class=\"dataframe\">\n",
              "  <caption>Expected Value Table</caption>\n",
              "  <thead>\n",
              "    <tr>\n",
              "      <th class=\"index_name level0\" >State</th>\n",
              "      <th id=\"T_094e8_level0_col0\" class=\"col_heading level0 col0\" >Alabama</th>\n",
              "      <th id=\"T_094e8_level0_col1\" class=\"col_heading level0 col1\" >Alaska</th>\n",
              "      <th id=\"T_094e8_level0_col2\" class=\"col_heading level0 col2\" >Arizona</th>\n",
              "      <th id=\"T_094e8_level0_col3\" class=\"col_heading level0 col3\" >Arkansas</th>\n",
              "      <th id=\"T_094e8_level0_col4\" class=\"col_heading level0 col4\" >California</th>\n",
              "      <th id=\"T_094e8_level0_col5\" class=\"col_heading level0 col5\" >Colorado</th>\n",
              "      <th id=\"T_094e8_level0_col6\" class=\"col_heading level0 col6\" >Connecticut</th>\n",
              "      <th id=\"T_094e8_level0_col7\" class=\"col_heading level0 col7\" >Delaware</th>\n",
              "    </tr>\n",
              "    <tr>\n",
              "      <th class=\"index_name level0\" >Condition Group</th>\n",
              "      <th class=\"blank col0\" >&nbsp;</th>\n",
              "      <th class=\"blank col1\" >&nbsp;</th>\n",
              "      <th class=\"blank col2\" >&nbsp;</th>\n",
              "      <th class=\"blank col3\" >&nbsp;</th>\n",
              "      <th class=\"blank col4\" >&nbsp;</th>\n",
              "      <th class=\"blank col5\" >&nbsp;</th>\n",
              "      <th class=\"blank col6\" >&nbsp;</th>\n",
              "      <th class=\"blank col7\" >&nbsp;</th>\n",
              "    </tr>\n",
              "  </thead>\n",
              "  <tbody>\n",
              "    <tr>\n",
              "      <th id=\"T_094e8_level0_row0\" class=\"row_heading level0 row0\" >Diabetes</th>\n",
              "      <td id=\"T_094e8_row0_col0\" class=\"data row0 col0\" >309.79</td>\n",
              "      <td id=\"T_094e8_row0_col1\" class=\"data row0 col1\" >359.92</td>\n",
              "      <td id=\"T_094e8_row0_col2\" class=\"data row0 col2\" >314.00</td>\n",
              "      <td id=\"T_094e8_row0_col3\" class=\"data row0 col3\" >316.85</td>\n",
              "      <td id=\"T_094e8_row0_col4\" class=\"data row0 col4\" >349.89</td>\n",
              "      <td id=\"T_094e8_row0_col5\" class=\"data row0 col5\" >317.47</td>\n",
              "      <td id=\"T_094e8_row0_col6\" class=\"data row0 col6\" >324.27</td>\n",
              "      <td id=\"T_094e8_row0_col7\" class=\"data row0 col7\" >333.80</td>\n",
              "    </tr>\n",
              "    <tr>\n",
              "      <th id=\"T_094e8_level0_row1\" class=\"row_heading level0 row1\" >Respiratory diseases</th>\n",
              "      <td id=\"T_094e8_row1_col0\" class=\"data row1 col0\" >1901.82</td>\n",
              "      <td id=\"T_094e8_row1_col1\" class=\"data row1 col1\" >2209.54</td>\n",
              "      <td id=\"T_094e8_row1_col2\" class=\"data row1 col2\" >1927.65</td>\n",
              "      <td id=\"T_094e8_row1_col3\" class=\"data row1 col3\" >1945.13</td>\n",
              "      <td id=\"T_094e8_row1_col4\" class=\"data row1 col4\" >2148.00</td>\n",
              "      <td id=\"T_094e8_row1_col5\" class=\"data row1 col5\" >1948.93</td>\n",
              "      <td id=\"T_094e8_row1_col6\" class=\"data row1 col6\" >1990.72</td>\n",
              "      <td id=\"T_094e8_row1_col7\" class=\"data row1 col7\" >2049.22</td>\n",
              "    </tr>\n",
              "    <tr>\n",
              "      <th id=\"T_094e8_level0_row2\" class=\"row_heading level0 row2\" >Intentional and unintentional injury, poisoning, and other adverse events</th>\n",
              "      <td id=\"T_094e8_row2_col0\" class=\"data row2 col0\" >291.39</td>\n",
              "      <td id=\"T_094e8_row2_col1\" class=\"data row2 col1\" >338.54</td>\n",
              "      <td id=\"T_094e8_row2_col2\" class=\"data row2 col2\" >295.35</td>\n",
              "      <td id=\"T_094e8_row2_col3\" class=\"data row2 col3\" >298.03</td>\n",
              "      <td id=\"T_094e8_row2_col4\" class=\"data row2 col4\" >329.11</td>\n",
              "      <td id=\"T_094e8_row2_col5\" class=\"data row2 col5\" >298.61</td>\n",
              "      <td id=\"T_094e8_row2_col6\" class=\"data row2 col6\" >305.01</td>\n",
              "      <td id=\"T_094e8_row2_col7\" class=\"data row2 col7\" >313.97</td>\n",
              "    </tr>\n",
              "  </tbody>\n",
              "</table>\n"
            ]
          },
          "metadata": {},
          "execution_count": 132
        }
      ]
    },
    {
      "cell_type": "code",
      "source": [
        "# Print results\n",
        "print(\"Chi-Square Statistic:\", chi2_sampled)\n",
        "print(\"Degrees of Freedom:\", degrees_of_freedom)\n",
        "print(\"Chi-Square Tabulated:\", chi2_tab)\n",
        "\n",
        "if chi2_sampled > chi2_tab:\n",
        "    print(\"Reject the null hypothesis: The data is not independent\")\n",
        "else:\n",
        "    print(\"Fail to reject the null hypothesis: The data is independent\")"
      ],
      "metadata": {
        "id": "WNqEFRNMaHut",
        "colab": {
          "base_uri": "https://localhost:8080/"
        },
        "outputId": "1a09dab1-478f-49d9-a54f-efa473235d0f"
      },
      "execution_count": null,
      "outputs": [
        {
          "output_type": "stream",
          "name": "stdout",
          "text": [
            "Chi-Square Statistic: 51.729955094840236\n",
            "Degrees of Freedom: 14\n",
            "Chi-Square Tabulated: 2.733\n",
            "Reject the null hypothesis: The data is not independent\n"
          ]
        }
      ]
    },
    {
      "cell_type": "markdown",
      "source": [
        "## **Chi-Square Test for homogeneity**\n",
        "\n",
        "**Null Hypothesis** (H0): The distribution of 'COVID-19' is the same across all 'State' categories.\n",
        "\n",
        "**Alternative Hypothesis** (H1): The distribution of 'COVID-19' is different across at least two 'State' categories."
      ],
      "metadata": {
        "id": "qDja3JdTU4Nt"
      }
    },
    {
      "cell_type": "code",
      "execution_count": null,
      "metadata": {
        "id": "ThtfBKJKHC-l",
        "colab": {
          "base_uri": "https://localhost:8080/",
          "height": 192
        },
        "outputId": "1b9c74cf-e700-4616-f526-60491fbf33c5"
      },
      "outputs": [
        {
          "output_type": "execute_result",
          "data": {
            "text/plain": [
              "<pandas.io.formats.style.Styler at 0x7970a2ad0dc0>"
            ],
            "text/html": [
              "<style type=\"text/css\">\n",
              "</style>\n",
              "<table id=\"T_1f3a2\" class=\"dataframe\">\n",
              "  <caption>Expected Value Table</caption>\n",
              "  <thead>\n",
              "    <tr>\n",
              "      <th class=\"index_name level0\" >State</th>\n",
              "      <th id=\"T_1f3a2_level0_col0\" class=\"col_heading level0 col0\" >Alabama</th>\n",
              "      <th id=\"T_1f3a2_level0_col1\" class=\"col_heading level0 col1\" >Alaska</th>\n",
              "      <th id=\"T_1f3a2_level0_col2\" class=\"col_heading level0 col2\" >Arizona</th>\n",
              "      <th id=\"T_1f3a2_level0_col3\" class=\"col_heading level0 col3\" >Arkansas</th>\n",
              "      <th id=\"T_1f3a2_level0_col4\" class=\"col_heading level0 col4\" >California</th>\n",
              "      <th id=\"T_1f3a2_level0_col5\" class=\"col_heading level0 col5\" >Colorado</th>\n",
              "      <th id=\"T_1f3a2_level0_col6\" class=\"col_heading level0 col6\" >Connecticut</th>\n",
              "      <th id=\"T_1f3a2_level0_col7\" class=\"col_heading level0 col7\" >Delaware</th>\n",
              "    </tr>\n",
              "    <tr>\n",
              "      <th class=\"index_name level0\" >Condition Group</th>\n",
              "      <th class=\"blank col0\" >&nbsp;</th>\n",
              "      <th class=\"blank col1\" >&nbsp;</th>\n",
              "      <th class=\"blank col2\" >&nbsp;</th>\n",
              "      <th class=\"blank col3\" >&nbsp;</th>\n",
              "      <th class=\"blank col4\" >&nbsp;</th>\n",
              "      <th class=\"blank col5\" >&nbsp;</th>\n",
              "      <th class=\"blank col6\" >&nbsp;</th>\n",
              "      <th class=\"blank col7\" >&nbsp;</th>\n",
              "    </tr>\n",
              "  </thead>\n",
              "  <tbody>\n",
              "    <tr>\n",
              "      <th id=\"T_1f3a2_level0_row0\" class=\"row_heading level0 row0\" >Alzheimer disease</th>\n",
              "      <td id=\"T_1f3a2_row0_col0\" class=\"data row0 col0\" >365.66</td>\n",
              "      <td id=\"T_1f3a2_row0_col1\" class=\"data row0 col1\" >395.63</td>\n",
              "      <td id=\"T_1f3a2_row0_col2\" class=\"data row0 col2\" >377.73</td>\n",
              "      <td id=\"T_1f3a2_row0_col3\" class=\"data row0 col3\" >372.88</td>\n",
              "      <td id=\"T_1f3a2_row0_col4\" class=\"data row0 col4\" >416.57</td>\n",
              "      <td id=\"T_1f3a2_row0_col5\" class=\"data row0 col5\" >379.54</td>\n",
              "      <td id=\"T_1f3a2_row0_col6\" class=\"data row0 col6\" >379.54</td>\n",
              "      <td id=\"T_1f3a2_row0_col7\" class=\"data row0 col7\" >377.45</td>\n",
              "    </tr>\n",
              "    <tr>\n",
              "      <th id=\"T_1f3a2_level0_row1\" class=\"row_heading level0 row1\" >Respiratory diseases</th>\n",
              "      <td id=\"T_1f3a2_row1_col0\" class=\"data row1 col0\" >1923.28</td>\n",
              "      <td id=\"T_1f3a2_row1_col1\" class=\"data row1 col1\" >2080.88</td>\n",
              "      <td id=\"T_1f3a2_row1_col2\" class=\"data row1 col2\" >1986.76</td>\n",
              "      <td id=\"T_1f3a2_row1_col3\" class=\"data row1 col3\" >1961.22</td>\n",
              "      <td id=\"T_1f3a2_row1_col4\" class=\"data row1 col4\" >2191.06</td>\n",
              "      <td id=\"T_1f3a2_row1_col5\" class=\"data row1 col5\" >1996.25</td>\n",
              "      <td id=\"T_1f3a2_row1_col6\" class=\"data row1 col6\" >1996.25</td>\n",
              "      <td id=\"T_1f3a2_row1_col7\" class=\"data row1 col7\" >1985.30</td>\n",
              "    </tr>\n",
              "    <tr>\n",
              "      <th id=\"T_1f3a2_level0_row2\" class=\"row_heading level0 row2\" >COVID-19</th>\n",
              "      <td id=\"T_1f3a2_row2_col0\" class=\"data row2 col0\" >347.05</td>\n",
              "      <td id=\"T_1f3a2_row2_col1\" class=\"data row2 col1\" >375.49</td>\n",
              "      <td id=\"T_1f3a2_row2_col2\" class=\"data row2 col2\" >358.51</td>\n",
              "      <td id=\"T_1f3a2_row2_col3\" class=\"data row2 col3\" >353.90</td>\n",
              "      <td id=\"T_1f3a2_row2_col4\" class=\"data row2 col4\" >395.37</td>\n",
              "      <td id=\"T_1f3a2_row2_col5\" class=\"data row2 col5\" >360.22</td>\n",
              "      <td id=\"T_1f3a2_row2_col6\" class=\"data row2 col6\" >360.22</td>\n",
              "      <td id=\"T_1f3a2_row2_col7\" class=\"data row2 col7\" >358.24</td>\n",
              "    </tr>\n",
              "  </tbody>\n",
              "</table>\n"
            ]
          },
          "metadata": {},
          "execution_count": 134
        }
      ],
      "source": [
        "import pandas as pd\n",
        "import numpy as np\n",
        "\n",
        "observed_data = pd.crosstab(df['Condition Group'], df['State'])\n",
        "\n",
        "# Take a random sample of 3 row and 8 columns\n",
        "sampled_data = observed_data.sample(n=3, axis=0).iloc[:, :8]\n",
        "\n",
        "# Initialize variables for the sampled data\n",
        "chi2_sampled = 0\n",
        "expected_sampled = pd.DataFrame(index=sampled_data.index, columns=sampled_data.columns)\n",
        "\n",
        "\n",
        "# Perform calculations for the sampled data\n",
        "for i in range(sampled_data.shape[0]):\n",
        "    for j in range(sampled_data.shape[1]):\n",
        "        O_ij_sampled = sampled_data.iloc[i, j]\n",
        "        total_row_sampled = sampled_data.iloc[i, :].sum()\n",
        "        total_col_sampled = sampled_data.iloc[:, j].sum()\n",
        "        total_observed_sampled = sampled_data.sum().sum()\n",
        "\n",
        "        E_ij_sampled = (total_row_sampled * total_col_sampled) / total_observed_sampled\n",
        "        expected_sampled.iloc[i, j] = E_ij_sampled\n",
        "\n",
        "        chi2_sampled += (O_ij_sampled - E_ij_sampled)**2 / E_ij_sampled\n",
        "\n",
        "# Calculate degrees of freedom\n",
        "degrees_of_freedom = (sampled_data.shape[0] - 1) * (sampled_data.shape[1] - 1)\n",
        "\n",
        "alpha = 0.05\n",
        "chi2_tab = 6.571\n",
        "\n",
        "# Calculate p-value\n",
        "p_value = 1 - stats.chi2.cdf(chi2_sampled, df=degrees_of_freedom)\n",
        "\n",
        "expected_table_styled = pd.DataFrame(expected_sampled)\n",
        "\n",
        "# Apply formatting to the entire table\n",
        "expected_table_styled = expected_table_styled.style.format(\"{:.2f}\").set_caption(\"Expected Value Table\")\n",
        "\n",
        "# Display the formatted table\n",
        "expected_table_styled\n"
      ]
    },
    {
      "cell_type": "code",
      "source": [
        "# Display the results\n",
        "print(f\"Chi-square Statistic: {chi2_sampled}\")\n",
        "print(f\"Chi-square Tabulated: {chi2_tab}\")\n",
        "print(f\"Degrees of Freedom: {degrees_of_freedom}\")\n",
        "\n",
        "# Interpret the results\n",
        "alpha = 0.05\n",
        "if p_value < alpha:\n",
        "    print(\"Reject the null hypothesis: There is a significant difference in the distribution of 'Condition Group' among 'State' categories.\")\n",
        "else:\n",
        "    print(\"Fail to reject the null hypothesis: The distribution of 'Condition Group' is consistent across 'State' categories.\")"
      ],
      "metadata": {
        "id": "Kfo22EFIsXyK",
        "colab": {
          "base_uri": "https://localhost:8080/"
        },
        "outputId": "4fb8577b-de12-4305-b33b-7a91c75ba783"
      },
      "execution_count": null,
      "outputs": [
        {
          "output_type": "stream",
          "name": "stdout",
          "text": [
            "Chi-square Statistic: 36.06564942706996\n",
            "Chi-square Tabulated: 6.571\n",
            "Degrees of Freedom: 14\n",
            "Reject the null hypothesis: There is a significant difference in the distribution of 'Condition Group' among 'State' categories.\n"
          ]
        }
      ]
    },
    {
      "cell_type": "markdown",
      "source": [
        "## **Chi's square Continuity in a 2x2 Contingency Table**\n",
        "\n",
        "The **null hypothesis** (H0) is that there is no association between age group and COVID-19 deaths, and the **alternative hypothesis**(H1) is that there is an association."
      ],
      "metadata": {
        "id": "gUjLYCM8rcE_"
      }
    },
    {
      "cell_type": "code",
      "source": [
        "import pandas as pd\n",
        "import numpy as np\n",
        "from scipy.stats import chi2_contingency\n",
        "\n",
        "\n",
        "df = pd.read_csv('covid.csv')\n",
        "df = df.dropna(subset=['COVID-19 Deaths'])\n",
        "df['No COVID-19 Deaths'] = df['Number of Mentions'] - df['COVID-19 Deaths']\n",
        "filtered_df = df[df['Age Group'].isin(['25-34', '35-44'])]\n",
        "\n",
        "\n",
        "sample_df = filtered_df.sample(n=2000)\n",
        "\n",
        "\n",
        "total_deaths_25_34 = sample_df.loc[sample_df['Age Group'] == '25-34', 'COVID-19 Deaths'].sum()\n",
        "no_deaths_25_34 = sample_df.loc[sample_df['Age Group'] == '25-34', 'No COVID-19 Deaths'].sum()\n",
        "total_deaths_35_44 = sample_df.loc[sample_df['Age Group'] == '35-44', 'COVID-19 Deaths'].sum()\n",
        "no_deaths_35_44 = sample_df.loc[sample_df['Age Group'] == '35-44', 'No COVID-19 Deaths'].sum()"
      ],
      "metadata": {
        "id": "Uwb3h9aNriPk"
      },
      "execution_count": null,
      "outputs": []
    },
    {
      "cell_type": "code",
      "source": [
        "total_deaths_25_34 = sample_df.loc[sample_df['Age Group'] == '25-34', 'COVID-19 Deaths'].sum()\n",
        "no_deaths_25_34 = sample_df.loc[sample_df['Age Group'] == '25-34', 'No COVID-19 Deaths'].sum()\n",
        "total_deaths_35_44 = sample_df.loc[sample_df['Age Group'] == '35-44', 'COVID-19 Deaths'].sum()\n",
        "no_deaths_35_44 = sample_df.loc[sample_df['Age Group'] == '35-44', 'No COVID-19 Deaths'].sum()"
      ],
      "metadata": {
        "id": "xCNPiiwzcPwh"
      },
      "execution_count": null,
      "outputs": []
    },
    {
      "cell_type": "code",
      "source": [
        "from IPython.display import display\n",
        "contingency_table = pd.DataFrame({\n",
        "    'COVID-19 Deaths': [total_deaths_25_34, total_deaths_35_44],\n",
        "    'No COVID-19 Deaths': [no_deaths_25_34, no_deaths_35_44]\n",
        "}, index=['25-34', '35-44'])\n",
        "\n",
        "\n",
        "display(contingency_table)"
      ],
      "metadata": {
        "id": "AH_F2PmicWlG",
        "colab": {
          "base_uri": "https://localhost:8080/",
          "height": 164
        },
        "outputId": "f154a252-c271-4714-a5f6-10ca08a7b88e"
      },
      "execution_count": null,
      "outputs": [
        {
          "output_type": "display_data",
          "data": {
            "text/plain": [
              "       COVID-19 Deaths  No COVID-19 Deaths\n",
              "25-34           4358.0               302.0\n",
              "35-44          11163.0               454.0"
            ],
            "text/html": [
              "\n",
              "  <div id=\"df-0fbdcd3e-a676-4952-a9a5-2aafc5fa209f\" class=\"colab-df-container\">\n",
              "    <div>\n",
              "<style scoped>\n",
              "    .dataframe tbody tr th:only-of-type {\n",
              "        vertical-align: middle;\n",
              "    }\n",
              "\n",
              "    .dataframe tbody tr th {\n",
              "        vertical-align: top;\n",
              "    }\n",
              "\n",
              "    .dataframe thead th {\n",
              "        text-align: right;\n",
              "    }\n",
              "</style>\n",
              "<table border=\"1\" class=\"dataframe\">\n",
              "  <thead>\n",
              "    <tr style=\"text-align: right;\">\n",
              "      <th></th>\n",
              "      <th>COVID-19 Deaths</th>\n",
              "      <th>No COVID-19 Deaths</th>\n",
              "    </tr>\n",
              "  </thead>\n",
              "  <tbody>\n",
              "    <tr>\n",
              "      <th>25-34</th>\n",
              "      <td>4358.0</td>\n",
              "      <td>302.0</td>\n",
              "    </tr>\n",
              "    <tr>\n",
              "      <th>35-44</th>\n",
              "      <td>11163.0</td>\n",
              "      <td>454.0</td>\n",
              "    </tr>\n",
              "  </tbody>\n",
              "</table>\n",
              "</div>\n",
              "    <div class=\"colab-df-buttons\">\n",
              "\n",
              "  <div class=\"colab-df-container\">\n",
              "    <button class=\"colab-df-convert\" onclick=\"convertToInteractive('df-0fbdcd3e-a676-4952-a9a5-2aafc5fa209f')\"\n",
              "            title=\"Convert this dataframe to an interactive table.\"\n",
              "            style=\"display:none;\">\n",
              "\n",
              "  <svg xmlns=\"http://www.w3.org/2000/svg\" height=\"24px\" viewBox=\"0 -960 960 960\">\n",
              "    <path d=\"M120-120v-720h720v720H120Zm60-500h600v-160H180v160Zm220 220h160v-160H400v160Zm0 220h160v-160H400v160ZM180-400h160v-160H180v160Zm440 0h160v-160H620v160ZM180-180h160v-160H180v160Zm440 0h160v-160H620v160Z\"/>\n",
              "  </svg>\n",
              "    </button>\n",
              "\n",
              "  <style>\n",
              "    .colab-df-container {\n",
              "      display:flex;\n",
              "      gap: 12px;\n",
              "    }\n",
              "\n",
              "    .colab-df-convert {\n",
              "      background-color: #E8F0FE;\n",
              "      border: none;\n",
              "      border-radius: 50%;\n",
              "      cursor: pointer;\n",
              "      display: none;\n",
              "      fill: #1967D2;\n",
              "      height: 32px;\n",
              "      padding: 0 0 0 0;\n",
              "      width: 32px;\n",
              "    }\n",
              "\n",
              "    .colab-df-convert:hover {\n",
              "      background-color: #E2EBFA;\n",
              "      box-shadow: 0px 1px 2px rgba(60, 64, 67, 0.3), 0px 1px 3px 1px rgba(60, 64, 67, 0.15);\n",
              "      fill: #174EA6;\n",
              "    }\n",
              "\n",
              "    .colab-df-buttons div {\n",
              "      margin-bottom: 4px;\n",
              "    }\n",
              "\n",
              "    [theme=dark] .colab-df-convert {\n",
              "      background-color: #3B4455;\n",
              "      fill: #D2E3FC;\n",
              "    }\n",
              "\n",
              "    [theme=dark] .colab-df-convert:hover {\n",
              "      background-color: #434B5C;\n",
              "      box-shadow: 0px 1px 3px 1px rgba(0, 0, 0, 0.15);\n",
              "      filter: drop-shadow(0px 1px 2px rgba(0, 0, 0, 0.3));\n",
              "      fill: #FFFFFF;\n",
              "    }\n",
              "  </style>\n",
              "\n",
              "    <script>\n",
              "      const buttonEl =\n",
              "        document.querySelector('#df-0fbdcd3e-a676-4952-a9a5-2aafc5fa209f button.colab-df-convert');\n",
              "      buttonEl.style.display =\n",
              "        google.colab.kernel.accessAllowed ? 'block' : 'none';\n",
              "\n",
              "      async function convertToInteractive(key) {\n",
              "        const element = document.querySelector('#df-0fbdcd3e-a676-4952-a9a5-2aafc5fa209f');\n",
              "        const dataTable =\n",
              "          await google.colab.kernel.invokeFunction('convertToInteractive',\n",
              "                                                    [key], {});\n",
              "        if (!dataTable) return;\n",
              "\n",
              "        const docLinkHtml = 'Like what you see? Visit the ' +\n",
              "          '<a target=\"_blank\" href=https://colab.research.google.com/notebooks/data_table.ipynb>data table notebook</a>'\n",
              "          + ' to learn more about interactive tables.';\n",
              "        element.innerHTML = '';\n",
              "        dataTable['output_type'] = 'display_data';\n",
              "        await google.colab.output.renderOutput(dataTable, element);\n",
              "        const docLink = document.createElement('div');\n",
              "        docLink.innerHTML = docLinkHtml;\n",
              "        element.appendChild(docLink);\n",
              "      }\n",
              "    </script>\n",
              "  </div>\n",
              "\n",
              "\n",
              "<div id=\"df-34f62915-8294-4821-bb10-e341281103ee\">\n",
              "  <button class=\"colab-df-quickchart\" onclick=\"quickchart('df-34f62915-8294-4821-bb10-e341281103ee')\"\n",
              "            title=\"Suggest charts\"\n",
              "            style=\"display:none;\">\n",
              "\n",
              "<svg xmlns=\"http://www.w3.org/2000/svg\" height=\"24px\"viewBox=\"0 0 24 24\"\n",
              "     width=\"24px\">\n",
              "    <g>\n",
              "        <path d=\"M19 3H5c-1.1 0-2 .9-2 2v14c0 1.1.9 2 2 2h14c1.1 0 2-.9 2-2V5c0-1.1-.9-2-2-2zM9 17H7v-7h2v7zm4 0h-2V7h2v10zm4 0h-2v-4h2v4z\"/>\n",
              "    </g>\n",
              "</svg>\n",
              "  </button>\n",
              "\n",
              "<style>\n",
              "  .colab-df-quickchart {\n",
              "      --bg-color: #E8F0FE;\n",
              "      --fill-color: #1967D2;\n",
              "      --hover-bg-color: #E2EBFA;\n",
              "      --hover-fill-color: #174EA6;\n",
              "      --disabled-fill-color: #AAA;\n",
              "      --disabled-bg-color: #DDD;\n",
              "  }\n",
              "\n",
              "  [theme=dark] .colab-df-quickchart {\n",
              "      --bg-color: #3B4455;\n",
              "      --fill-color: #D2E3FC;\n",
              "      --hover-bg-color: #434B5C;\n",
              "      --hover-fill-color: #FFFFFF;\n",
              "      --disabled-bg-color: #3B4455;\n",
              "      --disabled-fill-color: #666;\n",
              "  }\n",
              "\n",
              "  .colab-df-quickchart {\n",
              "    background-color: var(--bg-color);\n",
              "    border: none;\n",
              "    border-radius: 50%;\n",
              "    cursor: pointer;\n",
              "    display: none;\n",
              "    fill: var(--fill-color);\n",
              "    height: 32px;\n",
              "    padding: 0;\n",
              "    width: 32px;\n",
              "  }\n",
              "\n",
              "  .colab-df-quickchart:hover {\n",
              "    background-color: var(--hover-bg-color);\n",
              "    box-shadow: 0 1px 2px rgba(60, 64, 67, 0.3), 0 1px 3px 1px rgba(60, 64, 67, 0.15);\n",
              "    fill: var(--button-hover-fill-color);\n",
              "  }\n",
              "\n",
              "  .colab-df-quickchart-complete:disabled,\n",
              "  .colab-df-quickchart-complete:disabled:hover {\n",
              "    background-color: var(--disabled-bg-color);\n",
              "    fill: var(--disabled-fill-color);\n",
              "    box-shadow: none;\n",
              "  }\n",
              "\n",
              "  .colab-df-spinner {\n",
              "    border: 2px solid var(--fill-color);\n",
              "    border-color: transparent;\n",
              "    border-bottom-color: var(--fill-color);\n",
              "    animation:\n",
              "      spin 1s steps(1) infinite;\n",
              "  }\n",
              "\n",
              "  @keyframes spin {\n",
              "    0% {\n",
              "      border-color: transparent;\n",
              "      border-bottom-color: var(--fill-color);\n",
              "      border-left-color: var(--fill-color);\n",
              "    }\n",
              "    20% {\n",
              "      border-color: transparent;\n",
              "      border-left-color: var(--fill-color);\n",
              "      border-top-color: var(--fill-color);\n",
              "    }\n",
              "    30% {\n",
              "      border-color: transparent;\n",
              "      border-left-color: var(--fill-color);\n",
              "      border-top-color: var(--fill-color);\n",
              "      border-right-color: var(--fill-color);\n",
              "    }\n",
              "    40% {\n",
              "      border-color: transparent;\n",
              "      border-right-color: var(--fill-color);\n",
              "      border-top-color: var(--fill-color);\n",
              "    }\n",
              "    60% {\n",
              "      border-color: transparent;\n",
              "      border-right-color: var(--fill-color);\n",
              "    }\n",
              "    80% {\n",
              "      border-color: transparent;\n",
              "      border-right-color: var(--fill-color);\n",
              "      border-bottom-color: var(--fill-color);\n",
              "    }\n",
              "    90% {\n",
              "      border-color: transparent;\n",
              "      border-bottom-color: var(--fill-color);\n",
              "    }\n",
              "  }\n",
              "</style>\n",
              "\n",
              "  <script>\n",
              "    async function quickchart(key) {\n",
              "      const quickchartButtonEl =\n",
              "        document.querySelector('#' + key + ' button');\n",
              "      quickchartButtonEl.disabled = true;  // To prevent multiple clicks.\n",
              "      quickchartButtonEl.classList.add('colab-df-spinner');\n",
              "      try {\n",
              "        const charts = await google.colab.kernel.invokeFunction(\n",
              "            'suggestCharts', [key], {});\n",
              "      } catch (error) {\n",
              "        console.error('Error during call to suggestCharts:', error);\n",
              "      }\n",
              "      quickchartButtonEl.classList.remove('colab-df-spinner');\n",
              "      quickchartButtonEl.classList.add('colab-df-quickchart-complete');\n",
              "    }\n",
              "    (() => {\n",
              "      let quickchartButtonEl =\n",
              "        document.querySelector('#df-34f62915-8294-4821-bb10-e341281103ee button');\n",
              "      quickchartButtonEl.style.display =\n",
              "        google.colab.kernel.accessAllowed ? 'block' : 'none';\n",
              "    })();\n",
              "  </script>\n",
              "</div>\n",
              "    </div>\n",
              "  </div>\n"
            ],
            "application/vnd.google.colaboratory.module+javascript": "\n      import \"https://ssl.gstatic.com/colaboratory/data_table/881c4a0d49046431/data_table.js\";\n\n      const table = window.createDataTable({\n        data: [[\"25-34\",\n{\n            'v': 4358.0,\n            'f': \"4358.0\",\n        },\n{\n            'v': 302.0,\n            'f': \"302.0\",\n        }],\n [\"35-44\",\n{\n            'v': 11163.0,\n            'f': \"11163.0\",\n        },\n{\n            'v': 454.0,\n            'f': \"454.0\",\n        }]],\n        columns: [[\"string\", \"index\"], [\"number\", \"COVID-19 Deaths\"], [\"number\", \"No COVID-19 Deaths\"]],\n        columnOptions: [{\"width\": \"1px\", \"className\": \"index_column\"}],\n        rowsPerPage: 25,\n        helpUrl: \"https://colab.research.google.com/notebooks/data_table.ipynb\",\n        suppressOutputScrolling: true,\n        minimumWidth: undefined,\n      });\n\n      function appendQuickchartButton(parentElement) {\n        let quickchartButtonContainerElement = document.createElement('div');\n        quickchartButtonContainerElement.innerHTML = `\n<div id=\"df-2d72b418-541e-4076-bd2d-de579d035671\">\n  <button class=\"colab-df-quickchart\" onclick=\"quickchart('df-2d72b418-541e-4076-bd2d-de579d035671')\"\n            title=\"Suggest charts\"\n            style=\"display:none;\">\n    \n<svg xmlns=\"http://www.w3.org/2000/svg\" height=\"24px\"viewBox=\"0 0 24 24\"\n     width=\"24px\">\n    <g>\n        <path d=\"M19 3H5c-1.1 0-2 .9-2 2v14c0 1.1.9 2 2 2h14c1.1 0 2-.9 2-2V5c0-1.1-.9-2-2-2zM9 17H7v-7h2v7zm4 0h-2V7h2v10zm4 0h-2v-4h2v4z\"/>\n    </g>\n</svg>\n  </button>\n  \n<style>\n  .colab-df-quickchart {\n      --bg-color: #E8F0FE;\n      --fill-color: #1967D2;\n      --hover-bg-color: #E2EBFA;\n      --hover-fill-color: #174EA6;\n      --disabled-fill-color: #AAA;\n      --disabled-bg-color: #DDD;\n  }\n\n  [theme=dark] .colab-df-quickchart {\n      --bg-color: #3B4455;\n      --fill-color: #D2E3FC;\n      --hover-bg-color: #434B5C;\n      --hover-fill-color: #FFFFFF;\n      --disabled-bg-color: #3B4455;\n      --disabled-fill-color: #666;\n  }\n\n  .colab-df-quickchart {\n    background-color: var(--bg-color);\n    border: none;\n    border-radius: 50%;\n    cursor: pointer;\n    display: none;\n    fill: var(--fill-color);\n    height: 32px;\n    padding: 0;\n    width: 32px;\n  }\n\n  .colab-df-quickchart:hover {\n    background-color: var(--hover-bg-color);\n    box-shadow: 0 1px 2px rgba(60, 64, 67, 0.3), 0 1px 3px 1px rgba(60, 64, 67, 0.15);\n    fill: var(--button-hover-fill-color);\n  }\n\n  .colab-df-quickchart-complete:disabled,\n  .colab-df-quickchart-complete:disabled:hover {\n    background-color: var(--disabled-bg-color);\n    fill: var(--disabled-fill-color);\n    box-shadow: none;\n  }\n\n  .colab-df-spinner {\n    border: 2px solid var(--fill-color);\n    border-color: transparent;\n    border-bottom-color: var(--fill-color);\n    animation:\n      spin 1s steps(1) infinite;\n  }\n\n  @keyframes spin {\n    0% {\n      border-color: transparent;\n      border-bottom-color: var(--fill-color);\n      border-left-color: var(--fill-color);\n    }\n    20% {\n      border-color: transparent;\n      border-left-color: var(--fill-color);\n      border-top-color: var(--fill-color);\n    }\n    30% {\n      border-color: transparent;\n      border-left-color: var(--fill-color);\n      border-top-color: var(--fill-color);\n      border-right-color: var(--fill-color);\n    }\n    40% {\n      border-color: transparent;\n      border-right-color: var(--fill-color);\n      border-top-color: var(--fill-color);\n    }\n    60% {\n      border-color: transparent;\n      border-right-color: var(--fill-color);\n    }\n    80% {\n      border-color: transparent;\n      border-right-color: var(--fill-color);\n      border-bottom-color: var(--fill-color);\n    }\n    90% {\n      border-color: transparent;\n      border-bottom-color: var(--fill-color);\n    }\n  }\n</style>\n\n  <script>\n    async function quickchart(key) {\n      const quickchartButtonEl =\n        document.querySelector('#' + key + ' button');\n      quickchartButtonEl.disabled = true;  // To prevent multiple clicks.\n      quickchartButtonEl.classList.add('colab-df-spinner');\n      try {\n        const charts = await google.colab.kernel.invokeFunction(\n            'suggestCharts', [key], {});\n      } catch (error) {\n        console.error('Error during call to suggestCharts:', error);\n      }\n      quickchartButtonEl.classList.remove('colab-df-spinner');\n      quickchartButtonEl.classList.add('colab-df-quickchart-complete');\n    }\n    (() => {\n      let quickchartButtonEl =\n        document.querySelector('#df-2d72b418-541e-4076-bd2d-de579d035671 button');\n      quickchartButtonEl.style.display =\n        google.colab.kernel.accessAllowed ? 'block' : 'none';\n    })();\n  </script>\n</div>`;\n        parentElement.appendChild(quickchartButtonContainerElement);\n      }\n\n      appendQuickchartButton(table);\n    "
          },
          "metadata": {}
        }
      ]
    },
    {
      "cell_type": "code",
      "source": [
        "a=contingency_table['COVID-19 Deaths'][0]\n",
        "d=contingency_table['No COVID-19 Deaths'][1]\n",
        "b=contingency_table['No COVID-19 Deaths'][0]\n",
        "c=contingency_table['COVID-19 Deaths'][1]\n",
        "print(\"column1 total\",a+c)\n",
        "print(\"column2 total\",b+d)\n",
        "print(\"row1 total\",a+b)\n",
        "print(\"row2 total\",c+d)\n",
        "N=a+b+c+d\n",
        "print(\"Total:\",N)\n",
        "alpha=0.05\n",
        "criticalvalue=3.841\n",
        "chisquarestatistic=N*(a*d-b*c)**2/((a+b)*(c+d)*(a+c)*(b+d))\n",
        "print(\"Level of signifance alpha value is \",alpha)\n",
        "print(\"chisquare critical value is\",criticalvalue)\n",
        "\n",
        "print(\"chisquare calculated value is \",chisquarestatistic)\n",
        "if(chisquarestatistic>criticalvalue):\n",
        "  print(\"Null hypothesis is rejected\")\n",
        "else:\n",
        "  print(\"Null hypothesis is accepted\")"
      ],
      "metadata": {
        "id": "jHRbkgEXcakA",
        "colab": {
          "base_uri": "https://localhost:8080/"
        },
        "outputId": "5566a1da-83b6-45ac-c22c-36d92a771774"
      },
      "execution_count": null,
      "outputs": [
        {
          "output_type": "stream",
          "name": "stdout",
          "text": [
            "column1 total 15521.0\n",
            "column2 total 756.0\n",
            "row1 total 4660.0\n",
            "row2 total 11617.0\n",
            "Total: 16277.0\n",
            "Level of signifance alpha value is  0.05\n",
            "chisquare critical value is 3.841\n",
            "chisquare calculated value is  49.70091362024368\n",
            "Null hypothesis is rejected\n"
          ]
        }
      ]
    },
    {
      "cell_type": "code",
      "source": [
        "yatesstatisitc=N*(abs(a*d-b*c)-N/2)**2/((a+b)*(c+d)*(a+c)*(b+d))\n",
        "print(\"Chi-square test : Yates Correction\")\n",
        "\n",
        "print(\"Level of signifance alpha value is \",alpha)\n",
        "print(\"chisquare critical value is\",criticalvalue)\n",
        "\n",
        "print(\"chisquare calculated value is \",yatesstatisitc)\n",
        "if(yatesstatisitc>criticalvalue):\n",
        "  print(\"Null hypothesis is rejected\")\n",
        "else:\n",
        "  print(\"Null hypothesis is accepted\")"
      ],
      "metadata": {
        "id": "n7pzmcrjcgGT",
        "colab": {
          "base_uri": "https://localhost:8080/"
        },
        "outputId": "f08221e5-8975-446f-a0d2-5b6825430144"
      },
      "execution_count": null,
      "outputs": [
        {
          "output_type": "stream",
          "name": "stdout",
          "text": [
            "Chi-square test : Yates Correction\n",
            "Level of signifance alpha value is  0.05\n",
            "chisquare critical value is 3.841\n",
            "chisquare calculated value is  49.1217353919164\n",
            "Null hypothesis is rejected\n"
          ]
        }
      ]
    },
    {
      "cell_type": "markdown",
      "source": [
        "---\n",
        "\n",
        "# Statistical analysis of Unit 5 - Estimation of Sample Size"
      ],
      "metadata": {
        "id": "ocnlWsfRnwUr"
      }
    },
    {
      "cell_type": "markdown",
      "source": [
        "## **Sample size One sample For single mean**"
      ],
      "metadata": {
        "id": "PIscv2PaZU8j"
      }
    },
    {
      "cell_type": "markdown",
      "source": [
        "We aim to estimate the average number of COVID-19 deaths in the United States for different age groups within the population. Our objective is to determine the sample size required to ensure the margin of error in our estimation is less than 5 deaths of the true mean, with a confidence level of 95%"
      ],
      "metadata": {
        "id": "mFB2Qm60Zee3"
      }
    },
    {
      "cell_type": "code",
      "source": [
        "import pandas as pd\n",
        "from sklearn.preprocessing import StandardScaler\n",
        "df = pd.read_csv(\"covid.csv\")\n",
        "columns_to_normalize = ['COVID-19 Deaths']\n",
        "scaler = StandardScaler()\n",
        "df[columns_to_normalize] = scaler.fit_transform(df[columns_to_normalize])\n",
        "desired_std_range = (10, 100)\n",
        "current_std = df['COVID-19 Deaths'].std()\n",
        "scaling_factor = (desired_std_range[1] - desired_std_range[0]) / current_std\n",
        "df['COVID-19 Deaths'] *= scaling_factor\n",
        "std_covid_deaths = df['COVID-19 Deaths'].std()\n",
        "print(f\"Standard Deviation of COVID-19 Deaths: {std_covid_deaths}\")"
      ],
      "metadata": {
        "id": "B67tDxC6V00f",
        "colab": {
          "base_uri": "https://localhost:8080/"
        },
        "outputId": "70c7d429-72ed-4067-d2b6-bf9eb9b8fa28"
      },
      "execution_count": null,
      "outputs": [
        {
          "output_type": "stream",
          "name": "stdout",
          "text": [
            "Standard Deviation of COVID-19 Deaths: 90.0\n"
          ]
        }
      ]
    },
    {
      "cell_type": "code",
      "source": [
        "from math import ceil\n",
        "\n",
        "def samplesizeforonesample(z,s,d):\n",
        "  output=(z*s/d)**2\n",
        "  return ceil(output)\n",
        "\n",
        "d=5\n",
        "s=std_covid_deaths\n",
        "z=1.96\n",
        "n=samplesizeforonesample(z,s,d)\n",
        "print(\"Value of z is \",z)\n",
        "print(\"standard error of mean is\",d)\n",
        "print(\"Required Sample Should contain \"+str(n)+\" elements\")\n"
      ],
      "metadata": {
        "id": "4ahjTDBVn9Fg",
        "colab": {
          "base_uri": "https://localhost:8080/"
        },
        "outputId": "dd6701b6-e8c8-423a-c3e7-dd531c27ea97"
      },
      "execution_count": null,
      "outputs": [
        {
          "output_type": "stream",
          "name": "stdout",
          "text": [
            "Value of z is  1.96\n",
            "standard error of mean is 5\n",
            "Required Sample Should contain 1245 elements\n"
          ]
        }
      ]
    },
    {
      "cell_type": "markdown",
      "source": [
        "## **Sample Size for a Proportion**"
      ],
      "metadata": {
        "id": "Z9aEWNynaF72"
      }
    },
    {
      "cell_type": "markdown",
      "source": [
        "The objective is to determine the sample size needed to estimate the proportion of COVID-19 deaths in the age group 25-34 years in the United States. The goal is to achieve a confidence level of 95% with a maximum allowable error between the true proportion and the sample proportion of less than 1%."
      ],
      "metadata": {
        "id": "HlHzTLHeaL5g"
      }
    },
    {
      "cell_type": "code",
      "source": [
        "import pandas as pd\n",
        "import numpy as np\n",
        "from scipy.stats import chi2_contingency\n",
        "\n",
        "\n",
        "df = pd.read_csv('covid.csv')\n",
        "df = df.dropna(subset=['COVID-19 Deaths'])\n",
        "total_mentions =df[df['Age Group'] == '25-34']['Number of Mentions'].sum()\n",
        "age_group_25_34_deaths = df[df['Age Group'] == '25-34']['COVID-19 Deaths'].sum()"
      ],
      "metadata": {
        "id": "DnH57rwDWCy0"
      },
      "execution_count": null,
      "outputs": []
    },
    {
      "cell_type": "code",
      "source": [
        "from math import ceil\n",
        "def samplesizeforproportion(z,p,q,E):\n",
        "  output=(z**2)*p*q/(E**2)\n",
        "  return ceil(output)\n",
        "\n",
        "z=1.96\n",
        "E=0.04\n",
        "p=age_group_25_34_deaths/total_mentions\n",
        "q=1-p\n",
        "\n",
        "n=samplesizeforproportion(z,p,q,E)\n",
        "print(\"maximum allowance for error between true proportion and sample proportion E is\",E)\n",
        "print(\"estimated proportion of success \",p)\n",
        "print(\"Required Sample Should contain \"+str(n)+\" elements\")"
      ],
      "metadata": {
        "id": "bvJDTOx7aSCt",
        "colab": {
          "base_uri": "https://localhost:8080/"
        },
        "outputId": "1d6cfa9c-baa4-4b03-ad44-995344f6026c"
      },
      "execution_count": null,
      "outputs": [
        {
          "output_type": "stream",
          "name": "stdout",
          "text": [
            "maximum allowance for error between true proportion and sample proportion E is 0.04\n",
            "estimated proportion of success  0.8901258264022179\n",
            "Required Sample Should contain 235 elements\n"
          ]
        }
      ]
    },
    {
      "cell_type": "markdown",
      "source": [
        "## **Sample Size for two-samples for two mean**"
      ],
      "metadata": {
        "id": "1zOiw6Z_aciR"
      }
    },
    {
      "cell_type": "markdown",
      "source": [
        "The objective of this study is to estimate the average number of COVID-19 deaths in the United States for different age groups within the population. The goal is to determine the sample size required to detect a difference of d = 20 d=20 or more COVID-19 deaths in a specific age group, with a significance level (α) of 0.05 and a power (1−β) of 0.90. The dataset provides information on COVID-19 deaths"
      ],
      "metadata": {
        "id": "Tg_dEzkfajKz"
      }
    },
    {
      "cell_type": "code",
      "source": [
        "import pandas as pd\n",
        "import numpy as np\n",
        "\n",
        "df = pd.read_csv('covid.csv')\n",
        "df = df.dropna(subset=['COVID-19 Deaths'])\n",
        "\n",
        "\n",
        "mean_25_34 = df[df['Age Group'] == '25-34']['COVID-19 Deaths'].mean()\n",
        "mean_35_44 = df[df['Age Group'] == '35-44']['COVID-19 Deaths'].mean()"
      ],
      "metadata": {
        "id": "roGNhqrKWWrt"
      },
      "execution_count": null,
      "outputs": []
    },
    {
      "cell_type": "code",
      "source": [
        "from math import ceil\n",
        "def samplesizefortwomeans(zalpha,zbeta,d,sigma):\n",
        "  output=4*(sigma**2)*(zalpha+zbeta)**2/(d**2)\n",
        "  return ceil(output)\n",
        "\n",
        "zalpha=1.96\n",
        "zbeta=1.282\n",
        "d=mean_25_34-mean_35_44\n",
        "sigma=26\n",
        "n=samplesizefortwomeans(zalpha,zbeta,d,sigma)\n",
        "print(\"required sample size per group is approximately\",ceil(n/2))"
      ],
      "metadata": {
        "id": "dBeFfKcZay7B",
        "colab": {
          "base_uri": "https://localhost:8080/"
        },
        "outputId": "38b17c34-4731-44bc-a2c8-b9e13bf2dc05"
      },
      "execution_count": null,
      "outputs": [
        {
          "output_type": "stream",
          "name": "stdout",
          "text": [
            "required sample size per group is approximately 145\n"
          ]
        }
      ]
    },
    {
      "cell_type": "markdown",
      "source": [
        "## **Sample Size for two Proportion**\n"
      ],
      "metadata": {
        "id": "iChvkFKAa5Dd"
      }
    },
    {
      "cell_type": "markdown",
      "source": [
        "The goal is to determine the sample sizes needed to test whether there is a significant difference in the proportion of COVID-19 deaths between the age group 25-34 and the entire population. It is expected that the proportion of COVID-19 deaths in the age group 25-34 is different from the overall proportion. The significance level (α) is set at 0.05, and the study aims to achieve a power (1−β) of 0.9, ensuring a high probability of detecting a real difference if it exists."
      ],
      "metadata": {
        "id": "HsVZi3YRbAzv"
      }
    },
    {
      "cell_type": "code",
      "source": [
        "import pandas as pd\n",
        "import numpy as np\n",
        "from scipy.stats import chi2_contingency\n",
        "\n",
        "\n",
        "df = pd.read_csv('covid.csv')\n",
        "df = df.dropna(subset=['COVID-19 Deaths'])\n",
        "total_mentions1 =df[df['Age Group'] == '25-34']['Number of Mentions'].sum()\n",
        "age_group_25_34_deaths = df[df['Age Group'] == '25-34']['COVID-19 Deaths'].sum()\n",
        "total_mentions2 =df[df['Age Group'] == '35-44']['Number of Mentions'].sum()\n",
        "age_group_35_44_deaths = df[df['Age Group'] == '35-44']['COVID-19 Deaths'].sum()"
      ],
      "metadata": {
        "id": "-73T9ItAWj9N"
      },
      "execution_count": null,
      "outputs": []
    },
    {
      "cell_type": "code",
      "source": [
        "from math import ceil\n",
        "def samplesizefortwoproportions(zalpha,zbeta,p1,p2,d):\n",
        "  output=4*(zalpha+zbeta)**2*(((p1+p2)/2)*(1-((p1+p2)/2)))/(d**2)\n",
        "  return ceil(output)\n",
        "\n",
        "zalpha=1.96\n",
        "zbeta=1.282\n",
        "p1=age_group_25_34_deaths/total_mentions1\n",
        "p2=age_group_35_44_deaths/total_mentions2\n",
        "d=abs(p1-p2)\n",
        "print(d**2)\n",
        "n=samplesizefortwoproportions(zalpha,zbeta,p1,p2,d)\n",
        "print(\"proportion for age group 25-34 is\",p1)\n",
        "print(\"proportion for age group 35-44 is\",p2)\n",
        "print(\"required sample size per group is approximately\",ceil(n/2))"
      ],
      "metadata": {
        "id": "QGnJcX37bGSJ",
        "colab": {
          "base_uri": "https://localhost:8080/"
        },
        "outputId": "d325093d-fb00-4b8b-e958-1ec1da62001f"
      },
      "execution_count": null,
      "outputs": [
        {
          "output_type": "stream",
          "name": "stdout",
          "text": [
            "0.016698005359022328\n",
            "proportion for age group 25-34 is 0.8901258264022179\n",
            "proportion for age group 35-44 is 0.9068238317612403\n",
            "required sample size per group is approximately 6878\n"
          ]
        }
      ]
    }
  ]
}